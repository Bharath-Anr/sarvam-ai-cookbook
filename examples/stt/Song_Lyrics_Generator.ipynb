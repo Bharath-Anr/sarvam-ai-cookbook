{
  "nbformat": 4,
  "nbformat_minor": 0,
  "metadata": {
    "colab": {
      "provenance": []
    },
    "kernelspec": {
      "name": "python3",
      "display_name": "Python 3"
    },
    "language_info": {
      "name": "python"
    }
  },
  "cells": [
    {
      "cell_type": "markdown",
      "source": [
        "# **Song Lyrics Converter Notebook**\n",
        "\n",
        "This notebook uses Sarvam AI's Speech-to-Text (STT) API to transcribe audio files (e.g., songs) into text and extract lyrics.\n",
        "\n",
        "It supports .wav files and multiple languages, making it ideal for converting songs or spoken content into text.\n",
        "\n",
        "It works for extracting lyrics or transcribing audio content! 🎶"
      ],
      "metadata": {
        "id": "kpNJRgI6-7lB"
      }
    },
    {
      "cell_type": "markdown",
      "source": [
        "### **Step 1: Install Required Libraries**\n",
        "First, install the necessary libraries."
      ],
      "metadata": {
        "id": "8VMSHmJT-TF5"
      }
    },
    {
      "cell_type": "code",
      "source": [
        "!pip install requests"
      ],
      "metadata": {
        "id": "XaxIFI00_L8p"
      },
      "execution_count": null,
      "outputs": []
    },
    {
      "cell_type": "markdown",
      "source": [
        "## **Step 2: Import Libraries**\n",
        "Import the required libraries."
      ],
      "metadata": {
        "id": "SL7TRh3k_OAv"
      }
    },
    {
      "cell_type": "code",
      "source": [
        "import os\n",
        "import requests"
      ],
      "metadata": {
        "id": "JbBW8hLe_Pc2"
      },
      "execution_count": null,
      "outputs": []
    },
    {
      "cell_type": "markdown",
      "source": [
        "## **Step 3: Set Up API Key**\n",
        "\n",
        "\n",
        "To use the Saaras API, you need an API subscription key. Follow these steps to set up your API key:\n",
        "\n",
        "1. **Obtain your API key**: If you don’t have an API key, sign up on the [Sarvam AI Dashboard](https://dashboard.sarvam.ai/) to get one.\n",
        "2. **Replace the placeholder key**: In the code below, replace \"YOUR_SARVAM_AI_API_KEY\" with your actual API key."
      ],
      "metadata": {
        "id": "BazPT12I_Riv"
      }
    },
    {
      "cell_type": "code",
      "source": [
        "# Get your Sarvam AI API subscription key here: https://dashboard.sarvam.ai/admin\n",
        "SARVAM_API_KEY = \"YOUR_SARVAM_AI_API_KEY\""
      ],
      "metadata": {
        "id": "rcoOBSUM_Si1"
      },
      "execution_count": null,
      "outputs": []
    },
    {
      "cell_type": "markdown",
      "source": [
        "## **Step 4: Define the Transcription Function**\n",
        "Create a function to transcribe audio using Sarvam AI's STT API."
      ],
      "metadata": {
        "id": "gkaQFeqN_udE"
      }
    },
    {
      "cell_type": "code",
      "source": [
        "def transcribe_audio(file_path, language_code=\"hi-IN\"):\n",
        "    \"\"\"\n",
        "    Transcribe an audio file using Sarvam AI's Speech-to-Text API.\n",
        "    \"\"\"\n",
        "    url = \"https://api.sarvam.ai/speech-to-text\"\n",
        "    headers = {\n",
        "        \"api-subscription-key\": SARVAM_API_KEY,\n",
        "        \"Accept\": \"application/json\"\n",
        "    }\n",
        "    files = {\n",
        "        \"file\": (file_path, open(file_path, \"rb\"), \"audio/wav\")  # Explicitly set MIME type\n",
        "    }\n",
        "    data = {\n",
        "        \"language_code\": language_code,\n",
        "        \"model\": \"saarika:v2\",\n",
        "        \"with_timestamps\": \"false\"\n",
        "    }\n",
        "\n",
        "    try:\n",
        "        print(\"Sending request to Sarvam AI API...\")\n",
        "        response = requests.post(url, headers=headers, files=files, data=data)\n",
        "        response.raise_for_status()  # Raise an error for bad status codes\n",
        "        print(\"Request successful!\")\n",
        "        transcript = response.json().get(\"transcript\", \"\")\n",
        "        return transcript\n",
        "    except requests.exceptions.RequestException as e:\n",
        "        print(f\"Error during transcription: {e}\")\n",
        "        print(f\"Response content: {response.content}\")  # Print the response content for debugging\n",
        "        return None\n"
      ],
      "metadata": {
        "id": "kcGlySXw_zRa"
      },
      "execution_count": null,
      "outputs": []
    },
    {
      "cell_type": "markdown",
      "source": [
        "## **Step 5: Specify the Audio File**\n",
        "Provide the path to your local .wav file."
      ],
      "metadata": {
        "id": "wzOzMHyw_4KM"
      }
    },
    {
      "cell_type": "code",
      "source": [
        "# Specify the path to your local .wav file\n",
        "file_path = \"Memories(PagalNew.Com.Se).wav\"  # Replace with the path to your local .wav file\n",
        "print(f\"Using local file: {file_path}\")"
      ],
      "metadata": {
        "id": "IjyNYuua_7fM"
      },
      "execution_count": null,
      "outputs": []
    },
    {
      "cell_type": "markdown",
      "source": [
        "## **Step 6: Transcribe the Audio File**\n",
        "Call the transcribe_audio function to extract the lyrics."
      ],
      "metadata": {
        "id": "4mmXKzUnABHG"
      }
    },
    {
      "cell_type": "code",
      "source": [
        "# Transcribe the audio file\n",
        "lyrics = transcribe_audio(file_path)"
      ],
      "metadata": {
        "id": "leS_mIyFAAWO"
      },
      "execution_count": null,
      "outputs": []
    },
    {
      "cell_type": "markdown",
      "source": [
        "## **Step 7: Display and Save the Lyrics**\n",
        "Display the extracted lyrics and save them to a text file."
      ],
      "metadata": {
        "id": "WerR4AcxAHJ1"
      }
    },
    {
      "cell_type": "code",
      "source": [
        "# Display and save the lyrics\n",
        "if lyrics:\n",
        "    print(\"Lyrics extracted successfully!\")\n",
        "    print(\"\\n--- Lyrics ---\")\n",
        "    print(lyrics)\n",
        "\n",
        "    # Save the lyrics to a text file\n",
        "    output_file = \"song_lyrics.txt\"\n",
        "    with open(output_file, \"w\", encoding=\"utf-8\") as f:\n",
        "        f.write(lyrics)\n",
        "    print(f\"Lyrics saved to {output_file}\")\n",
        "else:\n",
        "    print(\"Failed to extract lyrics.\")"
      ],
      "metadata": {
        "id": "lY3idJILANRK"
      },
      "execution_count": null,
      "outputs": []
    },
    {
      "cell_type": "markdown",
      "source": [
        "## **Step 8: Run the Entire Workflow**\n",
        "Run all the chunks in sequence to transcribe the audio file and extract the lyrics."
      ],
      "metadata": {
        "id": "OY3C4CGuAQfr"
      }
    },
    {
      "cell_type": "markdown",
      "source": [
        "## **Example Output**\n",
        "If the input file contains a Hindi song, the output might look like this:\n",
        "\n",
        "```Using local file: Memories(PagalNew.Com.Se).wav\n",
        "Sending request to Sarvam AI API...\n",
        "Request successful!\n",
        "Lyrics extracted successfully!\n",
        "\n",
        "--- Lyrics ---\n",
        "हम हैं राही प्यार के, फिर मिलेंगे चलते चलते\n",
        "Lyrics saved to song_lyrics.txt```\n",
        "\n"
      ],
      "metadata": {
        "id": "n1P-P0A_AU0q"
      }
    },
    {
      "cell_type": "markdown",
      "source": [
        "\n",
        "\n",
        "### **Additional Resources**\n",
        "\n",
        "For more details, refer to the official **Saaras API documentation** and join the community for support:\n",
        "\n",
        "- **Documentation**: [docs.sarvam.ai](https://docs.sarvam.ai/)\n",
        "- **Community**: [Join the Discord Community](https://discord.gg/hTuVuPNF)\n",
        "\n",
        "### **Notes:**\n",
        "\n",
        "**File Format:** Ensure the file is in .wav format and has a sample rate of 16kHz.\n",
        "\n",
        "**API Key:** Double-check that the SARVAM_API_KEY is correctly set.\n",
        "\n",
        "**Error Handling:** If transcription fails, the error message and response content will be displayed for debugging.\n",
        "\n",
        "**Keep Building!** 🚀\n"
      ],
      "metadata": {
        "id": "NQKVUeCnAdFP"
      }
    },
    {
      "cell_type": "code",
      "source": [],
      "metadata": {
        "id": "Z3yHJJosEoI1"
      },
      "execution_count": null,
      "outputs": []
    }
  ]
}