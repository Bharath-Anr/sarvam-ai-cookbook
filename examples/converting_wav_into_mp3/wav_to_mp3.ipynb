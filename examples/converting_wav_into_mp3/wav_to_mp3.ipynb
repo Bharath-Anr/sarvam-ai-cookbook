{
  "nbformat": 4,
  "nbformat_minor": 0,
  "metadata": {
    "colab": {
      "provenance": []
    },
    "kernelspec": {
      "name": "python3",
      "display_name": "Python 3"
    },
    "language_info": {
      "name": "python"
    }
  },
  "cells": [
    {
      "cell_type": "markdown",
      "source": [
        "# **Convert .wav to .mp3 Using Python**\n",
        "\n",
        "This notebook demonstrates how to convert a `.wav` audio file to an `.mp3` file using the `pydub` library in Python. This is useful for reducing file size or making audio files compatible with devices or platforms that prefer `.mp3` format.\n",
        "\n",
        "---\n"
      ],
      "metadata": {
        "id": "Tpjy5XSW4GA_"
      }
    },
    {
      "cell_type": "markdown",
      "source": [
        "\n",
        "## **Steps to Convert .wav to .mp3**\n",
        "\n",
        "1. **Install Required Libraries**:  \n",
        "   Ensure you have the `pydub` library installed. You also need `ffmpeg` for handling audio formats.\n"
      ],
      "metadata": {
        "id": "NTS3IkAn4T-_"
      }
    },
    {
      "cell_type": "code",
      "execution_count": null,
      "metadata": {
        "colab": {
          "base_uri": "https://localhost:8080/"
        },
        "id": "CXBVuI4v6TPM",
        "outputId": "5b5fb3d2-529c-4e57-cb4b-0bb500a39c5e"
      },
      "outputs": [
        {
          "output_type": "stream",
          "name": "stdout",
          "text": [
            "Collecting pydub\n",
            "  Downloading pydub-0.25.1-py2.py3-none-any.whl.metadata (1.4 kB)\n",
            "Downloading pydub-0.25.1-py2.py3-none-any.whl (32 kB)\n",
            "Installing collected packages: pydub\n",
            "Successfully installed pydub-0.25.1\n"
          ]
        }
      ],
      "source": [
        "!pip install pydub"
      ]
    },
    {
      "cell_type": "markdown",
      "source": [
        "## **Run the below code**"
      ],
      "metadata": {
        "id": "KuNyytU856t6"
      }
    },
    {
      "cell_type": "code",
      "source": [
        "from pydub import AudioSegment\n",
        "\n",
        "# Load the .wav file\n",
        "wav_file = AudioSegment.from_wav(\"output0.wav\")\n",
        "\n",
        "# Export the file as .mp3\n",
        "wav_file.export(\"output_file.mp3\", format=\"mp3\")\n",
        "\n",
        "print(\"Conversion complete!\")"
      ],
      "metadata": {
        "colab": {
          "base_uri": "https://localhost:8080/"
        },
        "id": "GaMo3c_I6Ufx",
        "outputId": "a2e08346-6304-41ba-d993-5a014a551c6f"
      },
      "execution_count": null,
      "outputs": [
        {
          "output_type": "stream",
          "name": "stdout",
          "text": [
            "Conversion complete!\n"
          ]
        }
      ]
    },
    {
      "cell_type": "markdown",
      "source": [
        "\n",
        "\n",
        "### **Additional Resources**\n",
        "\n",
        "For more details, refer to the official **Sarvam AI API documentation** and join the community for support:\n",
        "\n",
        "- **Documentation**: [docs.sarvam.ai](https://docs.sarvam.ai/)\n",
        "- **Community**: [Join the Discord Community](https://discord.gg/hTuVuPNF)\n",
        "\n",
        "### **Notes:**\n",
        "\n",
        "**File Format:** Ensure the file is in .wav format and has a sample rate of 16kHz.\n",
        "\n",
        "**API Key:** Double-check that the SARVAM_API_KEY is correctly set.\n",
        "\n",
        "**Error Handling:** If transcription fails, the error message and response content will be displayed for debugging.\n",
        "\n",
        "**Keep Building!** 🚀\n"
      ],
      "metadata": {
        "id": "wobfmXYH6EbG"
      }
    }
  ]
}