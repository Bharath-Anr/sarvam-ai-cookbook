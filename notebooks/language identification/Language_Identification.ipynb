{
 "cells": [
  {
   "attachments": {},
   "cell_type": "markdown",
   "metadata": {},
   "source": [
    "# **📖 Language Identification API: A Hands-on Guide**  \n",
    "\n",
    "### **🔗 Overview**  \n",
    "This notebook demonstrates how to use the **Language Identification API** to detect the language code and script code.Also we will see how we can use lamgauge identification in transalte and transliterate to auto detetct the source code and do the resepctive trnSFORMATIONS\n",
    "\n",
    "## **Table of Contents**  \n",
    "\n",
    "<p>1. <a href=\"#installation\">Installation</a></p>  \n",
    "<p>2. <a href=\"#authentication\">Authentication</a></p>  \n",
    "<p>3. <a href=\"#modes\">Baisc Usage</a></p>  \n",
    "<p>4. <a href=\"#modes\">Auto Detection</a></p>  \n",
    "<p>5. <a href=\"#error-handling\">Error Handling</a></p>  \n",
    "<p>6. <a href=\"#conclusion\">Conclusion</a></p>  "
   ]
  },
  {
   "attachments": {},
   "cell_type": "markdown",
   "metadata": {},
   "source": [
    "## **1️⃣ Setup & Installation**  \n",
    "\n",
    "Before you begin, ensure you have the necessary Python libraries installed. Run the following commands to install the required packages:"
   ]
  },
  {
   "cell_type": "code",
   "execution_count": 1,
   "metadata": {},
   "outputs": [
    {
     "name": "stdout",
     "output_type": "stream",
     "text": [
      "Requirement already satisfied: requests in /Users/vinayakgavariya/.pyenv/versions/3.11.5/lib/python3.11/site-packages (2.32.3)\n",
      "Requirement already satisfied: charset-normalizer<4,>=2 in /Users/vinayakgavariya/.pyenv/versions/3.11.5/lib/python3.11/site-packages (from requests) (3.4.1)\n",
      "Requirement already satisfied: idna<4,>=2.5 in /Users/vinayakgavariya/.pyenv/versions/3.11.5/lib/python3.11/site-packages (from requests) (3.10)\n",
      "Requirement already satisfied: urllib3<3,>=1.21.1 in /Users/vinayakgavariya/.pyenv/versions/3.11.5/lib/python3.11/site-packages (from requests) (2.3.0)\n",
      "Requirement already satisfied: certifi>=2017.4.17 in /Users/vinayakgavariya/.pyenv/versions/3.11.5/lib/python3.11/site-packages (from requests) (2024.12.14)\n",
      "\n",
      "\u001b[1m[\u001b[0m\u001b[34;49mnotice\u001b[0m\u001b[1;39;49m]\u001b[0m\u001b[39;49m A new release of pip is available: \u001b[0m\u001b[31;49m23.2.1\u001b[0m\u001b[39;49m -> \u001b[0m\u001b[32;49m25.0.1\u001b[0m\n",
      "\u001b[1m[\u001b[0m\u001b[34;49mnotice\u001b[0m\u001b[1;39;49m]\u001b[0m\u001b[39;49m To update, run: \u001b[0m\u001b[32;49mpip install --upgrade pip\u001b[0m\n"
     ]
    }
   ],
   "source": [
    "!pip install requests"
   ]
  },
  {
   "cell_type": "code",
   "execution_count": 2,
   "metadata": {},
   "outputs": [],
   "source": [
    "import requests"
   ]
  },
  {
   "attachments": {},
   "cell_type": "markdown",
   "metadata": {},
   "source": [
    "## 2️⃣ **Authentication**\n",
    "\n",
    "\n",
    "To use the API, you need an API subscription key. Follow these steps to set up your API key:\n",
    "\n",
    "1. **Obtain your API key**: If you don’t have an API key, sign up on the [Sarvam AI Dashboard](https://dashboard.sarvam.ai/) to get one.\n",
    "2. **Replace the placeholder key**: In the code below, replace \"YOUR_SARVAM_AI_API_KEY\" with your actual API key."
   ]
  },
  {
   "cell_type": "code",
   "execution_count": 3,
   "metadata": {},
   "outputs": [],
   "source": [
    "SARVAM_API_KEY = \"d75d7bf3-b053-4084-ac80-c37561a35bfc\""
   ]
  },
  {
   "attachments": {},
   "cell_type": "markdown",
   "metadata": {},
   "source": [
    "## **3️⃣ Basic Usage**  \n",
    "\n",
    "The API requires a single key parameter:  \n",
    "\n",
    "✔ **`input`** – The text for which the language code and script code need to be detected.  \n",
    "\n",
    "🚫 **Note:** If the API is unable to detect the language or script, it will return `null` for both fields.  \n"
   ]
  },
  {
   "attachments": {},
   "cell_type": "markdown",
   "metadata": {},
   "source": [
    "### **Response Parameters**  \n",
    "\n",
    "- **`language_code`** (String) – The detected language in BCP-47 format.  Supported values:  \n",
    "  - `\"en-IN\"` (English - India)  \n",
    "  - `\"en-US\"` (English - United States)  \n",
    "  - `\"bn-IN\"` (Bengali - India)  \n",
    "  - `\"gu-IN\"` (Gujarati - India)  \n",
    "  - `\"hi-IN\"` (Hindi - India)  \n",
    "  - `\"kn-IN\"` (Kannada - India)  \n",
    "  - `\"ml-IN\"` (Malayalam - India)  \n",
    "  - `\"mr-IN\"` (Marathi - India)  \n",
    "  - `\"od-IN\"` (Odia - India)  \n",
    "  - `\"pa-IN\"` (Punjabi - India)  \n",
    "  - `\"ta-IN\"` (Tamil - India)  \n",
    "  - `\"te-IN\"` (Telugu - India)  \n",
    "  - `\"ur-IN\"` (Urdu - India)  \n",
    "\n",
    "\n"
   ]
  },
  {
   "attachments": {},
   "cell_type": "markdown",
   "metadata": {},
   "source": [
    "- **`script_code`** (String) – The detected writing script in ISO-15924 format.Supported values:  \n",
    "  - `\"Latn\"` → Latin (Roman script)  \n",
    "  - `\"Beng\"` → Bengali script  \n",
    "  - `\"Gujr\"` → Gujarati script  \n",
    "  - `\"Deva\"` → Devanagari script  \n",
    "  - `\"Knda\"` → Kannada script  \n",
    "  - `\"Mlym\"` → Malayalam script  \n",
    "  - `\"Orya\"` → Odia script  \n",
    "  - `\"Guru\"` → Gurmukhi (Punjabi) script  \n",
    "  - `\"Taml\"` → Tamil script  \n",
    "  - `\"Telu\"` → Telugu script  \n",
    "  - `\"Arab\"` → Arabic script  \n"
   ]
  },
  {
   "cell_type": "code",
   "execution_count": 4,
   "metadata": {},
   "outputs": [],
   "source": [
    "import requests\n",
    "\n",
    "url = \"https://api.sarvam.ai/text-lid\"\n",
    "headers = {\n",
    "    \"api-subscription-key\": SARVAM_API_KEY,\n",
    "    \"Content-Type\": \"application/json\"\n",
    "}"
   ]
  },
  {
   "cell_type": "code",
   "execution_count": 5,
   "metadata": {},
   "outputs": [],
   "source": [
    "example_text=\"hey, what is your name?\""
   ]
  },
  {
   "cell_type": "code",
   "execution_count": 6,
   "metadata": {},
   "outputs": [
    {
     "name": "stdout",
     "output_type": "stream",
     "text": [
      "\n",
      "=== Detection Results ===\n",
      "Detected Language Code: en-IN\n",
      "Detected Script Code: Latn\n",
      "\n"
     ]
    }
   ],
   "source": [
    "payload = {\n",
    "    \"input\": example_text\n",
    "}\n",
    "\n",
    "# Send API request\n",
    "response = requests.post(url, json=payload, headers=headers)\n",
    "\n",
    "# Process response\n",
    "if response.status_code == 200:\n",
    "    data = response.json()\n",
    "    language_code = data.get(\"language_code\", \"Language not detected\")\n",
    "    script_code = data.get(\"script_code\", \"Script not detected\")\n",
    "\n",
    "    print(\"\\n=== Detection Results ===\")\n",
    "    print(f\"Detected Language Code: {language_code}\")\n",
    "    print(f\"Detected Script Code: {script_code}\\n\")\n",
    "else:\n",
    "    print(f\"Error: {response.status_code}, {response.text}\")\n",
    "\n"
   ]
  },
  {
   "cell_type": "code",
   "execution_count": 7,
   "metadata": {},
   "outputs": [],
   "source": [
    "example_text=\"A'in jun aatinob'aal li maare ink'a' neketaw ru.\""
   ]
  },
  {
   "cell_type": "code",
   "execution_count": 8,
   "metadata": {},
   "outputs": [
    {
     "name": "stdout",
     "output_type": "stream",
     "text": [
      "\n",
      "=== Detection Results ===\n",
      "Detected Language Code: None\n",
      "Detected Script Code: None\n",
      "\n"
     ]
    }
   ],
   "source": [
    "payload = {\n",
    "    \"input\": example_text\n",
    "}\n",
    "\n",
    "# Send API request\n",
    "response = requests.post(url, json=payload, headers=headers)\n",
    "\n",
    "# Process response\n",
    "if response.status_code == 200:\n",
    "    data = response.json()\n",
    "    language_code = data.get(\"language_code\", \"Language not detected\")\n",
    "    script_code = data.get(\"script_code\", \"Script not detected\")\n",
    "\n",
    "    print(\"\\n=== Detection Results ===\")\n",
    "    print(f\"Detected Language Code: {language_code}\")\n",
    "    print(f\"Detected Script Code: {script_code}\\n\")\n",
    "else:\n",
    "    print(f\"Error: {response.status_code}, {response.text}\")\n",
    "\n"
   ]
  },
  {
   "attachments": {},
   "cell_type": "markdown",
   "metadata": {},
   "source": [
    "## **4️⃣ Auto Detection**  "
   ]
  },
  {
   "attachments": {},
   "cell_type": "markdown",
   "metadata": {},
   "source": [
    "\n",
    "\n",
    "To enable automatic language detection, pass `\"auto\"` as the `source_language_code`. The API will return the transliterated/translated text along with the detected source language code.  \n",
    "\n",
    "🚫 **Note:** In case of detection failure, manually specify the `source_language_code` with one of the supported language codes.  \n"
   ]
  },
  {
   "attachments": {},
   "cell_type": "markdown",
   "metadata": {},
   "source": [
    "If the API is unable to detect the language, the response will include an error message:\n",
    "\n",
    "```json\n",
    "{\n",
    "    \"error\": {\n",
    "        \"message\": \"Unable to detect the language of the input text. Please explicitly pass the `source_language_code` parameter with a supported language.\",\n",
    "        \"code\": \"unprocessable_entity_error\"\n",
    "    }\n",
    "}\n",
    "\n"
   ]
  },
  {
   "attachments": {},
   "cell_type": "markdown",
   "metadata": {},
   "source": [
    "### Auto Detection in Transliterate"
   ]
  },
  {
   "cell_type": "code",
   "execution_count": 9,
   "metadata": {},
   "outputs": [],
   "source": [
    "import requests\n",
    "\n",
    "# Define API request details\n",
    "url = \"https://api.sarvam.ai/transliterate\"\n",
    "headers = {\n",
    "    \"api-subscription-key\": SARVAM_API_KEY,\n",
    "    \"Content-Type\": \"application/json\"\n",
    "}"
   ]
  },
  {
   "cell_type": "code",
   "execution_count": 10,
   "metadata": {},
   "outputs": [
    {
     "name": "stdout",
     "output_type": "stream",
     "text": [
      "✅ Transliteration Successful!\n",
      "🔤 Transliterated Text: मुझे कल सुबह साढ़े नौ बजे अपॉइंटमेंट है\n",
      "🌍 Detected Source Language: hi-IN\n"
     ]
    }
   ],
   "source": [
    "payload = {\n",
    "    \"input\": \"मुझे कल 9:30am को appointment है\",\n",
    "    \"source_language_code\": \"auto\",\n",
    "    \"target_language_code\": \"hi-IN\",\n",
    "    \"spoken_form\": True,\n",
    "}\n",
    "\n",
    "# Send the request\n",
    "response = requests.post(url, json=payload, headers=headers)\n",
    "\n",
    "if response.status_code == 200:\n",
    "    response_data = response.json()\n",
    "    transliterated_text = response_data.get(\"transliterated_text\", \"Translation not available\")\n",
    "    source_language_code = response_data.get(\"source_language_code\")\n",
    "\n",
    "    print(f\"✅ Transliteration Successful!\\n🔤 Transliterated Text: {transliterated_text}\")\n",
    "    print(f\"🌍 Detected Source Language: {source_language_code}\")\n",
    "else:\n",
    "    print(f\"❌ Error {response.status_code}: {response.text}\")\n"
   ]
  },
  {
   "cell_type": "code",
   "execution_count": 11,
   "metadata": {},
   "outputs": [
    {
     "name": "stdout",
     "output_type": "stream",
     "text": [
      "❌ Error 422: {\"error\":{\"request_id\":\"20250318_8280ec6b-96ad-440b-8389-59b2b6698b7a\",\"message\":\"Unable to detect the language of the input text, please explicitly pass the `source_language_code` parameter with a supported language.\",\"code\":\"unprocessable_entity_error\"}}\n"
     ]
    }
   ],
   "source": [
    "payload = {\n",
    "    \"input\": \"A'in jun aatinob'aal li maare ink'a' neketaw ru.\",\n",
    "    \"source_language_code\": \"auto\",\n",
    "    \"target_language_code\": \"hi-IN\",\n",
    "    \"spoken_form\": True,\n",
    "}\n",
    "\n",
    "# Send the request\n",
    "response = requests.post(url, json=payload, headers=headers)\n",
    "\n",
    "if response.status_code == 200:\n",
    "    response_data = response.json()\n",
    "    transliterated_text = response_data.get(\"transliterated_text\", \"Translation not available\")\n",
    "    source_language_code = response_data.get(\"source_language_code\")\n",
    "\n",
    "    print(f\"✅ Transliteration Successful!\\n🔤 Transliterated Text: {transliterated_text}\")\n",
    "    print(f\"🌍 Detected Source Language: {source_language_code}\")\n",
    "else:\n",
    "    print(f\"❌ Error {response.status_code}: {response.text}\")\n"
   ]
  },
  {
   "attachments": {},
   "cell_type": "markdown",
   "metadata": {},
   "source": [
    "### Auto Detection in Translate"
   ]
  },
  {
   "cell_type": "code",
   "execution_count": 12,
   "metadata": {},
   "outputs": [],
   "source": [
    "import requests\n",
    "\n",
    "# Define API request details\n",
    "url = \"https://api.sarvam.ai/translate\"\n",
    "headers = {\n",
    "    \"api-subscription-key\": SARVAM_API_KEY,\n",
    "    \"Content-Type\": \"application/json\"\n",
    "}"
   ]
  },
  {
   "cell_type": "code",
   "execution_count": 13,
   "metadata": {},
   "outputs": [
    {
     "name": "stdout",
     "output_type": "stream",
     "text": [
      "✅ Translation Successful!\n",
      "🌍 Detected Source Language: hi-IN\n",
      "📝 Translated Text: আমার কাল সকাল 9:30-এ একটা appointment আছে।\n"
     ]
    }
   ],
   "source": [
    "import requests\n",
    "\n",
    "payload = {\n",
    "    \"source_language_code\": \"auto\",\n",
    "    \"target_language_code\": \"bn-IN\",\n",
    "    \"speaker_gender\": \"Male\",\n",
    "    \"mode\": \"classic-colloquial\",\n",
    "    \"model\": \"mayura:v1\",\n",
    "    \"input\": \"मुझे कल 9:30am को appointment है\"\n",
    "}\n",
    "\n",
    "# Send the request\n",
    "response = requests.post(url, json=payload, headers=headers)\n",
    "\n",
    "if response.status_code == 200:\n",
    "    response_data = response.json()\n",
    "    translated_text = response_data.get(\"translated_text\", \"Translation not available\")\n",
    "    source_language_code = response_data.get(\"source_language_code\", \"Unknown\")\n",
    "\n",
    "    print(f\"✅ Translation Successful!\\n🌍 Detected Source Language: {source_language_code}\")\n",
    "    print(f\"📝 Translated Text: {translated_text}\")\n",
    "else:\n",
    "    print(f\"❌ Error {response.status_code}: {response.text}\")\n"
   ]
  },
  {
   "attachments": {},
   "cell_type": "markdown",
   "metadata": {},
   "source": [
    "## **5️⃣ Error Handling**  \n",
    "\n",
    "You may encounter these errors while using the API:  \n",
    "\n",
    "- **403 Forbidden** (`invalid_api_key_error`)  \n",
    "  - Cause: Invalid API key.  \n",
    "  - Solution: Use a valid API key from the [Sarvam AI Dashboard](https://dashboard.sarvam.ai/).  \n",
    "\n",
    "- **429 Too Many Requests** (`insufficient_quota_error`)  \n",
    "  - Cause: Exceeded API quota.  \n",
    "  - Solution: Check your usage, upgrade if needed, or implement exponential backoff when retrying.  \n",
    "\n",
    "- **500 Internal Server Error** (`internal_server_error`)  \n",
    "  - Cause: Issue on our servers.  \n",
    "  - Solution: Try again later. If persistent, contact support.  \n",
    "\n",
    "- **400 Bad Request** (`invalid_request_error`)  \n",
    "  - Cause: Incorrect request formatting.  \n",
    "  - Solution: Verify your request structure and parameters.  \n",
    "\n",
    "- **422 Unprocessable Entity Request** (`unprocessable_entity_error`)  \n",
    "  - Cause: Unable to detect the language of the input text.\n",
    "  - Solution: Explicitly pass the source_language_code parameter with a supported language.\n",
    "\n"
   ]
  },
  {
   "attachments": {},
   "cell_type": "markdown",
   "metadata": {},
   "source": [
    "## **6️⃣ Conclusion**  \n",
    "\n",
    "For more details, refer to the our official documentation and we are always there to support and help you on our Discord Server:\n",
    "\n",
    "- **Documentation**: [docs.sarvam.ai](https://docs.sarvam.ai)  \n",
    "- **Community**: [Join the Discord Community](https://discord.gg/hTuVuPNF)\n",
    "\n",
    "**Final Notes**\n",
    "\n",
    "- Keep your API key secure.\n",
    "- Use clear audio for best results.\n",
    "- Explore advanced features like diarization and translation.\n",
    "\n",
    "**Keep Building!** 🚀"
   ]
  }
 ],
 "metadata": {
  "kernelspec": {
   "display_name": "Python 3",
   "language": "python",
   "name": "python3"
  },
  "language_info": {
   "codemirror_mode": {
    "name": "ipython",
    "version": 3
   },
   "file_extension": ".py",
   "mimetype": "text/x-python",
   "name": "python",
   "nbconvert_exporter": "python",
   "pygments_lexer": "ipython3",
   "version": "3.11.5"
  },
  "orig_nbformat": 4
 },
 "nbformat": 4,
 "nbformat_minor": 2
}
