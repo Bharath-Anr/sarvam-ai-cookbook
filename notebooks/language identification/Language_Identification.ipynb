{
 "cells": [
  {
   "attachments": {},
   "cell_type": "markdown",
   "metadata": {},
   "source": [
    "# **📖 Language Identification API: A Hands-on Guide**  \n",
    "\n",
    "### **🔗 Overview**  \n",
    "This notebook demonstrates how to use the Language Identification API to detect the language and script codes. We will also explore how language identification can be used in translation and transliteration tasks to automatically detect the source language and perform the appropriate transformations.\n"
   ]
  },
  {
   "attachments": {},
   "cell_type": "markdown",
   "metadata": {},
   "source": [
    "## **1. Installation**  \n",
    "\n",
    "Before you begin, ensure you have the necessary Python libraries installed. Run the following commands to install the required packages:"
   ]
  },
  {
   "cell_type": "code",
   "execution_count": null,
   "metadata": {},
   "outputs": [],
   "source": [
    "!pip install -Uqq sarvamai\n",
    "from sarvamai import SarvamAI"
   ]
  },
  {
   "attachments": {},
   "cell_type": "markdown",
   "metadata": {},
   "source": [
    "## **2. Authentication**\n",
    "\n",
    "\n",
    "To use the API, you need an API subscription key. Follow these steps to set up your API key:\n",
    "\n",
    "1. **Obtain your API key**: If you don’t have an API key, sign up on the [Sarvam AI Dashboard](https://dashboard.sarvam.ai/) to get one.\n",
    "2. **Replace the placeholder key**: In the code below, replace \"YOUR_SARVAM_API_KEY\" with your actual API key."
   ]
  },
  {
   "cell_type": "code",
   "execution_count": null,
   "metadata": {},
   "outputs": [],
   "source": [
    "SARVAM_API_KEY = \"YOUR_SARVAM_API_KEY\""
   ]
  },
  {
   "attachments": {},
   "cell_type": "markdown",
   "metadata": {},
   "source": [
    "## **3. Basic Usage**  \n",
    "\n",
    "The API requires a single input parameter:\n",
    "\n",
    "| ✅ Parameter | 🔍 Description |\n",
    "|-------------|----------------|\n",
    "| `input`     | The text for which the language and script codes need to be detected. |\n",
    "\n",
    "⚠️ **Note:** If the API cannot confidently detect the language or script, it will return `null` for one or both fields.\n"
   ]
  },
  {
   "attachments": {},
   "cell_type": "markdown",
   "metadata": {},
   "source": [
    "### **Response Parameters**  \n",
    "\n",
    "- **`language_code`** (String) – The detected language in BCP-47 format.  Supported values:  \n",
    "  - `\"en-IN\"` (English - India)  \n",
    "  - `\"en-US\"` (English - United States)  \n",
    "  - `\"bn-IN\"` (Bengali - India)  \n",
    "  - `\"gu-IN\"` (Gujarati - India)  \n",
    "  - `\"hi-IN\"` (Hindi - India)  \n",
    "  - `\"kn-IN\"` (Kannada - India)  \n",
    "  - `\"ml-IN\"` (Malayalam - India)  \n",
    "  - `\"mr-IN\"` (Marathi - India)  \n",
    "  - `\"od-IN\"` (Odia - India)  \n",
    "  - `\"pa-IN\"` (Punjabi - India)  \n",
    "  - `\"ta-IN\"` (Tamil - India)  \n",
    "  - `\"te-IN\"` (Telugu - India)  \n",
    "  - `\"ur-IN\"` (Urdu - India)  \n",
    "\n",
    "\n"
   ]
  },
  {
   "attachments": {},
   "cell_type": "markdown",
   "metadata": {},
   "source": [
    "- **`script_code`** (String) – The detected writing script in ISO-15924 format.Supported values:  \n",
    "  - `\"Latn\"` → Latin (Roman script)  \n",
    "  - `\"Beng\"` → Bengali script  \n",
    "  - `\"Gujr\"` → Gujarati script  \n",
    "  - `\"Deva\"` → Devanagari script  \n",
    "  - `\"Knda\"` → Kannada script  \n",
    "  - `\"Mlym\"` → Malayalam script  \n",
    "  - `\"Orya\"` → Odia script  \n",
    "  - `\"Guru\"` → Gurmukhi (Punjabi) script  \n",
    "  - `\"Taml\"` → Tamil script  \n",
    "  - `\"Telu\"` → Telugu script  \n",
    "  - `\"Arab\"` → Arabic script  \n"
   ]
  },
  {
   "cell_type": "markdown",
   "metadata": {},
   "source": [
    "## **4. Language Detection Usage**  "
   ]
  },
  {
   "cell_type": "markdown",
   "metadata": {},
   "source": [
    "**1.Initialize the Client**"
   ]
  },
  {
   "cell_type": "code",
   "execution_count": null,
   "metadata": {},
   "outputs": [],
   "source": [
    "client = SarvamAI(api_subscription_key=SARVAM_API_KEY)"
   ]
  },
  {
   "cell_type": "markdown",
   "metadata": {},
   "source": [
    "**2.Define Input Text**"
   ]
  },
  {
   "cell_type": "code",
   "execution_count": null,
   "metadata": {},
   "outputs": [],
   "source": [
    "example_text = \"hey, what is your name?\""
   ]
  },
  {
   "cell_type": "markdown",
   "metadata": {},
   "source": [
    "**3.Detect Language and Script**"
   ]
  },
  {
   "cell_type": "code",
   "execution_count": null,
   "metadata": {},
   "outputs": [],
   "source": [
    "response = client.text.identify_language(input=example_text)\n",
    "language_code = response.language_code\n",
    "script_code = response.script_code\n",
    "\n",
    "print(\"\\n=== Detection Results ===\")\n",
    "print(f\"Detected Language Code: {language_code}\")\n",
    "print(f\"Detected Script Code: {script_code}\\n\")"
   ]
  },
  {
   "cell_type": "markdown",
   "metadata": {},
   "source": [
    "**4.Try Another Input**"
   ]
  },
  {
   "cell_type": "code",
   "execution_count": null,
   "metadata": {},
   "outputs": [],
   "source": [
    "example_text = \"A'in jun aatinob'aal li maare ink'a' neketaw ru.\""
   ]
  },
  {
   "cell_type": "code",
   "execution_count": null,
   "metadata": {},
   "outputs": [],
   "source": [
    "response = client.text.identify_language(input=example_text)\n",
    "language_code = response.language_code\n",
    "script_code = response.script_code\n",
    "\n",
    "print(\"\\n=== Detection Results ===\")\n",
    "print(f\"Detected Language Code: {language_code}\")\n",
    "print(f\"Detected Script Code: {script_code}\\n\")"
   ]
  },
  {
   "attachments": {},
   "cell_type": "markdown",
   "metadata": {},
   "source": [
    "## **5. Auto Detection**  "
   ]
  },
  {
   "attachments": {},
   "cell_type": "markdown",
   "metadata": {},
   "source": [
    "\n",
    "\n",
    "To enable automatic language detection, pass `\"auto\"` as the `source_language_code`. \n",
    "\n",
    "The API will return the transliterated/translated text along with the detected source language code.  \n",
    "\n",
    "🚫 **Note:** In case of detection failure, manually specify the `source_language_code` with one of the supported language codes.  \n"
   ]
  },
  {
   "attachments": {},
   "cell_type": "markdown",
   "metadata": {},
   "source": [
    "If the API is unable to detect the language, the response will include an error message:\n",
    "\n",
    "```json\n",
    "{\n",
    "    \"error\": {\n",
    "        \"message\": \"Unable to detect the language of the input text. Please explicitly pass the `source_language_code` parameter with a supported language.\",\n",
    "        \"code\": \"unprocessable_entity_error\"\n",
    "    }\n",
    "}\n",
    "\n"
   ]
  },
  {
   "attachments": {},
   "cell_type": "markdown",
   "metadata": {},
   "source": [
    "### Auto Detection in Transliterate"
   ]
  },
  {
   "cell_type": "code",
   "execution_count": null,
   "metadata": {},
   "outputs": [],
   "source": [
    "response = client.text.transliterate(\n",
    "    input=\"मुझे कल 9:30am को appointment है\",\n",
    "    source_language_code=\"auto\",\n",
    "    target_language_code=\"hi-IN\",\n",
    "    spoken_form=True,\n",
    ")\n",
    "transliterated_text = response.transliterated_text\n",
    "source_language_code = response.source_language_code\n",
    "\n",
    "print(f\"✅ Transliteration Successful!\\n🔤 Transliterated Text: {transliterated_text}\")\n",
    "print(f\"🌍 Detected Source Language: {source_language_code}\")"
   ]
  },
  {
   "cell_type": "code",
   "execution_count": null,
   "metadata": {},
   "outputs": [],
   "source": [
    "response = client.text.transliterate(\n",
    "    input=\"'আমার কাল সকাল ৭টায় ডাক্তার এর অ্যাপয়েন্টমেন্ট আছে\",\n",
    "    source_language_code=\"auto\",\n",
    "    target_language_code=\"en-IN\",\n",
    "    spoken_form=True,\n",
    ")\n",
    "transliterated_text = response.transliterated_text\n",
    "source_language_code = response.source_language_code\n",
    "\n",
    "print(f\"✅ Transliteration Successful!\\n🔤 Transliterated Text: {transliterated_text}\")\n",
    "print(f\"🌍 Detected Source Language: {source_language_code}\")"
   ]
  },
  {
   "attachments": {},
   "cell_type": "markdown",
   "metadata": {},
   "source": [
    "### Auto Detection in Translate"
   ]
  },
  {
   "cell_type": "code",
   "execution_count": null,
   "metadata": {},
   "outputs": [],
   "source": [
    "response = client.text.translate(\n",
    "    source_language_code=\"auto\",\n",
    "    target_language_code=\"bn-IN\",\n",
    "    speaker_gender=\"Male\",\n",
    "    mode=\"classic-colloquial\",\n",
    "    model=\"mayura:v1\",\n",
    "    input=\"मुझे कल 9:30am को appointment है\",\n",
    ")\n",
    "\n",
    "translated_text = response.translated_text\n",
    "source_language_code = response.source_language_code\n",
    "\n",
    "\n",
    "print(\n",
    "    f\"✅ Translation Successful!\\n🌍 Detected Source Language: {source_language_code}\"\n",
    ")\n",
    "print(f\"📝 Translated Text: {translated_text}\")"
   ]
  },
  {
   "attachments": {},
   "cell_type": "markdown",
   "metadata": {},
   "source": [
    "## **6. Error Handling**  \n",
    "\n",
    "You may encounter these errors while using the API:  \n",
    "\n",
    "- **403 Forbidden** (`invalid_api_key_error`)  \n",
    "  - Cause: Invalid API key.  \n",
    "  - Solution: Use a valid API key from the [Sarvam AI Dashboard](https://dashboard.sarvam.ai/).  \n",
    "\n",
    "- **429 Too Many Requests** (`insufficient_quota_error`)  \n",
    "  - Cause: Exceeded API quota.  \n",
    "  - Solution: Check your usage, upgrade if needed, or implement exponential backoff when retrying.  \n",
    "\n",
    "- **500 Internal Server Error** (`internal_server_error`)  \n",
    "  - Cause: Issue on our servers.  \n",
    "  - Solution: Try again later. If persistent, contact support.  \n",
    "\n",
    "- **400 Bad Request** (`invalid_request_error`)  \n",
    "  - Cause: Incorrect request formatting.  \n",
    "  - Solution: Verify your request structure, and parameters.  \n",
    "\n",
    "- **422 Unprocessable Entity Request** (`unprocessable_entity_error`)  \n",
    "  - Cause: Unable to detect the language of the input text.\n",
    "  - Solution: Explicitly pass the source_language_code parameter with a supported language.\n",
    "\n"
   ]
  },
  {
   "attachments": {},
   "cell_type": "markdown",
   "metadata": {},
   "source": [
    "## **7. Additional Resources**\n",
    "\n",
    "For more details, refer to the our official documentation and we are always there to support and help you on our Discord Server:\n",
    "\n",
    "- **Documentation**: [docs.sarvam.ai](https://docs.sarvam.ai)  \n",
    "- **Community**: [Join the Discord Community](https://discord.gg/hTuVuPNF)\n",
    "\n",
    "\n",
    "## **8. Final Notes**\n",
    "\n",
    "- Keep your API key secure.\n",
    "- Use clear audio for best results.\n",
    "- Explore advanced features like diarization and translation.\n",
    "\n",
    "**Keep Building!** 🚀"
   ]
  },
  {
   "attachments": {},
   "cell_type": "markdown",
   "metadata": {},
   "source": []
  }
 ],
 "metadata": {
  "kernelspec": {
   "display_name": "Python 3 (ipykernel)",
   "language": "python",
   "name": "python3"
  },
  "language_info": {
   "codemirror_mode": {
    "name": "ipython",
    "version": 3
   },
   "file_extension": ".py",
   "mimetype": "text/x-python",
   "name": "python",
   "nbconvert_exporter": "python",
   "pygments_lexer": "ipython3",
   "version": "3.13.4"
  }
 },
 "nbformat": 4,
 "nbformat_minor": 4
}
