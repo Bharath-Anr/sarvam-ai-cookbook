{
 "cells": [
  {
   "attachments": {},
   "cell_type": "markdown",
   "metadata": {},
   "source": [
    "# **📖 Language Identification API: A Hands-on Guide**  \n",
    "\n",
    "### **🔗 Overview**  \n",
    "This notebook demonstrates how to use the **Language Identification API** to detect the language code and script code.Also we will see how we can use lamgauge identification in transalte and transliterate to auto detetct the source code and do the resepctive trnSFORMATIONS\n",
    "\n",
    "## **Table of Contents**  \n",
    "\n",
    "<p>1. <a href=\"#installation\">Installation</a></p>  \n",
    "<p>2. <a href=\"#authentication\">Authentication</a></p>  \n",
    "<p>3. <a href=\"#modes\">Baisc Usage</a></p>  \n",
    "<p>4. <a href=\"#modes\">Auto Detection</a></p>  \n",
    "<p>5. <a href=\"#error-handling\">Error Handling</a></p>  \n",
    "<p>6. <a href=\"#conclusion\">Conclusion</a></p>  "
   ]
  },
  {
   "attachments": {},
   "cell_type": "markdown",
   "metadata": {},
   "source": [
    "## **1️⃣ Setup & Installation**  \n",
    "\n",
    "Before you begin, ensure you have the necessary Python libraries installed. Run the following commands to install the required packages:"
   ]
  },
  {
   "cell_type": "code",
   "execution_count": 9,
   "metadata": {},
   "outputs": [
    {
     "name": "stdout",
     "output_type": "stream",
     "text": [
      "Defaulting to user installation because normal site-packages is not writeable\n",
      "Requirement already satisfied: sarvamai in /Users/suhaniagarwal/Library/Python/3.9/lib/python/site-packages (0.1.3)\n",
      "Requirement already satisfied: httpx>=0.21.2 in /Users/suhaniagarwal/Library/Python/3.9/lib/python/site-packages (from sarvamai) (0.27.0)\n",
      "Requirement already satisfied: pydantic>=1.9.2 in /Users/suhaniagarwal/Library/Python/3.9/lib/python/site-packages (from sarvamai) (1.10.9)\n",
      "Requirement already satisfied: pydantic-core<3.0.0,>=2.18.2 in /Users/suhaniagarwal/Library/Python/3.9/lib/python/site-packages (from sarvamai) (2.34.1)\n",
      "Requirement already satisfied: typing_extensions>=4.0.0 in /Users/suhaniagarwal/Library/Python/3.9/lib/python/site-packages (from sarvamai) (4.13.1)\n",
      "Requirement already satisfied: anyio in /Users/suhaniagarwal/Library/Python/3.9/lib/python/site-packages (from httpx>=0.21.2->sarvamai) (4.3.0)\n",
      "Requirement already satisfied: certifi in /Users/suhaniagarwal/Library/Python/3.9/lib/python/site-packages (from httpx>=0.21.2->sarvamai) (2022.12.7)\n",
      "Requirement already satisfied: httpcore==1.* in /Users/suhaniagarwal/Library/Python/3.9/lib/python/site-packages (from httpx>=0.21.2->sarvamai) (1.0.5)\n",
      "Requirement already satisfied: idna in /Users/suhaniagarwal/Library/Python/3.9/lib/python/site-packages (from httpx>=0.21.2->sarvamai) (2.10)\n",
      "Requirement already satisfied: sniffio in /Users/suhaniagarwal/Library/Python/3.9/lib/python/site-packages (from httpx>=0.21.2->sarvamai) (1.3.0)\n",
      "Requirement already satisfied: h11<0.15,>=0.13 in /Users/suhaniagarwal/Library/Python/3.9/lib/python/site-packages (from httpcore==1.*->httpx>=0.21.2->sarvamai) (0.14.0)\n",
      "Requirement already satisfied: exceptiongroup>=1.0.2 in /Users/suhaniagarwal/Library/Python/3.9/lib/python/site-packages (from anyio->httpx>=0.21.2->sarvamai) (1.1.1)\n",
      "\u001b[33mDEPRECATION: textract 1.6.5 has a non-standard dependency specifier extract-msg<=0.29.*. pip 23.3 will enforce this behaviour change. A possible replacement is to upgrade to a newer version of textract or contact the author to suggest that they release a version with a conforming dependency specifiers. Discussion can be found at https://github.com/pypa/pip/issues/12063\u001b[0m\u001b[33m\n",
      "\u001b[0m\n",
      "\u001b[1m[\u001b[0m\u001b[34;49mnotice\u001b[0m\u001b[1;39;49m]\u001b[0m\u001b[39;49m A new release of pip is available: \u001b[0m\u001b[31;49m23.2\u001b[0m\u001b[39;49m -> \u001b[0m\u001b[32;49m25.1.1\u001b[0m\n",
      "\u001b[1m[\u001b[0m\u001b[34;49mnotice\u001b[0m\u001b[1;39;49m]\u001b[0m\u001b[39;49m To update, run: \u001b[0m\u001b[32;49m/Applications/Xcode.app/Contents/Developer/usr/bin/python3 -m pip install --upgrade pip\u001b[0m\n"
     ]
    }
   ],
   "source": [
    "!pip install sarvamai"
   ]
  },
  {
   "cell_type": "code",
   "execution_count": 10,
   "metadata": {},
   "outputs": [],
   "source": [
    "from sarvamai import SarvamAI"
   ]
  },
  {
   "attachments": {},
   "cell_type": "markdown",
   "metadata": {},
   "source": [
    "## 2️⃣ **Authentication**\n",
    "\n",
    "\n",
    "To use the API, you need an API subscription key. Follow these steps to set up your API key:\n",
    "\n",
    "1. **Obtain your API key**: If you don’t have an API key, sign up on the [Sarvam AI Dashboard](https://dashboard.sarvam.ai/) to get one.\n",
    "2. **Replace the placeholder key**: In the code below, replace \"YOUR_SARVAM_AI_API_KEY\" with your actual API key."
   ]
  },
  {
   "cell_type": "code",
   "execution_count": 11,
   "metadata": {},
   "outputs": [],
   "source": [
    "SARVAM_API_KEY = \"YOUR_SARVAM_API_KEY\""
   ]
  },
  {
   "attachments": {},
   "cell_type": "markdown",
   "metadata": {},
   "source": [
    "## **3️⃣ Basic Usage**  \n",
    "\n",
    "The API requires a single key parameter:  \n",
    "\n",
    "✔ **`input`** – The text for which the language code and script code need to be detected.  \n",
    "\n",
    "🚫 **Note:** If the API is unable to detect the language or script, it will return `null` for both fields.  \n"
   ]
  },
  {
   "attachments": {},
   "cell_type": "markdown",
   "metadata": {},
   "source": [
    "### **Response Parameters**  \n",
    "\n",
    "- **`language_code`** (String) – The detected language in BCP-47 format.  Supported values:  \n",
    "  - `\"en-IN\"` (English - India)  \n",
    "  - `\"en-US\"` (English - United States)  \n",
    "  - `\"bn-IN\"` (Bengali - India)  \n",
    "  - `\"gu-IN\"` (Gujarati - India)  \n",
    "  - `\"hi-IN\"` (Hindi - India)  \n",
    "  - `\"kn-IN\"` (Kannada - India)  \n",
    "  - `\"ml-IN\"` (Malayalam - India)  \n",
    "  - `\"mr-IN\"` (Marathi - India)  \n",
    "  - `\"od-IN\"` (Odia - India)  \n",
    "  - `\"pa-IN\"` (Punjabi - India)  \n",
    "  - `\"ta-IN\"` (Tamil - India)  \n",
    "  - `\"te-IN\"` (Telugu - India)  \n",
    "  - `\"ur-IN\"` (Urdu - India)  \n",
    "\n",
    "\n"
   ]
  },
  {
   "attachments": {},
   "cell_type": "markdown",
   "metadata": {},
   "source": [
    "- **`script_code`** (String) – The detected writing script in ISO-15924 format.Supported values:  \n",
    "  - `\"Latn\"` → Latin (Roman script)  \n",
    "  - `\"Beng\"` → Bengali script  \n",
    "  - `\"Gujr\"` → Gujarati script  \n",
    "  - `\"Deva\"` → Devanagari script  \n",
    "  - `\"Knda\"` → Kannada script  \n",
    "  - `\"Mlym\"` → Malayalam script  \n",
    "  - `\"Orya\"` → Odia script  \n",
    "  - `\"Guru\"` → Gurmukhi (Punjabi) script  \n",
    "  - `\"Taml\"` → Tamil script  \n",
    "  - `\"Telu\"` → Telugu script  \n",
    "  - `\"Arab\"` → Arabic script  \n"
   ]
  },
  {
   "cell_type": "code",
   "execution_count": 12,
   "metadata": {},
   "outputs": [],
   "source": [
    "client = SarvamAI(api_subscription_key=SARVAM_API_KEY)"
   ]
  },
  {
   "cell_type": "code",
   "execution_count": 13,
   "metadata": {},
   "outputs": [],
   "source": [
    "example_text = \"hey, what is your name?\""
   ]
  },
  {
   "cell_type": "code",
   "execution_count": 14,
   "metadata": {},
   "outputs": [
    {
     "name": "stdout",
     "output_type": "stream",
     "text": [
      "\n",
      "=== Detection Results ===\n",
      "Detected Language Code: en-IN\n",
      "Detected Script Code: Latn\n",
      "\n"
     ]
    }
   ],
   "source": [
    "response = client.text.identify_language(input=example_text)\n",
    "language_code = response.language_code\n",
    "script_code = response.script_code\n",
    "\n",
    "print(\"\\n=== Detection Results ===\")\n",
    "print(f\"Detected Language Code: {language_code}\")\n",
    "print(f\"Detected Script Code: {script_code}\\n\")"
   ]
  },
  {
   "cell_type": "code",
   "execution_count": 15,
   "metadata": {},
   "outputs": [],
   "source": [
    "example_text = \"A'in jun aatinob'aal li maare ink'a' neketaw ru.\""
   ]
  },
  {
   "cell_type": "code",
   "execution_count": 16,
   "metadata": {},
   "outputs": [
    {
     "name": "stdout",
     "output_type": "stream",
     "text": [
      "\n",
      "=== Detection Results ===\n",
      "Detected Language Code: None\n",
      "Detected Script Code: None\n",
      "\n"
     ]
    }
   ],
   "source": [
    "response = client.text.identify_language(input=example_text)\n",
    "language_code = response.language_code\n",
    "script_code = response.script_code\n",
    "\n",
    "print(\"\\n=== Detection Results ===\")\n",
    "print(f\"Detected Language Code: {language_code}\")\n",
    "print(f\"Detected Script Code: {script_code}\\n\")"
   ]
  },
  {
   "attachments": {},
   "cell_type": "markdown",
   "metadata": {},
   "source": [
    "## **4️⃣ Auto Detection**  "
   ]
  },
  {
   "attachments": {},
   "cell_type": "markdown",
   "metadata": {},
   "source": [
    "\n",
    "\n",
    "To enable automatic language detection, pass `\"auto\"` as the `source_language_code`. The API will return the transliterated/translated text along with the detected source language code.  \n",
    "\n",
    "🚫 **Note:** In case of detection failure, manually specify the `source_language_code` with one of the supported language codes.  \n"
   ]
  },
  {
   "attachments": {},
   "cell_type": "markdown",
   "metadata": {},
   "source": [
    "If the API is unable to detect the language, the response will include an error message:\n",
    "\n",
    "```json\n",
    "{\n",
    "    \"error\": {\n",
    "        \"message\": \"Unable to detect the language of the input text. Please explicitly pass the `source_language_code` parameter with a supported language.\",\n",
    "        \"code\": \"unprocessable_entity_error\"\n",
    "    }\n",
    "}\n",
    "\n"
   ]
  },
  {
   "attachments": {},
   "cell_type": "markdown",
   "metadata": {},
   "source": [
    "### Auto Detection in Transliterate"
   ]
  },
  {
   "cell_type": "code",
   "execution_count": 17,
   "metadata": {},
   "outputs": [
    {
     "name": "stdout",
     "output_type": "stream",
     "text": [
      "✅ Transliteration Successful!\n",
      "🔤 Transliterated Text: मुझे कल सुबह साढ़े नौ बजे अपॉइंटमेंट है\n",
      "🌍 Detected Source Language: hi-IN\n"
     ]
    }
   ],
   "source": [
    "response = client.text.transliterate(\n",
    "    input=\"मुझे कल 9:30am को appointment है\",\n",
    "    source_language_code=\"auto\",\n",
    "    target_language_code=\"hi-IN\",\n",
    "    spoken_form=True,\n",
    ")\n",
    "transliterated_text = response.transliterated_text\n",
    "source_language_code = response.source_language_code\n",
    "\n",
    "print(f\"✅ Transliteration Successful!\\n🔤 Transliterated Text: {transliterated_text}\")\n",
    "print(f\"🌍 Detected Source Language: {source_language_code}\")"
   ]
  },
  {
   "cell_type": "code",
   "execution_count": 18,
   "metadata": {},
   "outputs": [
    {
     "ename": "UnprocessableEntityError",
     "evalue": "status_code: 422, body: {'error': {'request_id': '20250518_970f5bd8-b33d-4e34-9493-c198b9ad0952', 'message': 'Unable to detect the language of the input text, please explicitly pass the `source_language_code` parameter with a supported language.', 'code': 'unprocessable_entity_error'}}",
     "output_type": "error",
     "traceback": [
      "\u001b[0;31m---------------------------------------------------------------------------\u001b[0m",
      "\u001b[0;31mUnprocessableEntityError\u001b[0m                  Traceback (most recent call last)",
      "Cell \u001b[0;32mIn[18], line 1\u001b[0m\n\u001b[0;32m----> 1\u001b[0m response \u001b[39m=\u001b[39m client\u001b[39m.\u001b[39;49mtext\u001b[39m.\u001b[39;49mtransliterate(\n\u001b[1;32m      2\u001b[0m     \u001b[39minput\u001b[39;49m\u001b[39m=\u001b[39;49m\u001b[39m\"\u001b[39;49m\u001b[39mA\u001b[39;49m\u001b[39m'\u001b[39;49m\u001b[39min jun aatinob\u001b[39;49m\u001b[39m'\u001b[39;49m\u001b[39maal li maare ink\u001b[39;49m\u001b[39m'\u001b[39;49m\u001b[39ma\u001b[39;49m\u001b[39m'\u001b[39;49m\u001b[39m neketaw ru.\u001b[39;49m\u001b[39m\"\u001b[39;49m,\n\u001b[1;32m      3\u001b[0m     source_language_code\u001b[39m=\u001b[39;49m\u001b[39m\"\u001b[39;49m\u001b[39mauto\u001b[39;49m\u001b[39m\"\u001b[39;49m,\n\u001b[1;32m      4\u001b[0m     target_language_code\u001b[39m=\u001b[39;49m\u001b[39m\"\u001b[39;49m\u001b[39mhi-IN\u001b[39;49m\u001b[39m\"\u001b[39;49m,\n\u001b[1;32m      5\u001b[0m     spoken_form\u001b[39m=\u001b[39;49m\u001b[39mTrue\u001b[39;49;00m,\n\u001b[1;32m      6\u001b[0m )\n\u001b[1;32m      7\u001b[0m transliterated_text \u001b[39m=\u001b[39m response\u001b[39m.\u001b[39mtransliterated_text\n\u001b[1;32m      8\u001b[0m source_language_code \u001b[39m=\u001b[39m response\u001b[39m.\u001b[39msource_language_code\n",
      "File \u001b[0;32m~/Library/Python/3.9/lib/python/site-packages/sarvamai/text/client.py:318\u001b[0m, in \u001b[0;36mTextClient.transliterate\u001b[0;34m(self, input, source_language_code, target_language_code, numerals_format, spoken_form_numerals_language, spoken_form, request_options)\u001b[0m\n\u001b[1;32m    209\u001b[0m \u001b[39mdef\u001b[39;00m \u001b[39mtransliterate\u001b[39m(\n\u001b[1;32m    210\u001b[0m     \u001b[39mself\u001b[39m,\n\u001b[1;32m    211\u001b[0m     \u001b[39m*\u001b[39m,\n\u001b[0;32m   (...)\u001b[0m\n\u001b[1;32m    218\u001b[0m     request_options: typing\u001b[39m.\u001b[39mOptional[RequestOptions] \u001b[39m=\u001b[39m \u001b[39mNone\u001b[39;00m,\n\u001b[1;32m    219\u001b[0m ) \u001b[39m-\u001b[39m\u001b[39m>\u001b[39m TransliterationResponse:\n\u001b[1;32m    220\u001b[0m \u001b[39m    \u001b[39m\u001b[39m\"\"\"\u001b[39;00m\n\u001b[1;32m    221\u001b[0m \u001b[39m    **Transliteration** converts text from one script to another while preserving the original pronunciation. For example, **'नमस्ते'** becomes **'namaste'** in English, and **'how are you'** can be written as **'हाउ आर यू'** in Devanagari. This process ensures that the sound of the original text remains intact, even when written in a different script.\u001b[39;00m\n\u001b[1;32m    222\u001b[0m \n\u001b[0;32m   (...)\u001b[0m\n\u001b[1;32m    316\u001b[0m \u001b[39m    )\u001b[39;00m\n\u001b[1;32m    317\u001b[0m \u001b[39m    \"\"\"\u001b[39;00m\n\u001b[0;32m--> 318\u001b[0m     response \u001b[39m=\u001b[39m \u001b[39mself\u001b[39;49m\u001b[39m.\u001b[39;49m_raw_client\u001b[39m.\u001b[39;49mtransliterate(\n\u001b[1;32m    319\u001b[0m         \u001b[39minput\u001b[39;49m\u001b[39m=\u001b[39;49m\u001b[39minput\u001b[39;49m,\n\u001b[1;32m    320\u001b[0m         source_language_code\u001b[39m=\u001b[39;49msource_language_code,\n\u001b[1;32m    321\u001b[0m         target_language_code\u001b[39m=\u001b[39;49mtarget_language_code,\n\u001b[1;32m    322\u001b[0m         numerals_format\u001b[39m=\u001b[39;49mnumerals_format,\n\u001b[1;32m    323\u001b[0m         spoken_form_numerals_language\u001b[39m=\u001b[39;49mspoken_form_numerals_language,\n\u001b[1;32m    324\u001b[0m         spoken_form\u001b[39m=\u001b[39;49mspoken_form,\n\u001b[1;32m    325\u001b[0m         request_options\u001b[39m=\u001b[39;49mrequest_options,\n\u001b[1;32m    326\u001b[0m     )\n\u001b[1;32m    327\u001b[0m     \u001b[39mreturn\u001b[39;00m response\u001b[39m.\u001b[39mdata\n",
      "File \u001b[0;32m~/Library/Python/3.9/lib/python/site-packages/sarvamai/text/raw_client.py:472\u001b[0m, in \u001b[0;36mRawTextClient.transliterate\u001b[0;34m(self, input, source_language_code, target_language_code, numerals_format, spoken_form_numerals_language, spoken_form, request_options)\u001b[0m\n\u001b[1;32m    462\u001b[0m     \u001b[39mraise\u001b[39;00m ForbiddenError(\n\u001b[1;32m    463\u001b[0m         typing\u001b[39m.\u001b[39mcast(\n\u001b[1;32m    464\u001b[0m             ErrorMessage,\n\u001b[0;32m   (...)\u001b[0m\n\u001b[1;32m    469\u001b[0m         )\n\u001b[1;32m    470\u001b[0m     )\n\u001b[1;32m    471\u001b[0m \u001b[39mif\u001b[39;00m _response\u001b[39m.\u001b[39mstatus_code \u001b[39m==\u001b[39m \u001b[39m422\u001b[39m:\n\u001b[0;32m--> 472\u001b[0m     \u001b[39mraise\u001b[39;00m UnprocessableEntityError(\n\u001b[1;32m    473\u001b[0m         typing\u001b[39m.\u001b[39mcast(\n\u001b[1;32m    474\u001b[0m             typing\u001b[39m.\u001b[39mOptional[typing\u001b[39m.\u001b[39mAny],\n\u001b[1;32m    475\u001b[0m             parse_obj_as(\n\u001b[1;32m    476\u001b[0m                 type_\u001b[39m=\u001b[39mtyping\u001b[39m.\u001b[39mOptional[typing\u001b[39m.\u001b[39mAny],  \u001b[39m# type: ignore\u001b[39;00m\n\u001b[1;32m    477\u001b[0m                 object_\u001b[39m=\u001b[39m_response\u001b[39m.\u001b[39mjson(),\n\u001b[1;32m    478\u001b[0m             ),\n\u001b[1;32m    479\u001b[0m         )\n\u001b[1;32m    480\u001b[0m     )\n\u001b[1;32m    481\u001b[0m \u001b[39mif\u001b[39;00m _response\u001b[39m.\u001b[39mstatus_code \u001b[39m==\u001b[39m \u001b[39m429\u001b[39m:\n\u001b[1;32m    482\u001b[0m     \u001b[39mraise\u001b[39;00m TooManyRequestsError(\n\u001b[1;32m    483\u001b[0m         typing\u001b[39m.\u001b[39mcast(\n\u001b[1;32m    484\u001b[0m             ErrorMessage,\n\u001b[0;32m   (...)\u001b[0m\n\u001b[1;32m    489\u001b[0m         )\n\u001b[1;32m    490\u001b[0m     )\n",
      "\u001b[0;31mUnprocessableEntityError\u001b[0m: status_code: 422, body: {'error': {'request_id': '20250518_970f5bd8-b33d-4e34-9493-c198b9ad0952', 'message': 'Unable to detect the language of the input text, please explicitly pass the `source_language_code` parameter with a supported language.', 'code': 'unprocessable_entity_error'}}"
     ]
    }
   ],
   "source": [
    "response = client.text.transliterate(\n",
    "    input=\"A'in jun aatinob'aal li maare ink'a' neketaw ru.\",\n",
    "    source_language_code=\"auto\",\n",
    "    target_language_code=\"hi-IN\",\n",
    "    spoken_form=True,\n",
    ")\n",
    "transliterated_text = response.transliterated_text\n",
    "source_language_code = response.source_language_code\n",
    "\n",
    "print(f\"✅ Transliteration Successful!\\n🔤 Transliterated Text: {transliterated_text}\")\n",
    "print(f\"🌍 Detected Source Language: {source_language_code}\")"
   ]
  },
  {
   "attachments": {},
   "cell_type": "markdown",
   "metadata": {},
   "source": [
    "### Auto Detection in Translate"
   ]
  },
  {
   "cell_type": "code",
   "execution_count": 19,
   "metadata": {},
   "outputs": [
    {
     "name": "stdout",
     "output_type": "stream",
     "text": [
      "✅ Translation Successful!\n",
      "🌍 Detected Source Language: hi-IN\n",
      "📝 Translated Text: আপনার জন্য কাল সকাল 9:30-এ একটা slot available আছে\n"
     ]
    }
   ],
   "source": [
    "response = client.text.translate(\n",
    "    source_language_code=\"auto\",\n",
    "    target_language_code=\"bn-IN\",\n",
    "    speaker_gender=\"Male\",\n",
    "    mode=\"classic-colloquial\",\n",
    "    model=\"mayura:v1\",\n",
    "    input=\"मुझे कल 9:30am को appointment है\",\n",
    ")\n",
    "\n",
    "translated_text = response.translated_text\n",
    "source_language_code = response.source_language_code\n",
    "\n",
    "\n",
    "print(\n",
    "    f\"✅ Translation Successful!\\n🌍 Detected Source Language: {source_language_code}\"\n",
    ")\n",
    "print(f\"📝 Translated Text: {translated_text}\")"
   ]
  },
  {
   "attachments": {},
   "cell_type": "markdown",
   "metadata": {},
   "source": [
    "## **5️⃣ Error Handling**  \n",
    "\n",
    "You may encounter these errors while using the API:  \n",
    "\n",
    "- **403 Forbidden** (`invalid_api_key_error`)  \n",
    "  - Cause: Invalid API key.  \n",
    "  - Solution: Use a valid API key from the [Sarvam AI Dashboard](https://dashboard.sarvam.ai/).  \n",
    "\n",
    "- **429 Too Many Requests** (`insufficient_quota_error`)  \n",
    "  - Cause: Exceeded API quota.  \n",
    "  - Solution: Check your usage, upgrade if needed, or implement exponential backoff when retrying.  \n",
    "\n",
    "- **500 Internal Server Error** (`internal_server_error`)  \n",
    "  - Cause: Issue on our servers.  \n",
    "  - Solution: Try again later. If persistent, contact support.  \n",
    "\n",
    "- **400 Bad Request** (`invalid_request_error`)  \n",
    "  - Cause: Incorrect request formatting.  \n",
    "  - Solution: Verify your request structure and parameters.  \n",
    "\n",
    "- **422 Unprocessable Entity Request** (`unprocessable_entity_error`)  \n",
    "  - Cause: Unable to detect the language of the input text.\n",
    "  - Solution: Explicitly pass the source_language_code parameter with a supported language.\n",
    "\n"
   ]
  },
  {
   "attachments": {},
   "cell_type": "markdown",
   "metadata": {},
   "source": [
    "## **6️⃣ Conclusion**  \n",
    "\n",
    "For more details, refer to the our official documentation and we are always there to support and help you on our Discord Server:\n",
    "\n",
    "- **Documentation**: [docs.sarvam.ai](https://docs.sarvam.ai)  \n",
    "- **Community**: [Join the Discord Community](https://discord.gg/hTuVuPNF)\n",
    "\n",
    "**Final Notes**\n",
    "\n",
    "- Keep your API key secure.\n",
    "- Use clear audio for best results.\n",
    "- Explore advanced features like diarization and translation.\n",
    "\n",
    "**Keep Building!** 🚀"
   ]
  },
  {
   "attachments": {},
   "cell_type": "markdown",
   "metadata": {},
   "source": []
  }
 ],
 "metadata": {
  "kernelspec": {
   "display_name": "base",
   "language": "python",
   "name": "python3"
  },
  "language_info": {
   "codemirror_mode": {
    "name": "ipython",
    "version": 3
   },
   "file_extension": ".py",
   "mimetype": "text/x-python",
   "name": "python",
   "nbconvert_exporter": "python",
   "pygments_lexer": "ipython3",
   "version": "3.9.6"
  },
  "orig_nbformat": 4
 },
 "nbformat": 4,
 "nbformat_minor": 2
}
