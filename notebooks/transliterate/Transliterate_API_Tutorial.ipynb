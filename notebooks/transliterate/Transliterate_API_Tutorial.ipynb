{
 "cells": [
  {
   "attachments": {},
   "cell_type": "markdown",
   "metadata": {},
   "source": [
    "# **📖 Transliteration API: A Hands-on Guide**  \n",
    "\n",
    "### **🔗 Overview**  \n",
    "This notebook demonstrates how to use the **Transliteration API** to convert text from one script to another while preserving pronunciation. It supports multiple Indic languages and offers customizable numeral formatting.  \n",
    "\n",
    "\n",
    "## **Table of Contents**  \n",
    "\n",
    "<p>1. <a href=\"#installation\">Installation</a></p>  \n",
    "<p>2. <a href=\"#authentication\">Authentication</a></p>  \n",
    "<p>3. <a href=\"#basic-usage\">Understanding the Parameters</a></p>  \n",
    "<p>4. <a href=\"#modes\">Baisc Usage</a></p>  \n",
    "<p>5. <a href=\"#advanced-features\">Advanced Features</a></p>  \n",
    "   <p>&nbsp;&nbsp;&nbsp;&nbsp;5.1 <a href=\"#numeral-format\">Numeral Format</a></p>  \n",
    "   <p>&nbsp;&nbsp;&nbsp;&nbsp;5.2 <a href=\"#transliteration\">Spoken Form</a></p>  \n",
    "<p>6. <a href=\"#error-handling\">Error Handling</a></p>  \n",
    "<p>7. <a href=\"#conclusion\">Conclusion</a></p>  "
   ]
  },
  {
   "attachments": {},
   "cell_type": "markdown",
   "metadata": {},
   "source": [
    "## **1️⃣ Setup & Installation**  \n",
    "\n",
    "Before you begin, ensure you have the necessary Python libraries installed. Run the following commands to install the required packages:"
   ]
  },
  {
   "cell_type": "code",
   "execution_count": 23,
   "metadata": {},
   "outputs": [],
   "source": [
    "!pip install -Uqq sarvamai\n"
   ]
  },
  {
   "attachments": {},
   "cell_type": "markdown",
   "metadata": {},
   "source": [
    "## **Import Required Libraries**\n",
    "\n",
    "First, let's import all the necessary libraries."
   ]
  },
  {
   "cell_type": "code",
   "execution_count": 9,
   "metadata": {},
   "outputs": [],
   "source": [
    "from sarvamai import SarvamAI"
   ]
  },
  {
   "attachments": {},
   "cell_type": "markdown",
   "metadata": {},
   "source": [
    "## 2️⃣ **Authentication**\n",
    "\n",
    "\n",
    "To use the API, you need an API subscription key. Follow these steps to set up your API key:\n",
    "\n",
    "1. **Obtain your API key**: If you don’t have an API key, sign up on the [Sarvam AI Dashboard](https://dashboard.sarvam.ai/) to get one.\n",
    "2. **Replace the placeholder key**: In the code below, replace \"YOUR_SARVAM_AI_API_KEY\" with your actual API key."
   ]
  },
  {
   "cell_type": "code",
   "execution_count": 10,
   "metadata": {},
   "outputs": [],
   "source": [
    "SARVAM_API_KEY = \"YOUR_SARVAM_API_KEY\""
   ]
  },
  {
   "attachments": {},
   "cell_type": "markdown",
   "metadata": {},
   "source": [
    "\n",
    "## **3️⃣ Understanding the Parameters**  \n",
    "🔹 The API takes several key parameters:  \n",
    "✔ **`input`** – The text to be transliterated.  \n",
    "✔ **`source_language_code`** – Language of the input text.  \n",
    "✔ **`target_language_code`** – Desired transliteration output language.  \n",
    "✔ **`numerals_format`** – Choose between **international (0-9)** or **native (१-९)** numbers.  \n",
    "✔ **`spoken_form`** – Whether to convert text into a natural spoken format.  \n",
    "✔ **`spoken_form_numerals_language`** – Choose whether numbers should be spoken in **English** or **native** language.  \n",
    "\n",
    "\n",
    "🚫 Note: Transliteration between Indic languages (e.g., Hindi → Bengali) is not supported. \n"
   ]
  },
  {
   "attachments": {},
   "cell_type": "markdown",
   "metadata": {},
   "source": [
    "## **4️⃣ Basic Usage**  \n",
    "\n"
   ]
  },
  {
   "attachments": {},
   "cell_type": "markdown",
   "metadata": {},
   "source": [
    "### **Step 4.1: Read the Document**\n",
    "\n",
    "We have two sample documents under the `data` folder:  \n",
    "- `sample1.txt` contains an essay on *The Impact of Artificial Intelligence on Society* in English.  \n",
    "- `sample1.txt` contains an essay on *The Impact of Artificial Intelligence on Society* in Hindi.  "
   ]
  },
  {
   "cell_type": "code",
   "execution_count": 11,
   "metadata": {},
   "outputs": [],
   "source": [
    "def read_file(file_path, lang_name):\n",
    "    try:\n",
    "        with open(file_path, \"r\", encoding=\"utf-8\") as file:\n",
    "            # Read the first 5 lines\n",
    "            lines = [next(file) for _ in range(5)]\n",
    "            print(f\"=== {lang_name} Text (First Few Lines) ===\")\n",
    "            print(\"\".join(lines))  # Print first few lines\n",
    "\n",
    "            # Read the remaining content\n",
    "            remaining_text = file.read()\n",
    "\n",
    "            # Combine all text\n",
    "            full_doc = \"\".join(lines) + remaining_text\n",
    "\n",
    "            # Count total characters\n",
    "            total_chars = len(full_doc)\n",
    "            print(f\"\\nTotal number of characters in {lang_name} file:\", total_chars)\n",
    "\n",
    "            return full_doc\n",
    "    except FileNotFoundError:\n",
    "        print(f\"Error: {file_path} not found.\")\n",
    "        return None\n",
    "    except Exception as e:\n",
    "        print(f\"An error occurred while reading {file_path}: {e}\")\n",
    "        return None"
   ]
  },
  {
   "cell_type": "code",
   "execution_count": 12,
   "metadata": {},
   "outputs": [
    {
     "name": "stdout",
     "output_type": "stream",
     "text": [
      "=== English Text (First Few Lines) ===\n",
      "The Impact of Artificial Intelligence on Society\n",
      "\n",
      "Artificial Intelligence (AI) has emerged as one of the most transformative technologies of the 21st century, revolutionizing various aspects of human life. From healthcare to finance, transportation to education, AI is reshaping industries, automating processes, and augmenting human capabilities. While AI presents numerous benefits, it also raises ethical, economic, and societal concerns that must be carefully navigated to ensure its responsible integration into society.\n",
      "\n",
      "One of the most profound impacts of AI is in the field of healthcare. AI-powered diagnostic tools enable early disease detection, improving patient outcomes and reducing healthcare costs. Machine learning algorithms analyze medical data to identify patterns that humans may overlook, aiding in personalized treatment plans. Robotic surgeries and AI-driven drug discoveries have further enhanced the efficiency of medical procedures. However, the integration of AI in healthcare raises concerns about data privacy, security, and potential biases in medical decision-making.\n",
      "\n",
      "\n",
      "Total number of characters in English file: 1100\n",
      "=== Hindi Text (First Few Lines) ===\n",
      "**कृत्रिम बुद्धिमत्ता का समाज पर प्रभाव**\n",
      "\n",
      "कृत्रिम बुद्धिमत्ता (AI) 21वीं सदी की सबसे परिवर्तनकारी तकनीकों में से एक बन गई है, जो मानव जीवन के विभिन्न पहलुओं को नया रूप दे रही है। स्वास्थ्य सेवा से लेकर वित्त, परिवहन से लेकर शिक्षा तक, AI उद्योगों को पुनः आकार दे रही है, प्रक्रियाओं को स्वचालित कर रही है और मानवीय क्षमताओं को बढ़ा रही है। हालांकि AI कई लाभ प्रदान करती है, यह नैतिक, आर्थिक और सामाजिक चिंताओं को भी जन्म देती है, जिन्हें सावधानीपूर्वक नेविगेट करने की आवश्यकता है ताकि इसे समाज में जिम्मेदारी से एकीकृत किया जा सके।\n",
      "\n",
      "AI का सबसे महत्वपूर्ण प्रभाव स्वास्थ्य सेवा के क्षेत्र में देखा जा सकता है। AI-संचालित नैदानिक उपकरण प्रारंभिक रोग पहचान को सक्षम बनाते हैं, जिससे रोगी परिणामों में सुधार होता है और स्वास्थ्य सेवा लागत कम होती है। मशीन लर्निंग एल्गोरिदम चिकित्सा डेटा का विश्लेषण करके उन पैटर्नों की पहचान करते हैं जिन्हें मानव अनदेखा कर सकते हैं, जिससे व्यक्तिगत उपचार योजनाओं में सहायता मिलती है। रोबोटिक सर्जरी और AI-संचालित दवा खोजों ने चिकित्सा प्रक्रियाओं की दक्षता को और बढ़ा दिया है। हालांकि, स्वास्थ्य सेवा में AI के एकीकरण से डेटा गोपनीयता, सुरक्षा और चिकित्सा निर्णयों में संभावित पूर्वाग्रहों को लेकर चिंताएँ उत्पन्न होती हैं।\n",
      "\n",
      "\n",
      "Total number of characters in Hindi file: 1158\n"
     ]
    }
   ],
   "source": [
    "# Read English and Hindi documents\n",
    "english_doc = read_file(\"data/sample1.txt\", \"English\")\n",
    "hindi_doc = read_file(\"data/sample2.txt\", \"Hindi\")"
   ]
  },
  {
   "attachments": {},
   "cell_type": "markdown",
   "metadata": {},
   "source": [
    "### **Step 4.2: Split the text into chunks of at most 1000 characters** \n",
    "\n",
    "Since the API has a restriction of 1000 characters per request, we need to split the text accordingly."
   ]
  },
  {
   "cell_type": "code",
   "execution_count": 13,
   "metadata": {},
   "outputs": [],
   "source": [
    "def chunk_text(text, max_length=1000):\n",
    "    \"\"\"Splits text into chunks of at most max_length characters while preserving word boundaries.\"\"\"\n",
    "    chunks = []\n",
    "\n",
    "    while len(text) > max_length:\n",
    "        split_index = text.rfind(\" \", 0, max_length)  # Find the last space within limit\n",
    "        if split_index == -1:\n",
    "            split_index = max_length  # No space found, force split at max_length\n",
    "\n",
    "        chunks.append(text[:split_index].strip())  # Trim spaces before adding\n",
    "        text = text[split_index:].lstrip()  # Remove leading spaces for the next chunk\n",
    "\n",
    "    if text:\n",
    "        chunks.append(text.strip())  # Add the last chunk\n",
    "\n",
    "    return chunks"
   ]
  },
  {
   "cell_type": "code",
   "execution_count": 14,
   "metadata": {},
   "outputs": [
    {
     "name": "stdout",
     "output_type": "stream",
     "text": [
      "Total Chunks: 2\n",
      "\n",
      "=== Chunk 1 (Length: 993) ===\n",
      "The Impact of Artificial Intelligence on Society\n",
      "\n",
      "Artificial Intelligence (AI) has emerged as one of the most transformative technologies of the 21st century, revolutionizing various aspects of human life. From healthcare to finance, transportation to education, AI is reshaping industries, automating processes, and augmenting human capabilities. While AI presents numerous benefits, it also raises ethical, economic, and societal concerns that must be carefully navigated to ensure its responsible integration into society.\n",
      "\n",
      "One of the most profound impacts of AI is in the field of healthcare. AI-powered diagnostic tools enable early disease detection, improving patient outcomes and reducing healthcare costs. Machine learning algorithms analyze medical data to identify patterns that humans may overlook, aiding in personalized treatment plans. Robotic surgeries and AI-driven drug discoveries have further enhanced the efficiency of medical procedures. However, the integration of AI in\n",
      "\n",
      "=== Chunk 2 (Length: 105) ===\n",
      "healthcare raises concerns about data privacy, security, and potential biases in medical decision-making.\n"
     ]
    }
   ],
   "source": [
    "# Split the text\n",
    "english_text_chunks = chunk_text(english_doc)\n",
    "\n",
    "# Display chunk info\n",
    "print(f\"Total Chunks: {len(english_text_chunks)}\")\n",
    "for i, chunk in enumerate(\n",
    "    english_text_chunks[:3], 1\n",
    "):  # Show only first 3 chunks for preview\n",
    "    print(f\"\\n=== Chunk {i} (Length: {len(chunk)}) ===\\n{chunk}\")"
   ]
  },
  {
   "cell_type": "code",
   "execution_count": 15,
   "metadata": {},
   "outputs": [
    {
     "name": "stdout",
     "output_type": "stream",
     "text": [
      "Total Chunks: 2\n",
      "\n",
      "=== Chunk 1 (Length: 993) ===\n",
      "The Impact of Artificial Intelligence on Society\n",
      "\n",
      "Artificial Intelligence (AI) has emerged as one of the most transformative technologies of the 21st century, revolutionizing various aspects of human life. From healthcare to finance, transportation to education, AI is reshaping industries, automating processes, and augmenting human capabilities. While AI presents numerous benefits, it also raises ethical, economic, and societal concerns that must be carefully navigated to ensure its responsible integration into society.\n",
      "\n",
      "One of the most profound impacts of AI is in the field of healthcare. AI-powered diagnostic tools enable early disease detection, improving patient outcomes and reducing healthcare costs. Machine learning algorithms analyze medical data to identify patterns that humans may overlook, aiding in personalized treatment plans. Robotic surgeries and AI-driven drug discoveries have further enhanced the efficiency of medical procedures. However, the integration of AI in\n",
      "\n",
      "=== Chunk 2 (Length: 105) ===\n",
      "healthcare raises concerns about data privacy, security, and potential biases in medical decision-making.\n"
     ]
    }
   ],
   "source": [
    "# Split the text\n",
    "hindi_text_chunks = chunk_text(english_doc)\n",
    "\n",
    "# Display chunk info\n",
    "print(f\"Total Chunks: {len(hindi_text_chunks)}\")\n",
    "for i, chunk in enumerate(\n",
    "    hindi_text_chunks[:3], 1\n",
    "):  # Show only first 3 chunks for preview\n",
    "    print(f\"\\n=== Chunk {i} (Length: {len(chunk)}) ===\\n{chunk}\")"
   ]
  },
  {
   "attachments": {},
   "cell_type": "markdown",
   "metadata": {},
   "source": [
    "### **Step 4.3: Setting up the API Endpoint** \n",
    "\n"
   ]
  },
  {
   "cell_type": "code",
   "execution_count": 16,
   "metadata": {},
   "outputs": [],
   "source": [
    "client = SarvamAI(api_subscription_key=SARVAM_API_KEY)"
   ]
  },
  {
   "cell_type": "code",
   "execution_count": 17,
   "metadata": {},
   "outputs": [
    {
     "name": "stdout",
     "output_type": "stream",
     "text": [
      "\n",
      "=== Final Translated Text ===\n",
      "द इम्पैक्ट ऑफ़ आर्टिफिशियल इंटेलिजेंस ऑन सोसाइटी आर्टिफिशियल इंटेलिजेंस (ए आई) हैज़ इमर्ज़्ड एज़ वन ऑफ़ द मोस्ट ट्रांसफ़र्मेटिव टेक्नोलॉजीज़ ऑफ़ द ट्वेंटी फर्स्ट सेंचुरी, रेवोल्यूशनाइज़िंग वैरीअस एस्पेक्ट्स ऑफ़ ह्यूमन लाइफ। फ्रॉम हेल्थकेयर टू फाइनेंस, ट्रांसपोर्टेशन टू एजुकेशन, एआई इज़ रीशेपिंग इंडस्ट्रीज़, ऑटोमेटिंग प्रोसेसेज़, एंड ऑगमेंटिंग ह्यूमन केपेबिलिटीज़। व्हाइल ए आई प्रेजेंट्स न्यूमरस बेनिफिट्स, इट आल्सो रेज़ एथिकल, इकोनॉमिक, एंड सोसाइअटल कंसर्न्स दैट मस्ट बी केयरफुली नेविगेटेड टू एन्शुर इट्स रिस्पॉन्ससिबल इंटीग्रेशन इनटू सोसाइटी। वन ऑफ़ द मोस्ट प्रोफाउंड इम्पैक्ट्स ऑफ़ ए आई ज़ इन द फ़ील्ड ऑफ़ हेल्थकेयर। एआई-पावर्ड डायग्नोस्टिक टूल्स इनेबल अर्ली डिसीज डिटेक्शन, इम्प्रूविंग पेशेंट आउटकम्स एंड रिड्यूसिंग हेल्थकेयर कॉस्ट्स। मशीन लर्निंग एल्गोरिथम्स एनालाइज़ मेडिकल डेटा टू आइडेंटिफाई पैटर्न्स दैट ह्यूमन्स मे ओवरलुक, एडिंग इन पर्सनलाइज़्ड ट्रीटमेंट प्लान्स। रोबोटिक सर्जरीज़ एंड ए आई-ड्रिवन ड्रग डिस्कवरीज़ हैव फ़र्दर एन्हांस्ड द एफिशिएंसी ऑफ़ मेडिकल प्रोसीजर्स। हाउएवर, द इंटीग्रेशन ऑफ़ ए आई इन\n",
      "हेल्थकेयर रेज़ेस कंसर्न्स अबाउट डेटा प्राइवेसी, सिक्योरिटी, एंड पोटेंशियल बायसेस इन मेडिकल डिसीजन-मेकिंग।\n"
     ]
    }
   ],
   "source": [
    "# Send requests for each chunk\n",
    "translated_texts = []\n",
    "for idx, chunk in enumerate(hindi_text_chunks):\n",
    "    response = client.text.transliterate(\n",
    "        input=chunk,\n",
    "        source_language_code=\"hi-IN\",\n",
    "        target_language_code=\"hi-IN\",\n",
    "        spoken_form=True,\n",
    "        numerals_format=\"international\",\n",
    "    )\n",
    "\n",
    "    translated_text = response.transliterated_text\n",
    "    translated_texts.append(translated_text)\n",
    "\n",
    "# Combine all translated chunks\n",
    "final_translation = \"\\n\".join(translated_texts)\n",
    "print(\"\\n=== Final Translated Text ===\")\n",
    "print(final_translation)"
   ]
  },
  {
   "attachments": {},
   "cell_type": "markdown",
   "metadata": {},
   "source": [
    "\n",
    "## **5️⃣ Experimenting with Different Options**  \n",
    "\n",
    "\n",
    "We currently have **three different transliteration models**:  \n",
    "\n"
   ]
  },
  {
   "attachments": {},
   "cell_type": "markdown",
   "metadata": {},
   "source": [
    "\n",
    "### **1️⃣ Romanization (Indic → Latin Script)**  \n",
    "- Converts Indic scripts to Roman script (English alphabet).  \n",
    "- Example: `मैं ऑफिस जा रहा हूँ` → `main office ja raha hun`  \n",
    "- Parameters:  \n",
    "  - `source_language_code = \"hi-IN\"`  \n",
    "  - `target_language_code = \"en-IN\"`  \n"
   ]
  },
  {
   "cell_type": "code",
   "execution_count": 18,
   "metadata": {},
   "outputs": [
    {
     "name": "stdout",
     "output_type": "stream",
     "text": [
      "Romanized Text: Main office ja raha hun\n"
     ]
    }
   ],
   "source": [
    "response = client.text.transliterate(\n",
    "    input=\"मैं ऑफिस जा रहा हूँ\",\n",
    "    source_language_code=\"hi-IN\",\n",
    "    target_language_code=\"en-IN\",\n",
    "    spoken_form=True,\n",
    ")\n",
    "\n",
    "transliterated_text = response.transliterated_text\n",
    "print(f\"Romanized Text: {transliterated_text}\")"
   ]
  },
  {
   "attachments": {},
   "cell_type": "markdown",
   "metadata": {},
   "source": [
    "### **2️⃣ Conversion to Indic Scripts**  \n",
    "- Converts text into an Indic script from various sources:  \n",
    "\n",
    "  - **Code-mixed text**  \n",
    "    - Example: `मैं office जा रहा हूँ` → `मैं ऑफिस जा रहा हूँ`  \n",
    "    - Parameters:  \n",
    "      - `source_language_code = \"hi-IN\"`  \n",
    "      - `target_language_code = \"hi-IN\"`  \n",
    "\n",
    "  - **Romanized text**  \n",
    "    - Example: `main office ja raha hun` → `मैं ऑफिस जा रहा हूँ`  \n",
    "    - Parameters:  \n",
    "      - `source_language_code = \"hi-IN\"`  \n",
    "      - `target_language_code = \"hi-IN\"`  \n",
    "\n",
    "  - **English text**  \n",
    "    - Example: `I am going to office` → `आइ ऍम गोइंग टू ऑफिस`  \n",
    "    - Parameters:  \n",
    "      - `source_language_code = \"en-IN\"`  \n",
    "      - `target_language_code = \"hi-IN\"`  \n"
   ]
  },
  {
   "cell_type": "code",
   "execution_count": 19,
   "metadata": {},
   "outputs": [
    {
     "name": "stdout",
     "output_type": "stream",
     "text": [
      "Transliterated Text: मैं ऑफिस जा रहा हूँ\n"
     ]
    }
   ],
   "source": [
    "response = client.text.transliterate(\n",
    "    input=\"main office ja raha hun\",\n",
    "    source_language_code=\"hi-IN\",\n",
    "    target_language_code=\"hi-IN\",\n",
    "    spoken_form=True,\n",
    ")\n",
    "\n",
    "transliterated_text = response.transliterated_text\n",
    "print(f\"Transliterated Text: {transliterated_text}\")"
   ]
  },
  {
   "attachments": {},
   "cell_type": "markdown",
   "metadata": {},
   "source": [
    "\n",
    "### **3️⃣ Spoken Indic Form**  \n",
    "- Converts written text into a more natural spoken form.  \n",
    "- Example: `मुझे कल 9:30am को appointment है` → `मुझे कल सुबह साढ़े नौ बजे अपॉइंटमेंट है`  "
   ]
  },
  {
   "cell_type": "code",
   "execution_count": 20,
   "metadata": {},
   "outputs": [
    {
     "name": "stdout",
     "output_type": "stream",
     "text": [
      "Spoken Text: मुझे कल सुबह साढ़े नौ बजे अपॉइंटमेंट है\n"
     ]
    }
   ],
   "source": [
    "response = client.text.transliterate(\n",
    "    input=\"मुझे कल 9:30am को appointment है\",\n",
    "    source_language_code=\"hi-IN\",\n",
    "    target_language_code=\"hi-IN\",\n",
    "    spoken_form=True,\n",
    ")\n",
    "\n",
    "transliterated_text = response.transliterated_text\n",
    "print(f\"Spoken Text: {transliterated_text}\")"
   ]
  },
  {
   "attachments": {},
   "cell_type": "markdown",
   "metadata": {},
   "source": [
    "## **6️⃣ Advance Features**  \n",
    "\n",
    "- **`numerals_format`** – Choose between **international (0-9)** or **native (१-९)** numbers.  \n",
    "- **`spoken_form_numerals_language`** – Choose whether numbers should be spoken in **English** or the **native language**.  \n",
    "\n",
    "\n"
   ]
  },
  {
   "attachments": {},
   "cell_type": "markdown",
   "metadata": {},
   "source": [
    "### **Numerals Format**  \n",
    "`numerals_format` is an optional parameter with two options:  \n",
    "\n",
    "- **`international`** (default): Uses regular numerals (0-9).  \n",
    "- **`native`**: Uses language-specific native numerals.  \n",
    "\n",
    "#### **Example:**  \n",
    "- If `international` format is selected → `मेरा phone number है: 9840950950`.  \n",
    "- If `native` format is selected → `मेरा phone number है: ९८४०९५०९५०`.  \n",
    "\n"
   ]
  },
  {
   "cell_type": "code",
   "execution_count": 21,
   "metadata": {},
   "outputs": [
    {
     "name": "stdout",
     "output_type": "stream",
     "text": [
      "Native Numerals Text: मुझे कल सुबह साढ़े नौ बजे अपॉइंटमेंट है\n"
     ]
    }
   ],
   "source": [
    "response = client.text.transliterate(\n",
    "    input=\"मुझे कल 9:30am को appointment है\",\n",
    "    source_language_code=\"hi-IN\",\n",
    "    target_language_code=\"hi-IN\",\n",
    "    spoken_form=True,\n",
    "    numerals_format=\"native\",\n",
    ")\n",
    "\n",
    "transliterated_text = response.transliterated_text\n",
    "print(f\"Native Numerals Text: {transliterated_text}\")"
   ]
  },
  {
   "attachments": {},
   "cell_type": "markdown",
   "metadata": {},
   "source": [
    "### **Spoken Form Numerals Language**  \n",
    "`spoken_form_numerals_language` is an optional parameter with two options and only works when `spoken_form` is **true**:  \n",
    "\n",
    "- **`english`**: Numbers in the text will be spoken in **English**.  \n",
    "- **`native (default)`**: Numbers in the text will be spoken in the **native language**.  \n",
    "\n",
    "#### **Example:**  \n",
    "**Input:** `\"मेरे पास ₹200 है\"`  \n",
    "- If `english` format is selected → `\"मेरे पास टू हन्डर्ड रूपीस है\"`.  \n",
    "- If `native` format is selected → `\"मेरे पास दो सौ रुपये है\"`.  "
   ]
  },
  {
   "cell_type": "code",
   "execution_count": 22,
   "metadata": {},
   "outputs": [
    {
     "name": "stdout",
     "output_type": "stream",
     "text": [
      "Spoken Form Numerals Language Text: मुझे कल नाइन थर्टी ए एम को अपॉइंटमेंट है\n"
     ]
    }
   ],
   "source": [
    "response = client.text.transliterate(\n",
    "    input=\"मुझे कल 9:30am को appointment है\",\n",
    "    source_language_code=\"hi-IN\",\n",
    "    target_language_code=\"hi-IN\",\n",
    "    spoken_form=True,\n",
    "    spoken_form_numerals_language=\"english\",\n",
    ")\n",
    "\n",
    "transliterated_text = response.transliterated_text\n",
    "print(f\"Spoken Form Numerals Language Text: {transliterated_text}\")"
   ]
  },
  {
   "attachments": {},
   "cell_type": "markdown",
   "metadata": {},
   "source": [
    "### **7. Additional Resources**\n",
    "\n",
    "For more details, refer to the our official documentation and we are always there to support and help you on our Discord Server:\n",
    "\n",
    "- **Documentation**: [docs.sarvam.ai](https://docs.sarvam.ai)  \n",
    "- **Community**: [Join the Discord Community](https://discord.gg/hTuVuPNF)\n",
    "\n",
    "---\n",
    "\n",
    "### **8. Final Notes**\n",
    "\n",
    "- Keep your API key secure.\n",
    "\n",
    "**Keep Building!** 🚀"
   ]
  },
  {
   "attachments": {},
   "cell_type": "markdown",
   "metadata": {},
   "source": []
  }
 ],
 "metadata": {
  "kernelspec": {
   "display_name": "base",
   "language": "python",
   "name": "python3"
  },
  "language_info": {
   "codemirror_mode": {
    "name": "ipython",
    "version": 3
   },
   "file_extension": ".py",
   "mimetype": "text/x-python",
   "name": "python",
   "nbconvert_exporter": "python",
   "pygments_lexer": "ipython3",
   "version": "3.9.6"
  },
  "orig_nbformat": 4
 },
 "nbformat": 4,
 "nbformat_minor": 2
}
