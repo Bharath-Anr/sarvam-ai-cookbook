{
 "cells": [
  {
   "attachments": {},
   "cell_type": "markdown",
   "metadata": {},
   "source": [
    "# **📖 Transliteration API: A Hands-on Guide**  \n",
    "\n",
    "### **🔗 Overview**  \n",
    "This notebook demonstrates how to use the **Transliteration API** to convert text from one script to another while preserving pronunciation. It supports multiple Indic languages and offers customizable numeral formatting.  \n",
    "\n",
    "\n",
    "## **Table of Contents**  \n",
    "\n",
    "<p>1. <a href=\"#installation\">Installation</a></p>  \n",
    "<p>2. <a href=\"#authentication\">Authentication</a></p>  \n",
    "<p>3. <a href=\"#basic-usage\">Understanding the Parameters</a></p>  \n",
    "<p>4. <a href=\"#modes\">Baisc Usage</a></p>  \n",
    "<p>5. <a href=\"#advanced-features\">Advanced Features</a></p>  \n",
    "   <p>&nbsp;&nbsp;&nbsp;&nbsp;5.1 <a href=\"#numeral-format\">Numeral Format</a></p>  \n",
    "   <p>&nbsp;&nbsp;&nbsp;&nbsp;5.2 <a href=\"#transliteration\">Spoken Form</a></p>  \n",
    "<p>6. <a href=\"#error-handling\">Error Handling</a></p>  \n",
    "<p>7. <a href=\"#conclusion\">Conclusion</a></p>  "
   ]
  },
  {
   "attachments": {},
   "cell_type": "markdown",
   "metadata": {},
   "source": [
    "## **1️⃣ Setup & Installation**  \n",
    "\n",
    "Before you begin, ensure you have the necessary Python libraries installed. Run the following commands to install the required packages:"
   ]
  },
  {
   "cell_type": "code",
   "execution_count": null,
   "metadata": {},
   "outputs": [],
   "source": [
    "!pip install requests"
   ]
  },
  {
   "cell_type": "code",
   "execution_count": null,
   "metadata": {},
   "outputs": [],
   "source": [
    "import requests"
   ]
  },
  {
   "attachments": {},
   "cell_type": "markdown",
   "metadata": {},
   "source": [
    "## 2️⃣ **Authentication**\n",
    "\n",
    "\n",
    "To use the API, you need an API subscription key. Follow these steps to set up your API key:\n",
    "\n",
    "1. **Obtain your API key**: If you don’t have an API key, sign up on the [Sarvam AI Dashboard](https://dashboard.sarvam.ai/) to get one.\n",
    "2. **Replace the placeholder key**: In the code below, replace \"YOUR_SARVAM_AI_API_KEY\" with your actual API key."
   ]
  },
  {
   "cell_type": "code",
   "execution_count": null,
   "metadata": {},
   "outputs": [],
   "source": [
    "SARVAM_API_KEY = \"YOUR_SARVAM_API_KEY\""
   ]
  },
  {
   "attachments": {},
   "cell_type": "markdown",
   "metadata": {},
   "source": [
    "\n",
    "## **3️⃣ Understanding the Parameters**  \n",
    "🔹 The API takes several key parameters:  \n",
    "✔ **`input`** – The text to be transliterated.  \n",
    "✔ **`source_language_code`** – Language of the input text.  \n",
    "✔ **`target_language_code`** – Desired transliteration output language.  \n",
    "✔ **`numerals_format`** – Choose between **international (0-9)** or **native (१-९)** numbers.  \n",
    "✔ **`spoken_form`** – Whether to convert text into a natural spoken format.  \n",
    "✔ **`spoken_form_numerals_language`** – Choose whether numbers should be spoken in **English** or **native** language.  \n",
    "\n",
    "\n",
    "🚫 Note: Transliteration between Indic languages (e.g., Hindi → Bengali) is not supported. \n"
   ]
  },
  {
   "attachments": {},
   "cell_type": "markdown",
   "metadata": {},
   "source": [
    "## **4️⃣ Basic Usage**  \n",
    "\n"
   ]
  },
  {
   "attachments": {},
   "cell_type": "markdown",
   "metadata": {},
   "source": [
    "### **Step 4.1: Read the Document**\n",
    "\n",
    "We have two sample documents under the `data` folder:  \n",
    "- `sample1.txt` contains an essay on *The Impact of Artificial Intelligence on Society* in English.  \n",
    "- `sample1.txt` contains an essay on *The Impact of Artificial Intelligence on Society* in Hindi.  "
   ]
  },
  {
   "cell_type": "code",
   "execution_count": null,
   "metadata": {},
   "outputs": [],
   "source": [
    "def read_file(file_path, lang_name):\n",
    "    try:\n",
    "        with open(file_path, \"r\", encoding=\"utf-8\") as file:\n",
    "            # Read the first 5 lines\n",
    "            lines = [next(file) for _ in range(5)]\n",
    "            print(f\"=== {lang_name} Text (First Few Lines) ===\")\n",
    "            print(\"\".join(lines))  # Print first few lines\n",
    "\n",
    "            # Read the remaining content\n",
    "            remaining_text = file.read()\n",
    "\n",
    "            # Combine all text\n",
    "            full_doc = \"\".join(lines) + remaining_text\n",
    "\n",
    "            # Count total characters\n",
    "            total_chars = len(full_doc)\n",
    "            print(f\"\\nTotal number of characters in {lang_name} file:\", total_chars)\n",
    "\n",
    "            return full_doc\n",
    "    except FileNotFoundError:\n",
    "        print(f\"Error: {file_path} not found.\")\n",
    "        return None\n",
    "    except Exception as e:\n",
    "        print(f\"An error occurred while reading {file_path}: {e}\")\n",
    "        return None"
   ]
  },
  {
   "cell_type": "code",
   "execution_count": null,
   "metadata": {},
   "outputs": [],
   "source": [
    "\n",
    "# Read English and Hindi documents\n",
    "english_doc = read_file(\"data/sample1.txt\", \"English\")\n",
    "hindi_doc = read_file(\"data/sample2.txt\", \"Hindi\")"
   ]
  },
  {
   "attachments": {},
   "cell_type": "markdown",
   "metadata": {},
   "source": [
    "### **Step 4.2: Split the text into chunks of at most 1000 characters** \n",
    "\n",
    "Since the API has a restriction of 1000 characters per request, we need to split the text accordingly."
   ]
  },
  {
   "cell_type": "code",
   "execution_count": null,
   "metadata": {},
   "outputs": [],
   "source": [
    "def chunk_text(text, max_length=1000):\n",
    "    \"\"\"Splits text into chunks of at most max_length characters while preserving word boundaries.\"\"\"\n",
    "    chunks = []\n",
    "    \n",
    "    while len(text) > max_length:\n",
    "        split_index = text.rfind(\" \", 0, max_length)  # Find the last space within limit\n",
    "        if split_index == -1:  \n",
    "            split_index = max_length  # No space found, force split at max_length\n",
    "        \n",
    "        chunks.append(text[:split_index].strip())  # Trim spaces before adding\n",
    "        text = text[split_index:].lstrip()  # Remove leading spaces for the next chunk\n",
    "    \n",
    "    if text:\n",
    "        chunks.append(text.strip())  # Add the last chunk\n",
    "    \n",
    "    return chunks"
   ]
  },
  {
   "cell_type": "code",
   "execution_count": null,
   "metadata": {},
   "outputs": [],
   "source": [
    "# Split the text\n",
    "english_text_chunks = chunk_text(english_doc)\n",
    "\n",
    "# Display chunk info\n",
    "print(f\"Total Chunks: {len(english_text_chunks)}\")\n",
    "for i, chunk in enumerate(english_text_chunks[:3], 1):  # Show only first 3 chunks for preview\n",
    "    print(f\"\\n=== Chunk {i} (Length: {len(chunk)}) ===\\n{chunk}\")"
   ]
  },
  {
   "cell_type": "code",
   "execution_count": null,
   "metadata": {},
   "outputs": [],
   "source": [
    "# Split the text\n",
    "hindi_text_chunks = chunk_text(english_doc)\n",
    "\n",
    "# Display chunk info\n",
    "print(f\"Total Chunks: {len(hindi_text_chunks)}\")\n",
    "for i, chunk in enumerate(hindi_text_chunks[:3], 1):  # Show only first 3 chunks for preview\n",
    "    print(f\"\\n=== Chunk {i} (Length: {len(chunk)}) ===\\n{chunk}\")"
   ]
  },
  {
   "attachments": {},
   "cell_type": "markdown",
   "metadata": {},
   "source": [
    "### **Step 4.3: Setting up the API Endpoint** \n",
    "\n"
   ]
  },
  {
   "cell_type": "code",
   "execution_count": null,
   "metadata": {},
   "outputs": [],
   "source": [
    "import requests\n",
    "\n",
    "# Define API request details\n",
    "url = \"https://api.sarvam.ai/transliterate\"\n",
    "headers = {\n",
    "    \"api-subscription-key\": SARVAM_API_KEY,\n",
    "    \"Content-Type\": \"application/json\"\n",
    "}"
   ]
  },
  {
   "cell_type": "code",
   "execution_count": null,
   "metadata": {},
   "outputs": [],
   "source": [
    "# Send requests for each chunk\n",
    "translated_texts = []\n",
    "for idx, chunk in enumerate(hindi_text_chunks):\n",
    "    payload = {\n",
    "        \"input\": chunk,\n",
    "        \"source_language_code\": \"hi-IN\",\n",
    "        \"target_language_code\": \"hi-IN\",\n",
    "        \"spoken_form\": True,\n",
    "        \"numerals_format\": \"international\"\n",
    "    }\n",
    "\n",
    "    response = requests.post(url, json=payload, headers=headers)\n",
    "\n",
    "    if response.status_code == 200:\n",
    "        translated_text = response.json().get(\"transliterated_text\", \"Translation not available\")\n",
    "        translated_texts.append(translated_text)\n",
    "        print(f\"\\n=== Translated Chunk {idx + 1} ===\\n{translated_text}\\n\")\n",
    "    else:\n",
    "        print(f\"Error: {response.status_code}, {response.text}\")\n",
    "\n",
    "# Combine all translated chunks\n",
    "final_translation = \"\\n\".join(translated_texts)\n",
    "print(\"\\n=== Final Translated Text ===\")\n",
    "print(final_translation)\n"
   ]
  },
  {
   "attachments": {},
   "cell_type": "markdown",
   "metadata": {},
   "source": [
    "\n",
    "## **5️⃣ Experimenting with Different Options**  \n",
    "\n",
    "\n",
    "We currently have **three different transliteration models**:  \n",
    "\n"
   ]
  },
  {
   "attachments": {},
   "cell_type": "markdown",
   "metadata": {},
   "source": [
    "\n",
    "### **1️⃣ Romanization (Indic → Latin Script)**  \n",
    "- Converts Indic scripts to Roman script (English alphabet).  \n",
    "- Example: `मैं ऑफिस जा रहा हूँ` → `main office ja raha hun`  \n",
    "- Parameters:  \n",
    "  - `source_language_code = \"hi-IN\"`  \n",
    "  - `target_language_code = \"en-IN\"`  \n"
   ]
  },
  {
   "cell_type": "code",
   "execution_count": null,
   "metadata": {},
   "outputs": [],
   "source": [
    "# Define the payload for Romanization (Hindi to Latin script)\n",
    "payload = {\n",
    "    \"input\": \"मैं ऑफिस जा रहा हूँ\",\n",
    "    \"source_language_code\": \"hi-IN\",\n",
    "    \"target_language_code\": \"en-IN\",\n",
    "    \"spoken_form\": True\n",
    "}\n",
    "\n",
    "# Send the request\n",
    "response = requests.post(url, json=payload, headers=headers)\n",
    "\n",
    "# Extract the transliterated text\n",
    "if response.status_code == 200:\n",
    "    transliterated_text = response.json().get(\"transliterated_text\", \"Translation not available\")\n",
    "    print(\"Romanized Text:\", transliterated_text)\n",
    "else:\n",
    "    print(f\"Error: {response.status_code}, {response.text}\")\n"
   ]
  },
  {
   "attachments": {},
   "cell_type": "markdown",
   "metadata": {},
   "source": [
    "### **2️⃣ Conversion to Indic Scripts**  \n",
    "- Converts text into an Indic script from various sources:  \n",
    "\n",
    "  - **Code-mixed text**  \n",
    "    - Example: `मैं office जा रहा हूँ` → `मैं ऑफिस जा रहा हूँ`  \n",
    "    - Parameters:  \n",
    "      - `source_language_code = \"hi-IN\"`  \n",
    "      - `target_language_code = \"hi-IN\"`  \n",
    "\n",
    "  - **Romanized text**  \n",
    "    - Example: `main office ja raha hun` → `मैं ऑफिस जा रहा हूँ`  \n",
    "    - Parameters:  \n",
    "      - `source_language_code = \"hi-IN\"`  \n",
    "      - `target_language_code = \"hi-IN\"`  \n",
    "\n",
    "  - **English text**  \n",
    "    - Example: `I am going to office` → `आइ ऍम गोइंग टू ऑफिस`  \n",
    "    - Parameters:  \n",
    "      - `source_language_code = \"en-IN\"`  \n",
    "      - `target_language_code = \"hi-IN\"`  \n"
   ]
  },
  {
   "cell_type": "code",
   "execution_count": null,
   "metadata": {},
   "outputs": [],
   "source": [
    "payload = {\n",
    "    \"input\": \"main office ja raha hun\",\n",
    "    \"source_language_code\": \"hi-IN\",\n",
    "    \"target_language_code\": \"hi-IN\",\n",
    "    \"spoken_form\": True\n",
    "}\n",
    "\n",
    "# Send the request\n",
    "response = requests.post(url, json=payload, headers=headers)\n",
    "\n",
    "# Extract the transliterated text\n",
    "if response.status_code == 200:\n",
    "    transliterated_text = response.json().get(\"transliterated_text\", \"Translation not available\")\n",
    "    print(\"Romanized Text:\", transliterated_text)\n",
    "else:\n",
    "    print(f\"Error: {response.status_code}, {response.text}\")"
   ]
  },
  {
   "attachments": {},
   "cell_type": "markdown",
   "metadata": {},
   "source": [
    "\n",
    "### **3️⃣ Spoken Indic Form**  \n",
    "- Converts written text into a more natural spoken form.  \n",
    "- Example: `मुझे कल 9:30am को appointment है` → `मुझे कल सुबह साढ़े नौ बजे अपॉइंटमेंट है`  "
   ]
  },
  {
   "cell_type": "code",
   "execution_count": null,
   "metadata": {},
   "outputs": [],
   "source": [
    "payload = {\n",
    "    \"input\": \"मुझे कल 9:30am को appointment है\",\n",
    "    \"source_language_code\": \"hi-IN\",\n",
    "    \"target_language_code\": \"hi-IN\",\n",
    "    \"spoken_form\": True,\n",
    "}\n",
    "\n",
    "# Send the request\n",
    "response = requests.post(url, json=payload, headers=headers)\n",
    "\n",
    "# Extract the transliterated text\n",
    "if response.status_code == 200:\n",
    "    transliterated_text = response.json().get(\"transliterated_text\", \"Translation not available\")\n",
    "    print(\"Romanized Text:\", transliterated_text)\n",
    "else:\n",
    "    print(f\"Error: {response.status_code}, {response.text}\")"
   ]
  },
  {
   "attachments": {},
   "cell_type": "markdown",
   "metadata": {},
   "source": [
    "## **6️⃣ Advance Features**  \n",
    "\n",
    "- **`numerals_format`** – Choose between **international (0-9)** or **native (१-९)** numbers.  \n",
    "- **`spoken_form_numerals_language`** – Choose whether numbers should be spoken in **English** or the **native language**.  \n",
    "\n",
    "\n"
   ]
  },
  {
   "attachments": {},
   "cell_type": "markdown",
   "metadata": {},
   "source": [
    "### **Numerals Format**  \n",
    "`numerals_format` is an optional parameter with two options:  \n",
    "\n",
    "- **`international`** (default): Uses regular numerals (0-9).  \n",
    "- **`native`**: Uses language-specific native numerals.  \n",
    "\n",
    "#### **Example:**  \n",
    "- If `international` format is selected → `मेरा phone number है: 9840950950`.  \n",
    "- If `native` format is selected → `मेरा phone number है: ९८४०९५०९५०`.  \n",
    "\n"
   ]
  },
  {
   "cell_type": "code",
   "execution_count": null,
   "metadata": {},
   "outputs": [],
   "source": [
    "payload = {\n",
    "    \"input\": \"मुझे कल 9:30am को appointment है\",\n",
    "    \"source_language_code\": \"hi-IN\",\n",
    "    \"target_language_code\": \"hi-IN\",\n",
    "    \"spoken_form\": True,\n",
    "    \"numerals_format\": \"native\"\n",
    "}\n",
    "\n",
    "# Send the request\n",
    "response = requests.post(url, json=payload, headers=headers)\n",
    "\n",
    "# Extract the transliterated text\n",
    "if response.status_code == 200:\n",
    "    transliterated_text = response.json().get(\"transliterated_text\", \"Translation not available\")\n",
    "    print(\"Romanized Text:\", transliterated_text)\n",
    "else:\n",
    "    print(f\"Error: {response.status_code}, {response.text}\")"
   ]
  },
  {
   "attachments": {},
   "cell_type": "markdown",
   "metadata": {},
   "source": [
    "### **Spoken Form Numerals Language**  \n",
    "`spoken_form_numerals_language` is an optional parameter with two options and only works when `spoken_form` is **true**:  \n",
    "\n",
    "- **`english`**: Numbers in the text will be spoken in **English**.  \n",
    "- **`native (default)`**: Numbers in the text will be spoken in the **native language**.  \n",
    "\n",
    "#### **Example:**  \n",
    "**Input:** `\"मेरे पास ₹200 है\"`  \n",
    "- If `english` format is selected → `\"मेरे पास टू हन्डर्ड रूपीस है\"`.  \n",
    "- If `native` format is selected → `\"मेरे पास दो सौ रुपये है\"`.  "
   ]
  },
  {
   "cell_type": "code",
   "execution_count": null,
   "metadata": {},
   "outputs": [],
   "source": [
    "payload = {\n",
    "    \"input\": \"मुझे कल 9:30am को appointment है\",\n",
    "    \"source_language_code\": \"hi-IN\",\n",
    "    \"target_language_code\": \"hi-IN\",\n",
    "    \"spoken_form\": True,\n",
    "    \"spoken_form_numerals_language\": \"english\"\n",
    "}\n",
    "\n",
    "# Send the request\n",
    "response = requests.post(url, json=payload, headers=headers)\n",
    "\n",
    "# Extract the transliterated text\n",
    "if response.status_code == 200:\n",
    "    transliterated_text = response.json().get(\"transliterated_text\", \"Translation not available\")\n",
    "    print(\"Romanized Text:\", transliterated_text)\n",
    "else:\n",
    "    print(f\"Error: {response.status_code}, {response.text}\")"
   ]
  },
  {
   "cell_type": "markdown",
   "metadata": {},
   "source": [
    "\n",
    "\n",
    "## **7️⃣ Error Handling**  \n",
    "\n",
    "You may encounter these errors while using the API:  \n",
    "\n",
    "- **403 Forbidden** (`invalid_api_key_error`)  \n",
    "  - Cause: Invalid API key.  \n",
    "  - Solution: Use a valid API key from the [Sarvam AI Dashboard](https://dashboard.sarvam.ai/).  \n",
    "\n",
    "- **429 Too Many Requests** (`insufficient_quota_error`)  \n",
    "  - Cause: Exceeded API quota.  \n",
    "  - Solution: Check your usage, upgrade if needed, or implement exponential backoff when retrying.  \n",
    "\n",
    "- **500 Internal Server Error** (`internal_server_error`)  \n",
    "  - Cause: Issue on our servers.  \n",
    "  - Solution: Try again later. If persistent, contact support.  \n",
    "\n",
    "- **400 Bad Request** (`invalid_request_error`)  \n",
    "  - Cause: Incorrect request formatting.  \n",
    "  - Solution: Verify your request structure and parameters.  \n",
    "\n"
   ]
  },
  {
   "attachments": {},
   "cell_type": "markdown",
   "metadata": {},
   "source": [
    "### **8. Additional Resources**\n",
    "\n",
    "For more details, refer to the our official documentation and we are always there to support and help you on our Discord Server:\n",
    "\n",
    "- **Documentation**: [docs.sarvam.ai](https://docs.sarvam.ai)  \n",
    "- **Community**: [Join the Discord Community](https://discord.gg/hTuVuPNF)\n",
    "\n",
    "---\n",
    "\n",
    "### **9. Final Notes**\n",
    "\n",
    "- Keep your API key secure.\n",
    "- Use clear audio for best results.\n",
    "- Explore advanced features like diarization and translation.\n",
    "\n",
    "**Keep Building!** 🚀"
   ]
  }
 ],
 "metadata": {
  "kernelspec": {
   "display_name": "Python 3",
   "language": "python",
   "name": "python3"
  },
  "language_info": {
   "codemirror_mode": {
    "name": "ipython",
    "version": 3
   },
   "file_extension": ".py",
   "mimetype": "text/x-python",
   "name": "python",
   "nbconvert_exporter": "python",
   "pygments_lexer": "ipython3",
   "version": "3.11.9"
  },
  "orig_nbformat": 4
 },
 "nbformat": 4,
 "nbformat_minor": 2
}
