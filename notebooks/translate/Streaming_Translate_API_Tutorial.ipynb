{
 "cells": [
  {
   "attachments": {},
   "cell_type": "markdown",
   "metadata": {},
   "source": [
    "# **Sarvam Translate API Tutorial**\n",
    "\n",
    "This notebook demonstrates how to use the **Sarvam translate API** to translate tests/paragraphs from one language to another. The API supports additional features such as transliteration(a type of conversion of a text from one script to another that involves swapping letters).\n",
    "\n",
    "\n",
    "\n",
    "## **Step 1. Installation**\n",
    "\n",
    "Before you begin, ensure you have the necessary Python libraries installed. Run the following commands to install the required packages:\n"
   ]
  },
  {
   "cell_type": "code",
   "execution_count": 1,
   "metadata": {},
   "outputs": [
    {
     "name": "stdout",
     "output_type": "stream",
     "text": [
      "Requirement already satisfied: sarvamai in /Users/kurianbenoy/miniforge3/lib/python3.12/site-packages (0.1.0)\n",
      "Requirement already satisfied: httpx>=0.21.2 in /Users/kurianbenoy/miniforge3/lib/python3.12/site-packages (from sarvamai) (0.28.1)\n",
      "Requirement already satisfied: pydantic>=1.9.2 in /Users/kurianbenoy/miniforge3/lib/python3.12/site-packages (from sarvamai) (1.9.2)\n",
      "Requirement already satisfied: pydantic-core<3.0.0,>=2.18.2 in /Users/kurianbenoy/miniforge3/lib/python3.12/site-packages (from sarvamai) (2.33.1)\n",
      "Requirement already satisfied: typing_extensions>=4.0.0 in /Users/kurianbenoy/miniforge3/lib/python3.12/site-packages (from sarvamai) (4.13.2)\n",
      "Requirement already satisfied: anyio in /Users/kurianbenoy/miniforge3/lib/python3.12/site-packages (from httpx>=0.21.2->sarvamai) (4.9.0)\n",
      "Requirement already satisfied: certifi in /Users/kurianbenoy/miniforge3/lib/python3.12/site-packages (from httpx>=0.21.2->sarvamai) (2025.1.31)\n",
      "Requirement already satisfied: httpcore==1.* in /Users/kurianbenoy/miniforge3/lib/python3.12/site-packages (from httpx>=0.21.2->sarvamai) (1.0.8)\n",
      "Requirement already satisfied: idna in /Users/kurianbenoy/miniforge3/lib/python3.12/site-packages (from httpx>=0.21.2->sarvamai) (3.10)\n",
      "Requirement already satisfied: h11<0.15,>=0.13 in /Users/kurianbenoy/miniforge3/lib/python3.12/site-packages (from httpcore==1.*->httpx>=0.21.2->sarvamai) (0.14.0)\n",
      "Requirement already satisfied: sniffio>=1.1 in /Users/kurianbenoy/miniforge3/lib/python3.12/site-packages (from anyio->httpx>=0.21.2->sarvamai) (1.3.1)\n"
     ]
    }
   ],
   "source": [
    "!pip install sarvamai"
   ]
  },
  {
   "attachments": {},
   "cell_type": "markdown",
   "metadata": {},
   "source": [
    "## **Step 2: Set Up API Key**\n",
    "\n",
    "\n",
    "To use the Saaras API, you need an API subscription key. Follow these steps to set up your API key:\n",
    "\n",
    "1. **Obtain your API key**: If you don’t have an API key, sign up on the [Sarvam AI Dashboard](https://dashboard.sarvam.ai/) to get one.\n",
    "2. **Replace the placeholder key**: In the code below, replace \"YOUR_SARVAM_AI_API_KEY\" with your actual API key."
   ]
  },
  {
   "cell_type": "code",
   "execution_count": 2,
   "metadata": {},
   "outputs": [],
   "source": [
    "SARVAM_API_KEY = \"YOUR_SARVAM_API_KEY\""
   ]
  },
  {
   "attachments": {},
   "cell_type": "markdown",
   "metadata": {},
   "source": [
    "## **Step 3: Read the Document**\n",
    "\n",
    "We have two sample documents under the `data` folder:  \n",
    "- `sample1.txt` contains an essay on *The Impact of Artificial Intelligence on Society* in English.  \n",
    "- `sample2.txt` contains the same essay in Hindi.\n"
   ]
  },
  {
   "cell_type": "code",
   "execution_count": 4,
   "metadata": {},
   "outputs": [
    {
     "name": "stdout",
     "output_type": "stream",
     "text": [
      "=== English Text (First Few Lines) ===\n",
      "The Impact of Artificial Intelligence on Society\n",
      "\n",
      "Artificial Intelligence (AI) has emerged as one of the most transformative technologies of the 21st century, revolutionizing various aspects of human life. From healthcare to finance, transportation to education, AI is reshaping industries, automating processes, and augmenting human capabilities. While AI presents numerous benefits, it also raises ethical, economic, and societal concerns that must be carefully navigated to ensure its responsible integration into society.\n",
      "\n",
      "One of the most profound impacts of AI is in the field of healthcare. AI-powered diagnostic tools enable early disease detection, improving patient outcomes and reducing healthcare costs. Machine learning algorithms analyze medical data to identify patterns that humans may overlook, aiding in personalized treatment plans. Robotic surgeries and AI-driven drug discoveries have further enhanced the efficiency of medical procedures. However, the integration of AI in healthcare raises concerns about data privacy, security, and potential biases in medical decision-making.\n",
      "\n",
      "\n",
      "Total number of characters in file: 1100\n"
     ]
    }
   ],
   "source": [
    "with open(\"data/sample1.txt\", \"r\", encoding=\"utf-8\") as file1:\n",
    "    # Read first 5 lines\n",
    "    lines = [next(file1) for _ in range(5)]\n",
    "    print(\"=== English Text (First Few Lines) ===\")\n",
    "    print(\"\".join(lines))  # Print first few lines\n",
    "\n",
    "    # Read the remaining content\n",
    "    remaining_text = file1.read()\n",
    "\n",
    "    # Combine all text\n",
    "    full_text = \"\".join(lines) + remaining_text\n",
    "\n",
    "    # Count total characters\n",
    "    total_chars = len(full_text)\n",
    "    print(\"\\nTotal number of characters in file:\", total_chars)"
   ]
  },
  {
   "attachments": {},
   "cell_type": "markdown",
   "metadata": {},
   "source": [
    "## **Step 4: Sentence Splitting for Streaming**  \n",
    "\n",
    "To enable real-time translation, we first split the text into individual sentences using **regex**, detecting boundaries like `.`, `!`, and `?`. This ensures **contextual clarity** and prevents broken translations.  \n",
    "\n",
    "Each sentence is then sent to the API **one by one**, allowing translations to appear sequentially, creating a smooth streaming effect.\n"
   ]
  },
  {
   "cell_type": "code",
   "execution_count": 5,
   "metadata": {},
   "outputs": [
    {
     "name": "stdout",
     "output_type": "stream",
     "text": [
      "\n",
      "=== First 5 Sentences ===\n",
      "1. The Impact of Artificial Intelligence on Society\n",
      "\n",
      "Artificial Intelligence (AI) has emerged as one of the most transformative technologies of the 21st century, revolutionizing various aspects of human life.\n",
      "2. From healthcare to finance, transportation to education, AI is reshaping industries, automating processes, and augmenting human capabilities.\n",
      "3. While AI presents numerous benefits, it also raises ethical, economic, and societal concerns that must be carefully navigated to ensure its responsible integration into society.\n",
      "4. One of the most profound impacts of AI is in the field of healthcare.\n",
      "5. AI-powered diagnostic tools enable early disease detection, improving patient outcomes and reducing healthcare costs.\n"
     ]
    }
   ],
   "source": [
    "import re\n",
    "\n",
    "\n",
    "def split_into_sentences(text):\n",
    "    sentences = re.split(r\"(?<=[.!?])\\s+\", text.strip())\n",
    "    return sentences\n",
    "\n",
    "\n",
    "sentences_list = split_into_sentences(full_text)\n",
    "\n",
    "# Print first 5 sentences (or all if fewer than 5)\n",
    "print(\"\\n=== First 5 Sentences ===\")\n",
    "for i, sentence in enumerate(sentences_list[:5], 1):\n",
    "    print(f\"{i}. {sentence}\")"
   ]
  },
  {
   "attachments": {},
   "cell_type": "markdown",
   "metadata": {},
   "source": [
    "## **Step 5: Calling the API Endpoint**  "
   ]
  },
  {
   "cell_type": "code",
   "execution_count": 6,
   "metadata": {},
   "outputs": [],
   "source": [
    "from sarvamai import SarvamAI\n",
    "\n",
    "client = SarvamAI(api_subscription_key=SARVAM_API_KEY)"
   ]
  },
  {
   "cell_type": "code",
   "execution_count": null,
   "metadata": {},
   "outputs": [
    {
     "name": "stdout",
     "output_type": "stream",
     "text": [
      "Translated Text: Artificial Intelligence का समाज पर असर\n",
      "\n",
      "Artificial Intelligence (AI) 21st century की सबसे बड़ी technologies में से एक बन कर उभरा है, जो इन्सानी ज़िंदगी के कई पहलुओं में क्रांति ला रहा है।\n",
      "Translated Text: Healthcare से लेकर finance, transportation से लेकर education तक, AI हर industry में बदलाव ला रहा है, काम आसान कर रहा है, और इन्सानों की काबिलियत बढ़ा रहा है।\n",
      "Translated Text: AI के कई फ़ायदे तो हैं, लेकिन इसके साथ ही कुछ ethical, economic और societal concerns भी हैं जिन पर ध्यान देना ज़रूरी है, ताकि इसे समाज में सही तरीक़े से शामिल किया जा सके।\n",
      "Translated Text: AI का सबसे गहरा असर healthcare के क्षेत्र में है।\n",
      "Translated Text: AI-powered diagnostic tools से बीमारी का जल्दी पता चल जाता है, जिससे मरीज़ों का इलाज बेहतर होता है और healthcare cost भी कम होता है।\n",
      "Translated Text: Machine learning algorithms medical data को analyze करके ऐसे patterns ढूंढते हैं जो इंसान नहीं देख पाते, जिससे personalized treatment plan बनाने में मदद मिलती है।\n",
      "Translated Text: Robotic surgeries और AI-driven drug discoveries ने medical procedures की efficiency और भी बढ़ा दी है।\n",
      "Translated Text: लेकिन, healthcare में AI को शामिल करने से data privacy, security और medical decision-making में bias की चिंता बढ़ती है।\n"
     ]
    }
   ],
   "source": [
    "import time\n",
    "\n",
    "\n",
    "if not SARVAM_API_KEY:\n",
    "    raise ValueError(\"API key is missing! Set SARVAM_API_KEY in environment variables.\")\n",
    "\n",
    "\n",
    "for i, sentence in enumerate(sentences_list, 1):\n",
    "    response = client.text.translate(\n",
    "        input=sentence,\n",
    "        source_language_code=\"en-IN\",\n",
    "        target_language_code=\"hi-IN\",\n",
    "        speaker_gender=\"Male\",\n",
    "        mode=\"classic-colloquial\",\n",
    "        enable_preprocessing=False,\n",
    "    )\n",
    "\n",
    "    translation = response.translated_text\n",
    "    print(f\"Translated Text: {translation}\")\n",
    "\n",
    "    time.sleep(0.2)"
   ]
  },
  {
   "cell_type": "markdown",
   "metadata": {},
   "source": [
    "### **6. Additional Resources**\n",
    "\n",
    "For more details, refer to the our official documentation and we are always there to support and help you on our Discord Server:\n",
    "\n",
    "- **Documentation**: [docs.sarvam.ai](https://docs.sarvam.ai)  \n",
    "- **Community**: [Join the Discord Community](https://discord.gg/hTuVuPNF)\n",
    "\n",
    "---\n",
    "\n",
    "### **7. Final Notes**\n",
    "\n",
    "- Keep your API key secure.\n",
    "- Use clear audio for best results.\n",
    "- Explore advanced features like diarization and translation.\n",
    "\n",
    "**Keep Building!** 🚀"
   ]
  }
 ],
 "metadata": {
  "kernelspec": {
   "display_name": "base",
   "language": "python",
   "name": "python3"
  },
  "language_info": {
   "codemirror_mode": {
    "name": "ipython",
    "version": 3
   },
   "file_extension": ".py",
   "mimetype": "text/x-python",
   "name": "python",
   "nbconvert_exporter": "python",
   "pygments_lexer": "ipython3",
   "version": "3.12.9"
  },
  "orig_nbformat": 4
 },
 "nbformat": 4,
 "nbformat_minor": 2
}
