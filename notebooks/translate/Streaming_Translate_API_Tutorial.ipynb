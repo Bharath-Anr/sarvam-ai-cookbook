{
 "cells": [
  {
   "attachments": {},
   "cell_type": "markdown",
   "metadata": {},
   "source": [
    "# **Sarvam Translate API Tutorial**\n",
    "\n",
    "This notebook demonstrates how to use the **Sarvam translate API** to translate tests/paragraphs from one language to another. The API supports additional features such as transliteration(a type of conversion of a text from one script to another that involves swapping letters).\n",
    "\n",
    "\n",
    "\n",
    "## **Step 1. Installation**\n",
    "\n",
    "Before you begin, ensure you have the necessary Python libraries installed. Run the following commands to install the required packages:\n"
   ]
  },
  {
   "cell_type": "code",
   "execution_count": 1,
   "metadata": {},
   "outputs": [
    {
     "name": "stdout",
     "output_type": "stream",
     "text": [
      "Requirement already satisfied: requests in /opt/homebrew/lib/python3.11/site-packages (2.31.0)\n",
      "Requirement already satisfied: charset-normalizer<4,>=2 in /opt/homebrew/lib/python3.11/site-packages (from requests) (3.3.2)\n",
      "Requirement already satisfied: idna<4,>=2.5 in /opt/homebrew/lib/python3.11/site-packages (from requests) (3.7)\n",
      "Requirement already satisfied: urllib3<3,>=1.21.1 in /opt/homebrew/lib/python3.11/site-packages (from requests) (1.26.18)\n",
      "Requirement already satisfied: certifi>=2017.4.17 in /opt/homebrew/lib/python3.11/site-packages (from requests) (2024.2.2)\n",
      "\n",
      "\u001b[1m[\u001b[0m\u001b[34;49mnotice\u001b[0m\u001b[1;39;49m]\u001b[0m\u001b[39;49m A new release of pip is available: \u001b[0m\u001b[31;49m24.2\u001b[0m\u001b[39;49m -> \u001b[0m\u001b[32;49m25.0.1\u001b[0m\n",
      "\u001b[1m[\u001b[0m\u001b[34;49mnotice\u001b[0m\u001b[1;39;49m]\u001b[0m\u001b[39;49m To update, run: \u001b[0m\u001b[32;49mpython3.11 -m pip install --upgrade pip\u001b[0m\n"
     ]
    }
   ],
   "source": [
    "!pip install requests"
   ]
  },
  {
   "attachments": {},
   "cell_type": "markdown",
   "metadata": {},
   "source": [
    "## **Step 2: Set Up API Key**\n",
    "\n",
    "\n",
    "To use the Saaras API, you need an API subscription key. Follow these steps to set up your API key:\n",
    "\n",
    "1. **Obtain your API key**: If you don’t have an API key, sign up on the [Sarvam AI Dashboard](https://dashboard.sarvam.ai/) to get one.\n",
    "2. **Replace the placeholder key**: In the code below, replace \"YOUR_SARVAM_AI_API_KEY\" with your actual API key."
   ]
  },
  {
   "cell_type": "code",
   "execution_count": 7,
   "metadata": {},
   "outputs": [],
   "source": [
    "SARVAM_API_KEY = \"YOUR_SARVAM_API_KEY\""
   ]
  },
  {
   "attachments": {},
   "cell_type": "markdown",
   "metadata": {},
   "source": [
    "## **Step 3: Read the Document**\n",
    "\n",
    "We have two sample documents under the `data` folder:  \n",
    "- `sample1.txt` contains an essay on *The Impact of Artificial Intelligence on Society* in English.  \n",
    "- `sample2.txt` contains the same essay in Hindi.\n"
   ]
  },
  {
   "cell_type": "code",
   "execution_count": 16,
   "metadata": {},
   "outputs": [
    {
     "name": "stdout",
     "output_type": "stream",
     "text": [
      "=== English Text (First Few Lines) ===\n",
      "The Impact of Artificial Intelligence on Society\n",
      "\n",
      "Artificial Intelligence (AI) has emerged as one of the most transformative technologies of the 21st century, revolutionizing various aspects of human life. From healthcare to finance, transportation to education, AI is reshaping industries, automating processes, and augmenting human capabilities. While AI presents numerous benefits, it also raises ethical, economic, and societal concerns that must be carefully navigated to ensure its responsible integration into society.\n",
      "\n",
      "One of the most profound impacts of AI is in the field of healthcare. AI-powered diagnostic tools enable early disease detection, improving patient outcomes and reducing healthcare costs. Machine learning algorithms analyze medical data to identify patterns that humans may overlook, aiding in personalized treatment plans. Robotic surgeries and AI-driven drug discoveries have further enhanced the efficiency of medical procedures. However, the integration of AI in healthcare raises concerns about data privacy, security, and potential biases in medical decision-making.\n",
      "\n",
      "\n",
      "Total number of characters in file: 1100\n"
     ]
    }
   ],
   "source": [
    "with open(\"sample1.txt\", \"r\", encoding=\"utf-8\") as file1:\n",
    "    # Read first 5 lines\n",
    "    lines = [next(file1) for _ in range(5)]  \n",
    "    print(\"=== English Text (First Few Lines) ===\")\n",
    "    print(\"\".join(lines))  # Print first few lines\n",
    "    \n",
    "    # Read the remaining content\n",
    "    remaining_text = file1.read()\n",
    "\n",
    "    # Combine all text\n",
    "    full_text = \"\".join(lines) + remaining_text\n",
    "\n",
    "    # Count total characters\n",
    "    total_chars = len(full_text)\n",
    "    print(\"\\nTotal number of characters in file:\", total_chars)\n"
   ]
  },
  {
   "attachments": {},
   "cell_type": "markdown",
   "metadata": {},
   "source": [
    "## **Step 4: Sentence Splitting for Streaming**  \n",
    "\n",
    "To enable real-time translation, we first split the text into individual sentences using **regex**, detecting boundaries like `.`, `!`, and `?`. This ensures **contextual clarity** and prevents broken translations.  \n",
    "\n",
    "Each sentence is then sent to the API **one by one**, allowing translations to appear sequentially, creating a smooth streaming effect.\n"
   ]
  },
  {
   "cell_type": "code",
   "execution_count": 17,
   "metadata": {},
   "outputs": [
    {
     "name": "stdout",
     "output_type": "stream",
     "text": [
      "\n",
      "=== First 5 Sentences ===\n",
      "1. The Impact of Artificial Intelligence on Society\n",
      "\n",
      "Artificial Intelligence (AI) has emerged as one of the most transformative technologies of the 21st century, revolutionizing various aspects of human life.\n",
      "2. From healthcare to finance, transportation to education, AI is reshaping industries, automating processes, and augmenting human capabilities.\n",
      "3. While AI presents numerous benefits, it also raises ethical, economic, and societal concerns that must be carefully navigated to ensure its responsible integration into society.\n",
      "4. One of the most profound impacts of AI is in the field of healthcare.\n",
      "5. AI-powered diagnostic tools enable early disease detection, improving patient outcomes and reducing healthcare costs.\n"
     ]
    }
   ],
   "source": [
    "import re\n",
    "\n",
    "def split_into_sentences(text):\n",
    "    sentences = re.split(r'(?<=[.!?])\\s+', text.strip())\n",
    "    return sentences\n",
    "\n",
    "sentences_list = split_into_sentences(full_text)\n",
    "\n",
    "# Print first 5 sentences (or all if fewer than 5)\n",
    "print(\"\\n=== First 5 Sentences ===\")\n",
    "for i, sentence in enumerate(sentences_list[:5], 1):  \n",
    "    print(f\"{i}. {sentence}\")\n"
   ]
  },
  {
   "attachments": {},
   "cell_type": "markdown",
   "metadata": {},
   "source": [
    "## **Step 5: Calling the API Endpoint**  "
   ]
  },
  {
   "cell_type": "code",
   "execution_count": 18,
   "metadata": {},
   "outputs": [
    {
     "name": "stdout",
     "output_type": "stream",
     "text": [
      "Artificial Intelligence का समाज पर असर\n",
      "\n",
      "Artificial Intelligence (AI) 21st century की सबसे बड़ी technologies में से एक है, जो इंसानी ज़िन्दगी के कई पहलुओं में बड़ा बदलाव लेकर आई है।\n",
      "Healthcare से लेकर finance, transportation से लेकर education, AI industries को बदल रहा है, processes को automate कर रहा है, और इंसानी क्षमताओं को बढ़ा रहा है।\n",
      "AI के बहुत फ़ायदे हैं, लेकिन इसके नैतिक, आर्थिक और सामाजिक मसले भी हैं, जिनसे हमें सावधानी से निपटना होगा ताकि समाज में इसका सही तरीक़े से इस्तेमाल हो सके।\n",
      "AI का सबसे गहरा असर healthcare के क्षेत्र में है।\n",
      "AI-powered diagnostic tools से बीमारी जल्दी पता चलती है, मरीज़ों के लिए अच्छा इलाज हो पाता है और healthcare costs कम होते हैं।\n",
      "Machine learning algorithms medical data को analyze करते हैं, ताकि वो patterns ढूंढ सकें जो इंसानों की नज़र से छूट जाते हैं, और personalized treatment plans में मदद कर सकें।\n",
      "Robotic surgeries और AI-driven drug discoveries ने medical procedures की efficiency और भी बढ़ा दी है।\n",
      "लेकिन healthcare में AI के आने से data privacy, security और medical decision-making में biases की चिंता बढ़ जाती है।\n"
     ]
    }
   ],
   "source": [
    "import requests\n",
    "import os\n",
    "import re\n",
    "import time\n",
    "\n",
    "API_KEY = SARVAM_API_KEY \n",
    "\n",
    "if not API_KEY:\n",
    "    raise ValueError(\"API key is missing! Set SARVAM_API_KEY in environment variables.\")\n",
    "\n",
    "url = \"https://api.sarvam.ai/translate\"\n",
    "headers = {\n",
    "    \"api-subscription-key\": API_KEY,\n",
    "    \"Content-Type\": \"application/json\"\n",
    "}\n",
    "\n",
    "for i, sentence in enumerate(sentences_list, 1):\n",
    "\n",
    "    payload = {\n",
    "        \"source_language_code\": \"en-IN\",\n",
    "        \"target_language_code\": \"hi-IN\",\n",
    "        \"speaker_gender\": \"Male\",\n",
    "        \"mode\": \"classic-colloquial\",\n",
    "        \"model\": \"mayura:v1\",\n",
    "        \"enable_preprocessing\": False,\n",
    "        \"input\": sentence\n",
    "    }\n",
    "\n",
    "    response = requests.post(url, json=payload, headers=headers)\n",
    "\n",
    "    if response.status_code == 200:\n",
    "        translation = response.json().get(\"translated_text\", \"Translation not available\")\n",
    "        print(f\"{translation}\")\n",
    "    else:\n",
    "        print(f\"{i}. {sentence} ➝ [Translation Failed]\")\n",
    "\n",
    "    time.sleep(0.5)\n"
   ]
  },
  {
   "cell_type": "markdown",
   "metadata": {},
   "source": [
    "### **6. Additional Resources**\n",
    "\n",
    "For more details, refer to the our official documentation and we are always there to support and help you on our Discord Server:\n",
    "\n",
    "- **Documentation**: [docs.sarvam.ai](https://docs.sarvam.ai)  \n",
    "- **Community**: [Join the Discord Community](https://discord.gg/hTuVuPNF)\n",
    "\n",
    "---\n",
    "\n",
    "### **7. Final Notes**\n",
    "\n",
    "- Keep your API key secure.\n",
    "- Use clear audio for best results.\n",
    "- Explore advanced features like diarization and translation.\n",
    "\n",
    "**Keep Building!** 🚀"
   ]
  }
 ],
 "metadata": {
  "kernelspec": {
   "display_name": "Python 3",
   "language": "python",
   "name": "python3"
  },
  "language_info": {
   "codemirror_mode": {
    "name": "ipython",
    "version": 3
   },
   "file_extension": ".py",
   "mimetype": "text/x-python",
   "name": "python",
   "nbconvert_exporter": "python",
   "pygments_lexer": "ipython3",
   "version": "3.11.9"
  },
  "orig_nbformat": 4
 },
 "nbformat": 4,
 "nbformat_minor": 2
}
