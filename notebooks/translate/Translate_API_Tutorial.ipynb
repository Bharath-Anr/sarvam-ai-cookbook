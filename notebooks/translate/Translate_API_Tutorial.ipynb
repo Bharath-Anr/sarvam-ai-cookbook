{
 "cells": [
  {
   "attachments": {},
   "cell_type": "markdown",
   "metadata": {},
   "source": [
    "# **Translate API using Mayura and Sarvam-Translate Models**\n",
    "\n",
    "# **Overview**\n",
    "\n",
    "This tutorial demonstrates how to use the **Sarvam translate API** to translate texts/paragraphs from one language to another. The API supports additional features such as transliteration(a type of conversion of a text from one script to another that involves swapping letters), output_Script and gender.\n"
   ]
  },
  {
   "attachments": {},
   "cell_type": "markdown",
   "metadata": {},
   "source": [
    "## **1. Installation**\n",
    "\n",
    "Before you begin, ensure you have the necessary Python libraries installed. Run the following commands to install the required packages:"
   ]
  },
  {
   "cell_type": "code",
   "execution_count": null,
   "metadata": {},
   "outputs": [],
   "source": [
    "!pip install -Uqq sarvamai\n"
   ]
  },
  {
   "cell_type": "code",
   "execution_count": null,
   "metadata": {},
   "outputs": [],
   "source": [
    "from sarvamai import SarvamAI"
   ]
  },
  {
   "attachments": {},
   "cell_type": "markdown",
   "metadata": {},
   "source": [
    "## **2. Authentication**\n",
    "\n",
    "\n",
    "To use the Saaras API, you need an API subscription key. Follow these steps to set up your API key:\n",
    "\n",
    "1. **Obtain your API key**: If you don’t have an API key, sign up on the [Sarvam AI Dashboard](https://dashboard.sarvam.ai/) to get one.\n",
    "2. **Replace the placeholder key**: In the code below, replace \"YOUR_SARVAM_AI_API_KEY\" with your actual API key."
   ]
  },
  {
   "cell_type": "code",
   "execution_count": null,
   "metadata": {},
   "outputs": [],
   "source": [
    "SARVAM_API_KEY = \"YOUR_SARVAM_API_KEY\""
   ]
  },
  {
   "cell_type": "markdown",
   "metadata": {},
   "source": [
    "## **3. Understanding the Parameters**  \n",
    "\n",
    "🔹 The API takes several key parameters: \n",
    "| **Parameter**           | **Description**                                                                                   | **Mayura:v1**                                                                 | **Sarvam-Translate:v1**                                                                 |\n",
    "|-------------------------|---------------------------------------------------------------------------------------------------|-------------------------------------------------------------------------------|------------------------------------------------------------------------------------------|\n",
    "| `input`                 | The text to translate (max character limit)                                                       | 1000 characters                                                               | 2000 characters                                                                          |\n",
    "| `source_language_code`  | Language of the input text                                                                        | Bengali, English, Gujarati, Hindi, Kannada, Malayalam, Marathi, Odia, Punjabi, Tamil, Telugu | All Mayura:v1 languages + Assamese, Bodo, Dogri, Konkani, Kashmiri, Maithili, Manipuri, Nepali, Sanskrit, Santali, Sindhi, Urdu |\n",
    "| `target_language_code`  | Target language for translation                                                                   | Same as source                                                                | Same as source                                                                           |\n",
    "| `speaker_gender`        | Gender of the speaker for better contextual translation                                           | Supported                                                                     | Supported                                                                                |\n",
    "| `mode`                  | Tone or style of translation                                                                      | Supports `formal`, `classic-colloquial`, `modern-colloquial`                  | `formal` supported                                                                  |\n",
    "| `numerals_format`       | Format for numerals in translation                                                                | `international` (0-9) or `native` (e.g., १-९)                                 | `international` (0-9) or `native` (e.g., १-९)                                            |\n",
    "\n",
    "\n",
    " **`language_code`** (String) – Newly added languages.  Supported values:  \n",
    "  - `\"as-IN\"` (Assamese - India)  \n",
    "  - `\"brx-IN\"` (Bodo- India)  \n",
    "  - `\"doi-IN\"` (Dogri - India)  \n",
    "  - `\"kok-IN\"` (Konkani - India)  \n",
    "  - `\"ks-IN\"` (Kashmiri - India)  \n",
    "  - `\"mai-IN\"` (Maithili - India)  \n",
    "  - `\"mni-IN\"` (Manipuri (Meiteilon) - India)  \n",
    "  - `\"ne-IN\"` (Nepali - India)  \n",
    "  - `\"sa-IN\"` (Sanskrit - India)  \n",
    "  - `\"sat-IN\"` (Santali - India)  \n",
    "  - `\"sd-IN\"` (Sindhi - India)  \n",
    "  - `\"ur-IN\"` (Urdu - India)  \n"
   ]
  },
  {
   "attachments": {},
   "cell_type": "markdown",
   "metadata": {},
   "source": [
    "## **4. Basic Usage**\n"
   ]
  },
  {
   "attachments": {},
   "cell_type": "markdown",
   "metadata": {},
   "source": [
    "### **4.1 Read the Document**\n",
    "\n",
    "We have two sample documents under the `data` folder:  \n",
    "- `sample1.txt` contains an essay on *The Impact of Artificial Intelligence on Society* in English.  \n",
    "- `sample1.txt` contains an essay on *The Impact of Artificial Intelligence on Society* in Hindi.  "
   ]
  },
  {
   "cell_type": "code",
   "execution_count": null,
   "metadata": {},
   "outputs": [],
   "source": [
    "def read_file(file_path, lang_name):\n",
    "    try:\n",
    "        with open(file_path, \"r\", encoding=\"utf-8\") as file:\n",
    "            # Read the first 5 lines\n",
    "            lines = [next(file) for _ in range(5)]\n",
    "            print(f\"=== {lang_name} Text (First Few Lines) ===\")\n",
    "            print(\"\".join(lines))  # Print first few lines\n",
    "\n",
    "            # Read the remaining content\n",
    "            remaining_text = file.read()\n",
    "\n",
    "            # Combine all text\n",
    "            full_doc = \"\".join(lines) + remaining_text\n",
    "\n",
    "            # Count total characters\n",
    "            total_chars = len(full_doc)\n",
    "            print(f\"\\nTotal number of characters in {lang_name} file:\", total_chars)\n",
    "\n",
    "            return full_doc\n",
    "    except FileNotFoundError:\n",
    "        print(f\"Error: {file_path} not found.\")\n",
    "        return None\n",
    "    except Exception as e:\n",
    "        print(f\"An error occurred while reading {file_path}: {e}\")\n",
    "        return None"
   ]
  },
  {
   "cell_type": "code",
   "execution_count": null,
   "metadata": {},
   "outputs": [],
   "source": [
    "# Read English and Hindi documents\n",
    "english_doc = read_file(\"sample1.txt\", \"English\")\n",
    "hindi_doc = read_file(\"sample2.txt\", \"Hindi\")"
   ]
  },
  {
   "attachments": {},
   "cell_type": "markdown",
   "metadata": {},
   "source": [
    "### **4.2 Split the input text into chunks based on model limits** \n",
    "\n",
    "For Mayura:v1, the API has a maximum chunk size of 1000 characters per request.\n",
    "\n",
    "For Sarvam-Translate:v1, the API has a maximum chunk size of 2000 characters per request.\n",
    "\n",
    "we need to split the text accordingly."
   ]
  },
  {
   "cell_type": "code",
   "execution_count": null,
   "metadata": {},
   "outputs": [],
   "source": [
    "def chunk_text(text, max_length=2000):\n",
    "    \"\"\"Splits text into chunks of at most max_length characters while preserving word boundaries.\"\"\"\n",
    "    chunks = []\n",
    "\n",
    "    while len(text) > max_length:\n",
    "        split_index = text.rfind(\" \", 0, max_length)  # Find the last space within limit\n",
    "        if split_index == -1:\n",
    "            split_index = max_length  # No space found, force split at max_length\n",
    "\n",
    "        chunks.append(text[:split_index].strip())  # Trim spaces before adding\n",
    "        text = text[split_index:].lstrip()  # Remove leading spaces for the next chunk\n",
    "\n",
    "    if text:\n",
    "        chunks.append(text.strip())  # Add the last chunk\n",
    "\n",
    "    return chunks"
   ]
  },
  {
   "cell_type": "code",
   "execution_count": null,
   "metadata": {},
   "outputs": [],
   "source": [
    "# Split the text\n",
    "english_text_chunks = chunk_text(english_doc)\n",
    "\n",
    "# Display chunk info\n",
    "print(f\"Total Chunks: {len(english_text_chunks)}\")\n",
    "for i, chunk in enumerate(\n",
    "    english_text_chunks[:3], 1\n",
    "):  # Show only first 3 chunks for preview\n",
    "    print(f\"\\n=== Chunk {i} (Length: {len(chunk)}) ===\\n{chunk}\")"
   ]
  },
  {
   "cell_type": "code",
   "execution_count": null,
   "metadata": {},
   "outputs": [],
   "source": [
    "# Split the text\n",
    "hindi_text_chunks = chunk_text(hindi_doc)\n",
    "\n",
    "# Display chunk info\n",
    "print(f\"Total Chunks: {len(hindi_text_chunks)}\")\n",
    "for i, chunk in enumerate(\n",
    "    hindi_text_chunks[:3], 1\n",
    "):  # Show only first 3 chunks for preview\n",
    "    print(f\"\\n=== Chunk {i} (Length: {len(chunk)}) ===\\n{chunk}\")"
   ]
  },
  {
   "cell_type": "markdown",
   "metadata": {},
   "source": [
    "### **Sample Hindi to Sanskrit Translation using Sarvam-Translate:v1**\n",
    "\n",
    "sarvam-translate:v1: Supports all 22 scheduled languages of India, formal mode only.\n"
   ]
  },
  {
   "cell_type": "code",
   "execution_count": null,
   "metadata": {},
   "outputs": [],
   "source": [
    "# Sample Hindi text (can be up to 2000 characters per chunk for sarvam-translate:v1)\n",
    "hindi_text = \"भारत एक महान देश है। इसकी संस्कृति बहुत पुरानी और समृद्ध है।\"\n",
    "\n",
    "# Simple chunking for demonstration (no chunk exceeds 2000 characters)\n",
    "hindi_text_chunks = [hindi_text]  # In real cases, you would split longer text here\n",
    "\n",
    "# Loop through each chunk and translate\n",
    "for idx, chunk in enumerate(hindi_text_chunks):\n",
    "    response = client.text.translate(\n",
    "        input=chunk,\n",
    "        source_language_code=\"hi-IN\",\n",
    "        target_language_code=\"sa-IN\",\n",
    "        speaker_gender=\"Male\",\n",
    "        mode=\"formal\",\n",
    "        model=\"sarvam-translate:v1\",\n",
    "    )\n",
    "   \n",
    "    # Print the translated output\n",
    "    print(f\"Chunk {idx + 1} Translation:\\n{response.translated_text}\\n\")"
   ]
  },
  {
   "attachments": {},
   "cell_type": "markdown",
   "metadata": {},
   "source": [
    "### **4.3 Setting up the API Endpoint using Sarvam-Translate model** \n",
    "\n",
    "There are three main types of translations we support:  \n",
    "\n",
    "1️⃣ **English to Indic** 🏛 → Translating from **English to Indian languages** (e.g., *\"Invoice total is $3,450.75.\" → \"इनवॉइस कुल राशि $3,450.75 है।\"*)  \n",
    "\n",
    "2️⃣ **Indic to English** 🌍 → Converting **Indian languages to English** (e.g., *\"आपका ऑर्डर सफलतापूर्वक दर्ज किया गया है।\" → \"Your order has been successfully placed.\"*)  \n",
    "\n",
    "3️⃣ **Indic to Indic** 🔄 → Translating **between Indian languages** (e.g., *Hindi → Tamil, Bengali → Marathi*).  \n"
   ]
  },
  {
   "cell_type": "code",
   "execution_count": null,
   "metadata": {},
   "outputs": [],
   "source": [
    "# Initialize SarvamAI\n",
    "\n",
    "from sarvamai import SarvamAI\n",
    "\n",
    "client = SarvamAI(api_subscription_key=SARVAM_API_KEY)"
   ]
  },
  {
   "attachments": {},
   "cell_type": "markdown",
   "metadata": {},
   "source": [
    "### **English to Indic Translation**  "
   ]
  },
  {
   "cell_type": "code",
   "execution_count": null,
   "metadata": {},
   "outputs": [],
   "source": [
    "translated_texts = []\n",
    "for idx, chunk in enumerate(english_text_chunks):\n",
    "    response = client.text.translate(\n",
    "        input=chunk,\n",
    "        source_language_code=\"en-IN\",\n",
    "        target_language_code=\"sa-IN\",\n",
    "        speaker_gender=\"Male\",\n",
    "        mode=\"formal\",\n",
    "        model=\"sarvam-translate:v1\",\n",
    "        enable_preprocessing=False,\n",
    "    )\n",
    "\n",
    "    translated_text = response.translated_text\n",
    "    print(f\"\\n=== Translated Chunk {idx + 1} ===\\n{translated_text}\\n\")\n",
    "    translated_texts.append(translated_text)\n",
    "\n",
    "# Combine all translated chunks\n",
    "final_translation = \"\\n\".join(translated_texts)\n",
    "print(\"\\n=== Final Translated Text in Sanskrit ===\")\n",
    "print(final_translation)"
   ]
  },
  {
   "attachments": {},
   "cell_type": "markdown",
   "metadata": {},
   "source": [
    "### **Indic to English Translation**  "
   ]
  },
  {
   "cell_type": "code",
   "execution_count": null,
   "metadata": {},
   "outputs": [],
   "source": [
    "translated_texts = []\n",
    "for idx, chunk in enumerate(hindi_text_chunks):\n",
    "    response = client.text.translate(\n",
    "        input=chunk,\n",
    "        source_language_code=\"hi-IN\",\n",
    "        target_language_code=\"sd-IN\",\n",
    "        speaker_gender=\"Male\",\n",
    "        mode=\"formal\",\n",
    "        model=\"sarvam-translate:v1\",\n",
    "        enable_preprocessing=False,\n",
    "    )\n",
    "\n",
    "    translated_text = response.translated_text\n",
    "    print(f\"\\n=== Translated Chunk {idx + 1} ===\\n{translated_text}\\n\")\n",
    "    translated_texts.append(translated_text)\n",
    "\n",
    "# Combine all translated chunks\n",
    "final_translation = \"\\n\".join(translated_texts)\n",
    "print(\"\\n=== Final Translated Text in Sindhi ===\")\n",
    "print(final_translation)"
   ]
  },
  {
   "attachments": {},
   "cell_type": "markdown",
   "metadata": {},
   "source": [
    "### **Indic to Indic Translation**  "
   ]
  },
  {
   "cell_type": "code",
   "execution_count": null,
   "metadata": {},
   "outputs": [],
   "source": [
    "translated_texts = []\n",
    "for idx, chunk in enumerate(hindi_text_chunks):\n",
    "    response = client.text.translate(\n",
    "        input=chunk,\n",
    "        source_language_code=\"hi-IN\",\n",
    "        target_language_code=\"bn-IN\",\n",
    "        speaker_gender=\"Male\",\n",
    "        mode=\"formal\",\n",
    "        model=\"sarvam-translate:v1\",\n",
    "        enable_preprocessing=False,\n",
    "    )\n",
    "\n",
    "    translated_text = response.translated_text\n",
    "    print(f\"\\n=== Translated Chunk {idx + 1} ===\\n{translated_text}\\n\")\n",
    "    translated_texts.append(translated_text)\n",
    "\n",
    "# Combine all translated chunks\n",
    "final_translation = \"\\n\".join(translated_texts)\n",
    "print(\"\\n=== Translated Text Chunks in Bengali ===\")\n",
    "print(final_translation)"
   ]
  },
  {
   "attachments": {},
   "cell_type": "markdown",
   "metadata": {},
   "source": [
    "## **5. Advanced Features**  \n",
    "\n",
    "\n",
    "\n"
   ]
  },
  {
   "attachments": {},
   "cell_type": "markdown",
   "metadata": {},
   "source": [
    "\n",
    "### **5.1 Translation Modes & Differences**  \n",
    "\n",
    "1️⃣ **Formal** – Highly professional, uses **pure Hindi** (e.g., *\"कुल राशि\", \"देय है\"*). Suitable for **official documents, legal papers, and corporate communication**.  \n",
    "\n",
    "2️⃣ **Classic-Colloquial** – Balanced mix of **Hindi & English**, slightly informal (e.g., *\"कुल जोड़\", \"देना होगा\"*). Ideal for **business emails, customer support, and semi-formal communication**.  \n",
    "\n",
    "3️⃣ **Modern-Colloquial** – **Hinglish, casual, and direct** (e.g., *\"Invoice total\", \"due है\", \"contact करो\"*). Best for **chatbots, social media, and casual conversations**.  \n",
    "\n",
    "**📌 Rule of Thumb:**  \n",
    "- **Use Formal for official content** 🏛  \n",
    "- **Use Classic-Colloquial for general communication** 💬  \n",
    "- **Use Modern-Colloquial for everyday conversations** 🚀  \n",
    "\n"
   ]
  },
  {
   "cell_type": "code",
   "execution_count": null,
   "metadata": {},
   "outputs": [],
   "source": [
    "# To highlight the difference between the models lets use the below example.\n",
    "full_text = (\n",
    "    \"The invoice total is $3,450.75, due by 15th March 2025. Contact us at support@example.com for queries. \"\n",
    "    \"Order #987654321 was placed on 02/29/2024. Your tracking ID is TRK12345678.\"\n",
    ")"
   ]
  },
  {
   "attachments": {},
   "cell_type": "markdown",
   "metadata": {},
   "source": [
    "### **Formal**  "
   ]
  },
  {
   "cell_type": "markdown",
   "metadata": {},
   "source": [
    "Supported by both Mayura:v1 and Sarvam-Translate:v1."
   ]
  },
  {
   "cell_type": "code",
   "execution_count": null,
   "metadata": {},
   "outputs": [],
   "source": [
    "response = client.text.translate(\n",
    "    input=full_text,\n",
    "    source_language_code=\"en-IN\",\n",
    "    target_language_code=\"hi-IN\",\n",
    "    speaker_gender=\"Male\",\n",
    "    mode=\"formal\",\n",
    "    model=\"sarvam-translate:v1\",\n",
    "    enable_preprocessing=False,\n",
    ")\n",
    "translated_text = response.translated_text\n",
    "print(\"\\n=== Translated Text ===\\n\", translated_text)"
   ]
  },
  {
   "attachments": {},
   "cell_type": "markdown",
   "metadata": {},
   "source": [
    "### **Classic Colloquial**  "
   ]
  },
  {
   "cell_type": "markdown",
   "metadata": {},
   "source": [
    "Supported only by Mayura:v1 model."
   ]
  },
  {
   "cell_type": "code",
   "execution_count": null,
   "metadata": {},
   "outputs": [],
   "source": [
    "response = client.text.translate(\n",
    "    input=full_text,\n",
    "    source_language_code=\"en-IN\",\n",
    "    target_language_code=\"hi-IN\",\n",
    "    speaker_gender=\"Male\",\n",
    "    mode=\"classic-colloquial\",\n",
    "    model=\"mayura:v1\",\n",
    "    enable_preprocessing=False,\n",
    ")\n",
    "translated_text = response.translated_text\n",
    "print(\"\\n=== Translated Text ===\\n\", translated_text)"
   ]
  },
  {
   "attachments": {},
   "cell_type": "markdown",
   "metadata": {},
   "source": [
    "### **Modern Colloquial**  "
   ]
  },
  {
   "cell_type": "markdown",
   "metadata": {},
   "source": [
    "Supported only by Mayura:v1 model."
   ]
  },
  {
   "cell_type": "code",
   "execution_count": null,
   "metadata": {},
   "outputs": [],
   "source": [
    "response = client.text.translate(\n",
    "    input=full_text,\n",
    "    source_language_code=\"en-IN\",\n",
    "    target_language_code=\"hi-IN\",\n",
    "    speaker_gender=\"Male\",\n",
    "    mode=\"modern-colloquial\",\n",
    "    model=\"mayura:v1\",\n",
    "    enable_preprocessing=False,\n",
    ")\n",
    "translated_text = response.translated_text\n",
    "print(\"\\n=== Translated Text ===\\n\", translated_text)"
   ]
  },
  {
   "attachments": {},
   "cell_type": "markdown",
   "metadata": {},
   "source": [
    "### **5.2 Speaker Gender**  \n",
    "\n",
    "The translation model supports **Male** and **Female** speaker options, which impact the tone and style of the output.  \n",
    "\n",
    "1️⃣ **Male Voice** 🔵 \n",
    "\n",
    "2️⃣ **Female Voice** 🔴 \n"
   ]
  },
  {
   "attachments": {},
   "cell_type": "markdown",
   "metadata": {},
   "source": [
    "### **Female**  "
   ]
  },
  {
   "cell_type": "code",
   "execution_count": null,
   "metadata": {},
   "outputs": [],
   "source": [
    "response = client.text.translate(\n",
    "    input=full_text,\n",
    "    source_language_code=\"en-IN\",\n",
    "    target_language_code=\"hi-IN\",\n",
    "    speaker_gender=\"Female\",\n",
    "    mode=\"formal\",\n",
    "    model=\"sarvam-translate:v1\",\n",
    "    enable_preprocessing=False,\n",
    ")\n",
    "translated_text = response.translated_text\n",
    "print(\"\\n=== Translated Text ===\\n\", translated_text)"
   ]
  },
  {
   "attachments": {},
   "cell_type": "markdown",
   "metadata": {},
   "source": [
    "### **Male**  "
   ]
  },
  {
   "cell_type": "code",
   "execution_count": null,
   "metadata": {},
   "outputs": [],
   "source": [
    "response = client.text.translate(\n",
    "    input=full_text,\n",
    "    source_language_code=\"en-IN\",\n",
    "    target_language_code=\"hi-IN\",\n",
    "    speaker_gender=\"Male\",\n",
    "    mode=\"formal\",\n",
    "    model=\"sarvam-translate:v1\",\n",
    "    enable_preprocessing=False,\n",
    ")\n",
    "translated_text = response.translated_text\n",
    "print(\"\\n=== Translated Text ===\\n\", translated_text)"
   ]
  },
  {
   "attachments": {},
   "cell_type": "markdown",
   "metadata": {},
   "source": [
    "### **5.3 Numerals Format Feature**  \n",
    "\n",
    "The `numerals_format` parameter controls how numbers appear in the translation. It has two options:  \n",
    "\n",
    "1️⃣ **International (Default)** 🌍 → Uses standard **0-9** numerals.  \n",
    "✅ Example: *\"मेरा phone number है: 9840950950.\"*  \n",
    "✅ Best for **universally understood content, technical documents, and modern usage**.  \n",
    "\n",
    "2️⃣ **Native** 🔡 → Uses **language-specific** numerals.  \n",
    "✅ Example: *\"मेरा phone number है: ९८४०९५०९५०.\"*  \n",
    "✅ Ideal for **traditional texts, cultural adaptation, and regional content**.  \n",
    "\n",
    "**📌 When to Use What?**  \n",
    "- Use **International** for **wider readability and digital content** 📱  \n",
    "- Use **Native** for **localized, heritage-focused, and print media content** 📖  \n"
   ]
  },
  {
   "attachments": {},
   "cell_type": "markdown",
   "metadata": {},
   "source": [
    "### **Native**  "
   ]
  },
  {
   "cell_type": "code",
   "execution_count": null,
   "metadata": {},
   "outputs": [],
   "source": [
    "response = client.text.translate(\n",
    "    input=full_text,\n",
    "    source_language_code=\"en-IN\",\n",
    "    target_language_code=\"hi-IN\",\n",
    "    speaker_gender=\"Male\",\n",
    "    mode=\"formal\",\n",
    "    model=\"sarvam-translate:v1\",\n",
    "    enable_preprocessing=False,\n",
    "    numerals_format=\"native\",\n",
    ")\n",
    "translated_text = response.translated_text\n",
    "print(\"\\n=== Translated Text ===\\n\", translated_text)"
   ]
  },
  {
   "attachments": {},
   "cell_type": "markdown",
   "metadata": {},
   "source": [
    "### **International**  "
   ]
  },
  {
   "cell_type": "code",
   "execution_count": null,
   "metadata": {},
   "outputs": [],
   "source": [
    "response = client.text.translate(\n",
    "    input=full_text,\n",
    "    source_language_code=\"en-IN\",\n",
    "    target_language_code=\"hi-IN\",\n",
    "    speaker_gender=\"Male\",\n",
    "    mode=\"formal\",\n",
    "    model=\"sarvam-translate:v1\",\n",
    "    enable_preprocessing=False,\n",
    "    numerals_format=\"international\",\n",
    ")\n",
    "translated_text = response.translated_text\n",
    "print(\"\\n=== Translated Text ===\\n\", translated_text)"
   ]
  },
  {
   "attachments": {},
   "cell_type": "markdown",
   "metadata": {},
   "source": [
    "### **5.4 Numerals Format Feature**  \n",
    "\n",
    "The `output_script` parameter controls how the translated text is **transliterated**, i.e., how it appears in different scripts while keeping pronunciation intact.  \n",
    "\n",
    "### **Transliteration Options for Mayura:**  \n",
    "\n",
    "1️⃣ **Default (null)** – No transliteration applied.  \n",
    "✅ Example: *\"आपका Rs. 3000 का EMI pending है।\"*  \n",
    "✅ Best for **modern, mixed-language content**.  \n",
    "\n",
    "2️⃣ **Roman** – Converts the output into **Romanized Hindi**.  \n",
    "✅ Example: *\"aapka Rs. 3000 ka EMI pending hai.\"*  \n",
    "✅ Ideal for **users who can speak but not read native scripts**.  \n",
    "\n",
    "3️⃣ **Fully-Native** – Uses **formal native script transliteration**.  \n",
    "✅ Example: *\"आपका रु. 3000 का ई.एम.ऐ. पेंडिंग है।\"*  \n",
    "✅ Best for **official documents and structured writing**.  \n",
    "\n",
    "4️⃣ **Spoken-Form-in-Native** – Uses **native script but mimics spoken style**.  \n",
    "✅ Example: *\"आपका थ्री थाउजेंड रूपीस का ईएमअइ पेंडिंग है।\"*  \n",
    "✅ Ideal for **voice assistants, conversational AI, and informal speech**.  \n",
    "\n",
    "### **📌 When to Use What?**  \n",
    "- **Default** – For natural, mixed-language modern writing ✍️  \n",
    "- **Roman** – For users unfamiliar with native scripts 🔤  \n",
    "- **Fully-Native** – For formal, structured translations 🏛  \n",
    "- **Spoken-Form-in-Native** – For casual speech and voice applications 🎙\n",
    "\n"
   ]
  },
  {
   "cell_type": "code",
   "execution_count": null,
   "metadata": {},
   "outputs": [],
   "source": [
    "response = client.text.translate(\n",
    "    input=full_text,\n",
    "    source_language_code=\"en-IN\",\n",
    "    target_language_code=\"hi-IN\",\n",
    "    speaker_gender=\"Male\",\n",
    "    mode=\"modern-colloquial\",\n",
    "    model=\"mayura:v1\",\n",
    "    enable_preprocessing=False,\n",
    "    output_script=\"roman\",\n",
    "    numerals_format=\"international\",\n",
    ")\n",
    "translated_text = response.translated_text\n",
    "print(\"\\n=== Translated Text ===\\n\", translated_text)"
   ]
  },
  {
   "cell_type": "code",
   "execution_count": null,
   "metadata": {},
   "outputs": [],
   "source": [
    "response = client.text.translate(\n",
    "    input=full_text,\n",
    "    source_language_code=\"en-IN\",\n",
    "    target_language_code=\"hi-IN\",\n",
    "    speaker_gender=\"Male\",\n",
    "    mode=\"modern-colloquial\",\n",
    "    model=\"mayura:v1\",\n",
    "    enable_preprocessing=False,\n",
    "    output_script=\"spoken-form-in-native\",\n",
    "    numerals_format=\"international\",\n",
    ")\n",
    "translated_text = response.translated_text\n",
    "print(\"\\n=== Translated Text ===\\n\", translated_text)"
   ]
  },
  {
   "cell_type": "code",
   "execution_count": null,
   "metadata": {},
   "outputs": [],
   "source": [
    "response = client.text.translate(\n",
    "    input=full_text,\n",
    "    source_language_code=\"en-IN\",\n",
    "    target_language_code=\"hi-IN\",\n",
    "    speaker_gender=\"Male\",\n",
    "    mode=\"modern-colloquial\",\n",
    "    model=\"mayura:v1\",\n",
    "    enable_preprocessing=False,\n",
    "    output_script=\"fully-native\",\n",
    "    numerals_format=\"international\",\n",
    ")\n",
    "translated_text = response.translated_text\n",
    "print(\"\\n=== Translated Text ===\\n\", translated_text)"
   ]
  },
  {
   "cell_type": "markdown",
   "metadata": {},
   "source": [
    "🚫 Note: For sarvam-translate:v1 - Transliteration is not supported"
   ]
  },
  {
   "attachments": {},
   "cell_type": "markdown",
   "metadata": {},
   "source": [
    "\n",
    "\n",
    "## **6. Error Handling**  \n",
    "\n",
    "You may encounter these errors while using the API:  \n",
    "\n",
    "- **403 Forbidden** (`invalid_api_key_error`)  \n",
    "  - Cause: Invalid API key.  \n",
    "  - Solution: Use a valid API key from the [Sarvam AI Dashboard](https://dashboard.sarvam.ai/).  \n",
    "\n",
    "- **429 Too Many Requests** (`insufficient_quota_error`)  \n",
    "  - Cause: Exceeded API quota.  \n",
    "  - Solution: Check your usage, upgrade if needed, or implement exponential backoff when retrying.  \n",
    "\n",
    "- **500 Internal Server Error** (`internal_server_error`)  \n",
    "  - Cause: Issue on our servers.  \n",
    "  - Solution: Try again later. If persistent, contact support.  \n",
    "\n",
    "- **400 Bad Request** (`invalid_request_error`)  \n",
    "  - Cause: Incorrect request formatting.  \n",
    "  - Solution: Verify your request structure and parameters.  \n",
    "\n"
   ]
  },
  {
   "attachments": {},
   "cell_type": "markdown",
   "metadata": {},
   "source": [
    "## **7. Additional Resources**\n",
    "\n",
    "For more details, refer to the our official documentation and we are always there to support and help you on our Discord Server:\n",
    "\n",
    "- **Documentation**: [docs.sarvam.ai](https://docs.sarvam.ai)  \n",
    "- **Community**: [Join the Discord Community](https://discord.gg/hTuVuPNF)\n",
    "\n",
    "\n",
    "## **8. Final Notes**\n",
    "\n",
    "- Keep your API key secure.\n",
    "- Use clear audio for best results.\n",
    "- Explore advanced features like diarization and translation.\n",
    "\n",
    "**Keep Building!** 🚀"
   ]
  },
  {
   "cell_type": "code",
   "execution_count": null,
   "metadata": {},
   "outputs": [],
   "source": []
  }
 ],
 "metadata": {
  "kernelspec": {
   "display_name": "Python 3 (ipykernel)",
   "language": "python",
   "name": "python3"
  },
  "language_info": {
   "codemirror_mode": {
    "name": "ipython",
    "version": 3
   },
   "file_extension": ".py",
   "mimetype": "text/x-python",
   "name": "python",
   "nbconvert_exporter": "python",
   "pygments_lexer": "ipython3",
   "version": "3.13.1"
  }
 },
 "nbformat": 4,
 "nbformat_minor": 4
}
