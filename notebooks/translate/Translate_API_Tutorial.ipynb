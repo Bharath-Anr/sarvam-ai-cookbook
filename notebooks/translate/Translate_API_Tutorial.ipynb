{
 "cells": [
  {
   "attachments": {},
   "cell_type": "markdown",
   "metadata": {},
   "source": [
    "# **Sarvam Translate API Tutorial**\n",
    "\n",
    "This notebook demonstrates how to use the **Sarvam translate API** to translate texts/paragraphs from one language to another. The API supports additional features such as transliteration(a type of conversion of a text from one script to another that involves swapping letters), output_Script and gender .\n",
    "\n",
    "\n",
    "## **Table of Contents**  \n",
    "\n",
    "<p>1. <a href=\"#installation\">Installation</a></p>  \n",
    "<p>2. <a href=\"#authentication\">Authentication</a></p>  \n",
    "<p>3. <a href=\"#basic-usage\">Basic Usage</a></p>  \n",
    "<p>4. <a href=\"#modes\">Modes</a></p>  \n",
    "<p>5. <a href=\"#advanced-features\">Advanced Features</a></p>  \n",
    "   <p>&nbsp;&nbsp;&nbsp;&nbsp;5.1 <a href=\"#numeral-format\">Numeral Format</a></p>  \n",
    "   <p>&nbsp;&nbsp;&nbsp;&nbsp;5.2 <a href=\"#transliteration\">Transliteration</a></p>  \n",
    "   <p>&nbsp;&nbsp;&nbsp;&nbsp;5.3 <a href=\"#speaker-gender\">Speaker Gender</a></p>  \n",
    "<p>6. <a href=\"#error-handling\">Error Handling</a></p>  \n",
    "<p>7. <a href=\"#conclusion\">Conclusion</a></p>  \n",
    "\n",
    "\n",
    "\n"
   ]
  },
  {
   "attachments": {},
   "cell_type": "markdown",
   "metadata": {},
   "source": [
    "## **Step 1. Installation**\n",
    "\n",
    "Before you begin, ensure you have the necessary Python libraries installed. Run the following commands to install the required packages:"
   ]
  },
  {
   "cell_type": "code",
   "execution_count": 1,
   "metadata": {},
   "outputs": [],
   "source": [
    "!pip install -Uqq sarvamai"
   ]
  },
  {
   "cell_type": "code",
   "execution_count": 2,
   "metadata": {},
   "outputs": [],
   "source": [
    "from sarvamai import SarvamAI"
   ]
  },
  {
   "attachments": {},
   "cell_type": "markdown",
   "metadata": {},
   "source": [
    "## **Step 2: Authentication**\n",
    "\n",
    "\n",
    "To use the Saaras API, you need an API subscription key. Follow these steps to set up your API key:\n",
    "\n",
    "1. **Obtain your API key**: If you don’t have an API key, sign up on the [Sarvam AI Dashboard](https://dashboard.sarvam.ai/) to get one.\n",
    "2. **Replace the placeholder key**: In the code below, replace \"YOUR_SARVAM_AI_API_KEY\" with your actual API key."
   ]
  },
  {
   "cell_type": "code",
   "execution_count": 3,
   "metadata": {},
   "outputs": [],
   "source": [
    "SARVAM_API_KEY = \"YOUR_SARVAM_API_KEY\""
   ]
  },
  {
   "attachments": {},
   "cell_type": "markdown",
   "metadata": {},
   "source": [
    "## **Step 3: Basic Usage**\n"
   ]
  },
  {
   "attachments": {},
   "cell_type": "markdown",
   "metadata": {},
   "source": [
    "### **Step 3.1: Read the Document**\n",
    "\n",
    "We have two sample documents under the `data` folder:  \n",
    "- `sample1.txt` contains an essay on *The Impact of Artificial Intelligence on Society* in English.  \n",
    "- `sample1.txt` contains an essay on *The Impact of Artificial Intelligence on Society* in Hindi.  "
   ]
  },
  {
   "cell_type": "code",
   "execution_count": 4,
   "metadata": {},
   "outputs": [],
   "source": [
    "def read_file(file_path, lang_name):\n",
    "    try:\n",
    "        with open(file_path, \"r\", encoding=\"utf-8\") as file:\n",
    "            # Read the first 5 lines\n",
    "            lines = [next(file) for _ in range(5)]\n",
    "            print(f\"=== {lang_name} Text (First Few Lines) ===\")\n",
    "            print(\"\".join(lines))  # Print first few lines\n",
    "\n",
    "            # Read the remaining content\n",
    "            remaining_text = file.read()\n",
    "\n",
    "            # Combine all text\n",
    "            full_doc = \"\".join(lines) + remaining_text\n",
    "\n",
    "            # Count total characters\n",
    "            total_chars = len(full_doc)\n",
    "            print(f\"\\nTotal number of characters in {lang_name} file:\", total_chars)\n",
    "\n",
    "            return full_doc\n",
    "    except FileNotFoundError:\n",
    "        print(f\"Error: {file_path} not found.\")\n",
    "        return None\n",
    "    except Exception as e:\n",
    "        print(f\"An error occurred while reading {file_path}: {e}\")\n",
    "        return None"
   ]
  },
  {
   "cell_type": "code",
   "execution_count": 5,
   "metadata": {},
   "outputs": [
    {
     "name": "stdout",
     "output_type": "stream",
     "text": [
      "=== English Text (First Few Lines) ===\n",
      "The Impact of Artificial Intelligence on Society\n",
      "\n",
      "Artificial Intelligence (AI) has emerged as one of the most transformative technologies of the 21st century, revolutionizing various aspects of human life. From healthcare to finance, transportation to education, AI is reshaping industries, automating processes, and augmenting human capabilities. While AI presents numerous benefits, it also raises ethical, economic, and societal concerns that must be carefully navigated to ensure its responsible integration into society.\n",
      "\n",
      "One of the most profound impacts of AI is in the field of healthcare. AI-powered diagnostic tools enable early disease detection, improving patient outcomes and reducing healthcare costs. Machine learning algorithms analyze medical data to identify patterns that humans may overlook, aiding in personalized treatment plans. Robotic surgeries and AI-driven drug discoveries have further enhanced the efficiency of medical procedures. However, the integration of AI in healthcare raises concerns about data privacy, security, and potential biases in medical decision-making.\n",
      "\n",
      "\n",
      "Total number of characters in English file: 1100\n",
      "=== Hindi Text (First Few Lines) ===\n",
      "**कृत्रिम बुद्धिमत्ता का समाज पर प्रभाव**\n",
      "\n",
      "कृत्रिम बुद्धिमत्ता (AI) 21वीं सदी की सबसे परिवर्तनकारी तकनीकों में से एक बन गई है, जो मानव जीवन के विभिन्न पहलुओं को नया रूप दे रही है। स्वास्थ्य सेवा से लेकर वित्त, परिवहन से लेकर शिक्षा तक, AI उद्योगों को पुनः आकार दे रही है, प्रक्रियाओं को स्वचालित कर रही है और मानवीय क्षमताओं को बढ़ा रही है। हालांकि AI कई लाभ प्रदान करती है, यह नैतिक, आर्थिक और सामाजिक चिंताओं को भी जन्म देती है, जिन्हें सावधानीपूर्वक नेविगेट करने की आवश्यकता है ताकि इसे समाज में जिम्मेदारी से एकीकृत किया जा सके।\n",
      "\n",
      "AI का सबसे महत्वपूर्ण प्रभाव स्वास्थ्य सेवा के क्षेत्र में देखा जा सकता है। AI-संचालित नैदानिक उपकरण प्रारंभिक रोग पहचान को सक्षम बनाते हैं, जिससे रोगी परिणामों में सुधार होता है और स्वास्थ्य सेवा लागत कम होती है। मशीन लर्निंग एल्गोरिदम चिकित्सा डेटा का विश्लेषण करके उन पैटर्नों की पहचान करते हैं जिन्हें मानव अनदेखा कर सकते हैं, जिससे व्यक्तिगत उपचार योजनाओं में सहायता मिलती है। रोबोटिक सर्जरी और AI-संचालित दवा खोजों ने चिकित्सा प्रक्रियाओं की दक्षता को और बढ़ा दिया है। हालांकि, स्वास्थ्य सेवा में AI के एकीकरण से डेटा गोपनीयता, सुरक्षा और चिकित्सा निर्णयों में संभावित पूर्वाग्रहों को लेकर चिंताएँ उत्पन्न होती हैं।\n",
      "\n",
      "\n",
      "Total number of characters in Hindi file: 1158\n"
     ]
    }
   ],
   "source": [
    "# Read English and Hindi documents\n",
    "english_doc = read_file(\"data/sample1.txt\", \"English\")\n",
    "hindi_doc = read_file(\"data/sample2.txt\", \"Hindi\")"
   ]
  },
  {
   "attachments": {},
   "cell_type": "markdown",
   "metadata": {},
   "source": [
    "### **Step 3.2: Split the text into chunks of at most 1000 characters** \n",
    "\n",
    "Since the API has a restriction of 1000 characters per request, we need to split the text accordingly."
   ]
  },
  {
   "cell_type": "code",
   "execution_count": 6,
   "metadata": {},
   "outputs": [],
   "source": [
    "def chunk_text(text, max_length=1000):\n",
    "    \"\"\"Splits text into chunks of at most max_length characters while preserving word boundaries.\"\"\"\n",
    "    chunks = []\n",
    "\n",
    "    while len(text) > max_length:\n",
    "        split_index = text.rfind(\" \", 0, max_length)  # Find the last space within limit\n",
    "        if split_index == -1:\n",
    "            split_index = max_length  # No space found, force split at max_length\n",
    "\n",
    "        chunks.append(text[:split_index].strip())  # Trim spaces before adding\n",
    "        text = text[split_index:].lstrip()  # Remove leading spaces for the next chunk\n",
    "\n",
    "    if text:\n",
    "        chunks.append(text.strip())  # Add the last chunk\n",
    "\n",
    "    return chunks"
   ]
  },
  {
   "cell_type": "code",
   "execution_count": 7,
   "metadata": {},
   "outputs": [
    {
     "name": "stdout",
     "output_type": "stream",
     "text": [
      "Total Chunks: 2\n",
      "\n",
      "=== Chunk 1 (Length: 993) ===\n",
      "The Impact of Artificial Intelligence on Society\n",
      "\n",
      "Artificial Intelligence (AI) has emerged as one of the most transformative technologies of the 21st century, revolutionizing various aspects of human life. From healthcare to finance, transportation to education, AI is reshaping industries, automating processes, and augmenting human capabilities. While AI presents numerous benefits, it also raises ethical, economic, and societal concerns that must be carefully navigated to ensure its responsible integration into society.\n",
      "\n",
      "One of the most profound impacts of AI is in the field of healthcare. AI-powered diagnostic tools enable early disease detection, improving patient outcomes and reducing healthcare costs. Machine learning algorithms analyze medical data to identify patterns that humans may overlook, aiding in personalized treatment plans. Robotic surgeries and AI-driven drug discoveries have further enhanced the efficiency of medical procedures. However, the integration of AI in\n",
      "\n",
      "=== Chunk 2 (Length: 105) ===\n",
      "healthcare raises concerns about data privacy, security, and potential biases in medical decision-making.\n"
     ]
    }
   ],
   "source": [
    "# Split the text\n",
    "english_text_chunks = chunk_text(english_doc)\n",
    "\n",
    "# Display chunk info\n",
    "print(f\"Total Chunks: {len(english_text_chunks)}\")\n",
    "for i, chunk in enumerate(\n",
    "    english_text_chunks[:3], 1\n",
    "):  # Show only first 3 chunks for preview\n",
    "    print(f\"\\n=== Chunk {i} (Length: {len(chunk)}) ===\\n{chunk}\")"
   ]
  },
  {
   "cell_type": "code",
   "execution_count": 8,
   "metadata": {},
   "outputs": [
    {
     "name": "stdout",
     "output_type": "stream",
     "text": [
      "Total Chunks: 2\n",
      "\n",
      "=== Chunk 1 (Length: 993) ===\n",
      "The Impact of Artificial Intelligence on Society\n",
      "\n",
      "Artificial Intelligence (AI) has emerged as one of the most transformative technologies of the 21st century, revolutionizing various aspects of human life. From healthcare to finance, transportation to education, AI is reshaping industries, automating processes, and augmenting human capabilities. While AI presents numerous benefits, it also raises ethical, economic, and societal concerns that must be carefully navigated to ensure its responsible integration into society.\n",
      "\n",
      "One of the most profound impacts of AI is in the field of healthcare. AI-powered diagnostic tools enable early disease detection, improving patient outcomes and reducing healthcare costs. Machine learning algorithms analyze medical data to identify patterns that humans may overlook, aiding in personalized treatment plans. Robotic surgeries and AI-driven drug discoveries have further enhanced the efficiency of medical procedures. However, the integration of AI in\n",
      "\n",
      "=== Chunk 2 (Length: 105) ===\n",
      "healthcare raises concerns about data privacy, security, and potential biases in medical decision-making.\n"
     ]
    }
   ],
   "source": [
    "# Split the text\n",
    "hindi_text_chunks = chunk_text(english_doc)\n",
    "\n",
    "# Display chunk info\n",
    "print(f\"Total Chunks: {len(hindi_text_chunks)}\")\n",
    "for i, chunk in enumerate(\n",
    "    hindi_text_chunks[:3], 1\n",
    "):  # Show only first 3 chunks for preview\n",
    "    print(f\"\\n=== Chunk {i} (Length: {len(chunk)}) ===\\n{chunk}\")"
   ]
  },
  {
   "attachments": {},
   "cell_type": "markdown",
   "metadata": {},
   "source": [
    "### **Step 3.3: Setting up the API Endpoint** \n",
    "\n",
    "There are three main types of translations we support:  \n",
    "\n",
    "1️⃣ **English to Indic** 🏛 → Translating from **English to Indian languages** (e.g., *\"Invoice total is $3,450.75.\" → \"इनवॉइस कुल राशि $3,450.75 है।\"*)  \n",
    "\n",
    "2️⃣ **Indic to English** 🌍 → Converting **Indian languages to English** (e.g., *\"आपका ऑर्डर सफलतापूर्वक दर्ज किया गया है।\" → \"Your order has been successfully placed.\"*)  \n",
    "\n",
    "3️⃣ **Indic to Indic** 🔄 → Translating **between Indian languages** (e.g., *Hindi → Tamil, Bengali → Marathi*).  \n"
   ]
  },
  {
   "cell_type": "code",
   "execution_count": 9,
   "metadata": {},
   "outputs": [],
   "source": [
    "# Initialize SarvamAI\n",
    "\n",
    "from sarvamai import SarvamAI\n",
    "\n",
    "client = SarvamAI(api_subscription_key=SARVAM_API_KEY)"
   ]
  },
  {
   "attachments": {},
   "cell_type": "markdown",
   "metadata": {},
   "source": [
    "### **Indic to Eng Translation**  "
   ]
  },
  {
   "cell_type": "code",
   "execution_count": 10,
   "metadata": {},
   "outputs": [
    {
     "name": "stdout",
     "output_type": "stream",
     "text": [
      "\n",
      "=== Translated Chunk 1 ===\n",
      "The Impact of Artificial Intelligence on Society\n",
      "\n",
      "Artificial Intelligence (AI) is revolutionizing various aspects of human life in the 21st century, from healthcare to finance, transportation to education. AI is reshaping industries, automating processes, and augmenting human capabilities. While it brings numerous benefits, it also raises ethical, economic, and societal concerns that need to be carefully navigated.\n",
      "\n",
      "One of the most profound impacts of AI is in the field of healthcare. AI-powered diagnostic tools enable early disease detection, improving patient outcomes and reducing healthcare costs. Machine learning algorithms analyze medical data to identify patterns that humans may overlook, aiding in personalized treatment plans. Robotic surgeries and AI-driven drug discoveries have revolutionized medical procedures.\n",
      "\n",
      "\n",
      "=== Translated Chunk 2 ===\n",
      "The use of healthcare raises significant concerns pertaining to data privacy, security, and potential biases in medical decision-making.\n",
      "\n",
      "\n",
      "=== Final Translated Text ===\n",
      "The Impact of Artificial Intelligence on Society\n",
      "\n",
      "Artificial Intelligence (AI) is revolutionizing various aspects of human life in the 21st century, from healthcare to finance, transportation to education. AI is reshaping industries, automating processes, and augmenting human capabilities. While it brings numerous benefits, it also raises ethical, economic, and societal concerns that need to be carefully navigated.\n",
      "\n",
      "One of the most profound impacts of AI is in the field of healthcare. AI-powered diagnostic tools enable early disease detection, improving patient outcomes and reducing healthcare costs. Machine learning algorithms analyze medical data to identify patterns that humans may overlook, aiding in personalized treatment plans. Robotic surgeries and AI-driven drug discoveries have revolutionized medical procedures.\n",
      "The use of healthcare raises significant concerns pertaining to data privacy, security, and potential biases in medical decision-making.\n"
     ]
    }
   ],
   "source": [
    "translated_texts = []\n",
    "for idx, chunk in enumerate(hindi_text_chunks):\n",
    "    response = client.text.translate(\n",
    "        input=chunk,\n",
    "        source_language_code=\"hi-IN\",\n",
    "        target_language_code=\"en-IN\",\n",
    "        speaker_gender=\"Male\",\n",
    "        mode=\"classic-colloquial\",\n",
    "        model=\"mayura:v1\",\n",
    "        enable_preprocessing=False,\n",
    "    )\n",
    "\n",
    "    translated_text = response.translated_text\n",
    "    print(f\"\\n=== Translated Chunk {idx + 1} ===\\n{translated_text}\\n\")\n",
    "    translated_texts.append(translated_text)\n",
    "\n",
    "# Combine all translated chunks\n",
    "final_translation = \"\\n\".join(translated_texts)\n",
    "print(\"\\n=== Final Translated Text ===\")\n",
    "print(final_translation)"
   ]
  },
  {
   "attachments": {},
   "cell_type": "markdown",
   "metadata": {},
   "source": [
    "### **Indic to Indic Translation**  "
   ]
  },
  {
   "cell_type": "code",
   "execution_count": 11,
   "metadata": {},
   "outputs": [
    {
     "name": "stdout",
     "output_type": "stream",
     "text": [
      "\n",
      "=== Translated Chunk 1 ===\n",
      "Artificial Intelligence-এর সমাজে প্রভাব\n",
      "\n",
      "21st century-তে Artificial Intelligence (AI) মানুষের জীবনের বিভিন্ন দিক বদলে দিচ্ছে। Healthcare থেকে finance, transportation থেকে education, AI industry-গুলোকে নতুন করে গড়ে তুলছে আর process-গুলোকে automate করছে। AI অনেক benefit দিলেও, ethical, economic, আর societal concern-ও তৈরি করছে, যেগুলো  carefully navigate করা দরকার।\n",
      "\n",
      "AI-এর একটা বড় impact healthcare sector-এ। AI-powered diagnostic tools-এর মাধ্যমে disease detection অনেক আগেই করা যায়, patient-দের outcome ভালো হয়, আর healthcare cost-ও কমে। Machine learning algorithm-গুলো medical data analyze করে এমন pattern খুঁজে বের করে, যেটা মানুষ overlook করতে পারে। এতে personalized treatment plan-এ help হয়। Robotic surgery আর AI-driven drug discovery, medical procedure-কে revolutionize করেছে।\n",
      "\n",
      "\n",
      "=== Translated Chunk 2 ===\n",
      "Healthcare use করার সময় data privacy, security, আর medical decision making-এ potential bias-এর মতো  concern-গুলো  গুরুত্বপূর্ণ।\n",
      "\n",
      "\n",
      "=== Translated Text Chunks in Bengali ===\n",
      "Artificial Intelligence-এর সমাজে প্রভাব\n",
      "\n",
      "21st century-তে Artificial Intelligence (AI) মানুষের জীবনের বিভিন্ন দিক বদলে দিচ্ছে। Healthcare থেকে finance, transportation থেকে education, AI industry-গুলোকে নতুন করে গড়ে তুলছে আর process-গুলোকে automate করছে। AI অনেক benefit দিলেও, ethical, economic, আর societal concern-ও তৈরি করছে, যেগুলো  carefully navigate করা দরকার।\n",
      "\n",
      "AI-এর একটা বড় impact healthcare sector-এ। AI-powered diagnostic tools-এর মাধ্যমে disease detection অনেক আগেই করা যায়, patient-দের outcome ভালো হয়, আর healthcare cost-ও কমে। Machine learning algorithm-গুলো medical data analyze করে এমন pattern খুঁজে বের করে, যেটা মানুষ overlook করতে পারে। এতে personalized treatment plan-এ help হয়। Robotic surgery আর AI-driven drug discovery, medical procedure-কে revolutionize করেছে।\n",
      "Healthcare use করার সময় data privacy, security, আর medical decision making-এ potential bias-এর মতো  concern-গুলো  গুরুত্বপূর্ণ।\n"
     ]
    }
   ],
   "source": [
    "translated_texts = []\n",
    "for idx, chunk in enumerate(hindi_text_chunks):\n",
    "    response = client.text.translate(\n",
    "        input=chunk,\n",
    "        source_language_code=\"hi-IN\",\n",
    "        target_language_code=\"bn-IN\",\n",
    "        speaker_gender=\"Male\",\n",
    "        mode=\"classic-colloquial\",\n",
    "        model=\"mayura:v1\",\n",
    "        enable_preprocessing=False,\n",
    "    )\n",
    "\n",
    "    translated_text = response.translated_text\n",
    "    print(f\"\\n=== Translated Chunk {idx + 1} ===\\n{translated_text}\\n\")\n",
    "    translated_texts.append(translated_text)\n",
    "\n",
    "# Combine all translated chunks\n",
    "final_translation = \"\\n\".join(translated_texts)\n",
    "print(\"\\n=== Translated Text Chunks in Bengali ===\")\n",
    "print(final_translation)"
   ]
  },
  {
   "attachments": {},
   "cell_type": "markdown",
   "metadata": {},
   "source": [
    "### **Eng to Indic Translation**  "
   ]
  },
  {
   "cell_type": "code",
   "execution_count": 12,
   "metadata": {},
   "outputs": [
    {
     "name": "stdout",
     "output_type": "stream",
     "text": [
      "\n",
      "=== Translated Chunk 1 ===\n",
      "Artificial Intelligence ਦਾ ਸਮਾਜ 'ਤੇ ਅਸਰ\n",
      "\n",
      "Artificial Intelligence (AI) 21ਵੀਂ ਸਦੀ ਦੀਆਂ ਸਭ ਤੋਂ ਵੱਡੀਆਂ technologies ਵਿੱਚੋਂ ਇੱਕ ਬਣ ਗਈ ਹੈ, ਜੋ ਮਨੁੱਖੀ ਜੀਵਨ ਦੇ ਕਈ ਪਹਿਲੂਆਂ ਨੂੰ ਬਦਲ ਰਹੀ ਹੈ। Healthcare ਤੋਂ ਲੈ ਕੇ finance, transportation ਤੋਂ ਲੈ ਕੇ education ਤੱਕ, AI industries ਨੂੰ ਬਦਲ ਰਹੀ ਹੈ, processes ਨੂੰ automate ਕਰ ਰਹੀ ਹੈ, ਅਤੇ ਮਨੁੱਖੀ ਯੋਗਤਾਵਾਂ ਨੂੰ ਵਧਾ ਰਹੀ ਹੈ। AI ਦੇ ਕਈ ਫਾਇਦੇ ਹਨ, ਪਰ ਇਸਦੇ ਨਾਲ ethical, economic, ਅਤੇ ਸਮਾਜਿਕ ਚਿੰਤਾਵਾਂ ਵੀ ਜੁੜੀਆਂ ਹਨ ਜਿਨ੍ਹਾਂ ਨੂੰ ਧਿਆਨ ਨਾਲ ਸਮਾਜ ਵਿੱਚ ਇਸਦੀ ਜ਼ਿੰਮੇਵਾਰ integration ਲਈ ਦੇਖਿਆ ਜਾਣਾ ਚਾਹੀਦਾ ਹੈ।\n",
      "\n",
      "AI ਦਾ ਸਭ ਤੋਂ ਵੱਡਾ ਪ੍ਰਭਾਵ healthcare ਦੇ ਖੇਤਰ ਵਿੱਚ ਹੈ। AI-powered diagnostic tools ਨਾਲ ਬਿਮਾਰੀ ਦਾ ਜਲਦੀ ਪਤਾ ਲੱਗ ਸਕਦਾ ਹੈ, ਜਿਸ ਨਾਲ ਮਰੀਜ਼ਾਂ ਦੇ ਨਤੀਜੇ ਸੁਧਰਦੇ ਹਨ ਅਤੇ healthcare costs ਘੱਟ ਹੁੰਦੇ ਹਨ। Machine learning algorithms medical data ਦਾ ਵਿਸ਼ਲੇਸ਼ਣ ਕਰਕੇ patterns ਲੱਭਦੇ ਹਨ ਜੋ ਮਨੁੱਖ ਨਹੀਂ ਦੇਖ ਸਕਦੇ, ਜਿਸ ਨਾਲ personalized treatment plans ਵਿੱਚ ਮਦਦ ਮਿਲਦੀ ਹੈ। Robotic surgeries ਅਤੇ AI-driven drug discoveries ਨੇ medical procedures ਦੀ efficiency ਵਧਾ ਦਿੱਤੀ ਹੈ। ਪਰ, AI ਦਾ integration\n",
      "\n",
      "\n",
      "=== Translated Chunk 2 ===\n",
      "healthcare ਵਿੱਚ data privacy, security ਅਤੇ medical decision-making ਵਿੱਚ potential biases ਬਾਰੇ ਚਿੰਤਾਵਾਂ ਹਨ।\n",
      "\n",
      "\n",
      "=== Final Translated Text ===\n",
      "Artificial Intelligence ਦਾ ਸਮਾਜ 'ਤੇ ਅਸਰ\n",
      "\n",
      "Artificial Intelligence (AI) 21ਵੀਂ ਸਦੀ ਦੀਆਂ ਸਭ ਤੋਂ ਵੱਡੀਆਂ technologies ਵਿੱਚੋਂ ਇੱਕ ਬਣ ਗਈ ਹੈ, ਜੋ ਮਨੁੱਖੀ ਜੀਵਨ ਦੇ ਕਈ ਪਹਿਲੂਆਂ ਨੂੰ ਬਦਲ ਰਹੀ ਹੈ। Healthcare ਤੋਂ ਲੈ ਕੇ finance, transportation ਤੋਂ ਲੈ ਕੇ education ਤੱਕ, AI industries ਨੂੰ ਬਦਲ ਰਹੀ ਹੈ, processes ਨੂੰ automate ਕਰ ਰਹੀ ਹੈ, ਅਤੇ ਮਨੁੱਖੀ ਯੋਗਤਾਵਾਂ ਨੂੰ ਵਧਾ ਰਹੀ ਹੈ। AI ਦੇ ਕਈ ਫਾਇਦੇ ਹਨ, ਪਰ ਇਸਦੇ ਨਾਲ ethical, economic, ਅਤੇ ਸਮਾਜਿਕ ਚਿੰਤਾਵਾਂ ਵੀ ਜੁੜੀਆਂ ਹਨ ਜਿਨ੍ਹਾਂ ਨੂੰ ਧਿਆਨ ਨਾਲ ਸਮਾਜ ਵਿੱਚ ਇਸਦੀ ਜ਼ਿੰਮੇਵਾਰ integration ਲਈ ਦੇਖਿਆ ਜਾਣਾ ਚਾਹੀਦਾ ਹੈ।\n",
      "\n",
      "AI ਦਾ ਸਭ ਤੋਂ ਵੱਡਾ ਪ੍ਰਭਾਵ healthcare ਦੇ ਖੇਤਰ ਵਿੱਚ ਹੈ। AI-powered diagnostic tools ਨਾਲ ਬਿਮਾਰੀ ਦਾ ਜਲਦੀ ਪਤਾ ਲੱਗ ਸਕਦਾ ਹੈ, ਜਿਸ ਨਾਲ ਮਰੀਜ਼ਾਂ ਦੇ ਨਤੀਜੇ ਸੁਧਰਦੇ ਹਨ ਅਤੇ healthcare costs ਘੱਟ ਹੁੰਦੇ ਹਨ। Machine learning algorithms medical data ਦਾ ਵਿਸ਼ਲੇਸ਼ਣ ਕਰਕੇ patterns ਲੱਭਦੇ ਹਨ ਜੋ ਮਨੁੱਖ ਨਹੀਂ ਦੇਖ ਸਕਦੇ, ਜਿਸ ਨਾਲ personalized treatment plans ਵਿੱਚ ਮਦਦ ਮਿਲਦੀ ਹੈ। Robotic surgeries ਅਤੇ AI-driven drug discoveries ਨੇ medical procedures ਦੀ efficiency ਵਧਾ ਦਿੱਤੀ ਹੈ। ਪਰ, AI ਦਾ integration\n",
      "healthcare ਵਿੱਚ data privacy, security ਅਤੇ medical decision-making ਵਿੱਚ potential biases ਬਾਰੇ ਚਿੰਤਾਵਾਂ ਹਨ।\n"
     ]
    }
   ],
   "source": [
    "translated_texts = []\n",
    "for idx, chunk in enumerate(english_text_chunks):\n",
    "    response = client.text.translate(\n",
    "        input=chunk,\n",
    "        source_language_code=\"en-IN\",\n",
    "        target_language_code=\"pa-IN\",\n",
    "        speaker_gender=\"Male\",\n",
    "        mode=\"classic-colloquial\",\n",
    "        model=\"mayura:v1\",\n",
    "        enable_preprocessing=False,\n",
    "    )\n",
    "\n",
    "    translated_text = response.translated_text\n",
    "    print(f\"\\n=== Translated Chunk {idx + 1} ===\\n{translated_text}\\n\")\n",
    "    translated_texts.append(translated_text)\n",
    "\n",
    "# Combine all translated chunks\n",
    "final_translation = \"\\n\".join(translated_texts)\n",
    "print(\"\\n=== Final Translated Text ===\")\n",
    "print(final_translation)"
   ]
  },
  {
   "attachments": {},
   "cell_type": "markdown",
   "metadata": {},
   "source": [
    "## **Step 4: Translation Modes**  \n",
    "\n",
    "### **Translation Modes & Differences**  \n",
    "\n",
    "1️⃣ **Formal** – Highly professional, uses **pure Hindi** (e.g., *\"कुल राशि\", \"देय है\"*). Suitable for **official documents, legal papers, and corporate communication**.  \n",
    "\n",
    "2️⃣ **Classic-Colloquial** – Balanced mix of **Hindi & English**, slightly informal (e.g., *\"कुल जोड़\", \"देना होगा\"*). Ideal for **business emails, customer support, and semi-formal communication**.  \n",
    "\n",
    "3️⃣ **Modern-Colloquial** – **Hinglish, casual, and direct** (e.g., *\"Invoice total\", \"due है\", \"contact करो\"*). Best for **chatbots, social media, and casual conversations**.  \n",
    "\n",
    "**📌 Rule of Thumb:**  \n",
    "- **Use Formal for official content** 🏛  \n",
    "- **Use Classic-Colloquial for general communication** 💬  \n",
    "- **Use Modern-Colloquial for everyday conversations** 🚀  \n",
    "\n"
   ]
  },
  {
   "cell_type": "code",
   "execution_count": 13,
   "metadata": {},
   "outputs": [],
   "source": [
    "# To highlight the difference between the models lets use the below example.\n",
    "full_text = (\n",
    "    \"The invoice total is $3,450.75, due by 15th March 2025. Contact us at support@example.com for queries. \"\n",
    "    \"Order #987654321 was placed on 02/29/2024. Your tracking ID is TRK12345678.\"\n",
    ")"
   ]
  },
  {
   "attachments": {},
   "cell_type": "markdown",
   "metadata": {},
   "source": [
    "### **Step 4.1: Classic Colloquial**  "
   ]
  },
  {
   "cell_type": "code",
   "execution_count": 14,
   "metadata": {},
   "outputs": [
    {
     "name": "stdout",
     "output_type": "stream",
     "text": [
      "\n",
      "=== Translated Text ===\n",
      " Invoice का कुल दाम $3,450.75 है, जो 15th March 2025 तक देना होगा। पूछताछ के लिए support@example.com पर हमसे contact करें। Order #987654321 02/29/2024 को लगाया गया था। आपका tracking ID TRK12345678 है।\n"
     ]
    }
   ],
   "source": [
    "response = client.text.translate(\n",
    "    input=full_text,\n",
    "    source_language_code=\"en-IN\",\n",
    "    target_language_code=\"hi-IN\",\n",
    "    speaker_gender=\"Male\",\n",
    "    mode=\"classic-colloquial\",\n",
    "    model=\"mayura:v1\",\n",
    "    enable_preprocessing=False,\n",
    ")\n",
    "translated_text = response.translated_text\n",
    "print(\"\\n=== Translated Text ===\\n\", translated_text)"
   ]
  },
  {
   "attachments": {},
   "cell_type": "markdown",
   "metadata": {},
   "source": [
    "### **Step 4.2: Formal**  "
   ]
  },
  {
   "cell_type": "code",
   "execution_count": 15,
   "metadata": {},
   "outputs": [
    {
     "name": "stdout",
     "output_type": "stream",
     "text": [
      "\n",
      "=== Translated Text ===\n",
      " इनवॉइस कुल राशि $3,450.75 है, जो 15 मार्च 2025 तक देय है। प्रश्नों के लिए support@example.com पर हमसे संपर्क करें। आदेश #987654321 02/29/2024 को दिया गया था। आपकी ट्रैकिंग आईडी टीआरके12345678 है।\n"
     ]
    }
   ],
   "source": [
    "response = client.text.translate(\n",
    "    input=full_text,\n",
    "    source_language_code=\"en-IN\",\n",
    "    target_language_code=\"hi-IN\",\n",
    "    speaker_gender=\"Male\",\n",
    "    mode=\"formal\",\n",
    "    model=\"mayura:v1\",\n",
    "    enable_preprocessing=False,\n",
    ")\n",
    "translated_text = response.translated_text\n",
    "print(\"\\n=== Translated Text ===\\n\", translated_text)"
   ]
  },
  {
   "attachments": {},
   "cell_type": "markdown",
   "metadata": {},
   "source": [
    "### **Step 4.3: Modern Colloquial**  "
   ]
  },
  {
   "cell_type": "code",
   "execution_count": 16,
   "metadata": {},
   "outputs": [
    {
     "name": "stdout",
     "output_type": "stream",
     "text": [
      "\n",
      "=== Translated Text ===\n",
      " Invoice total $3,450.75 है, 15th March 2025 तक due है। Queries के लिए support@example.com पर contact कीजिए। Order #987654321 02/29/2024 को place हुआ था। आपका tracking ID TRK12345678 है।\n"
     ]
    }
   ],
   "source": [
    "response = client.text.translate(\n",
    "    input=full_text,\n",
    "    source_language_code=\"en-IN\",\n",
    "    target_language_code=\"hi-IN\",\n",
    "    speaker_gender=\"Male\",\n",
    "    mode=\"modern-colloquial\",\n",
    "    model=\"mayura:v1\",\n",
    "    enable_preprocessing=False,\n",
    ")\n",
    "translated_text = response.translated_text\n",
    "print(\"\\n=== Translated Text ===\\n\", translated_text)"
   ]
  },
  {
   "attachments": {},
   "cell_type": "markdown",
   "metadata": {},
   "source": [
    "## **Step 5: Advanced Features**  \n",
    "\n",
    "\n",
    "\n"
   ]
  },
  {
   "attachments": {},
   "cell_type": "markdown",
   "metadata": {},
   "source": [
    "### **Step 5.1: Speaker Gender**  \n",
    "\n",
    "The translation model supports **Male** and **Female** speaker options, which impact the tone and style of the output.  \n",
    "\n",
    "1️⃣ **Male Voice** 🔵 \n",
    "\n",
    "2️⃣ **Female Voice** 🔴 \n"
   ]
  },
  {
   "attachments": {},
   "cell_type": "markdown",
   "metadata": {},
   "source": [
    "### **Female**  "
   ]
  },
  {
   "cell_type": "code",
   "execution_count": 17,
   "metadata": {},
   "outputs": [
    {
     "name": "stdout",
     "output_type": "stream",
     "text": [
      "\n",
      "=== Translated Text ===\n",
      " Invoice total $3,450.75 है, 15th March 2025 तक due है। Queries के लिए support@example.com पर contact कीजिए। Order #987654321 02/29/2024 को place हुआ था। आपका tracking ID TRK12345678 है।\n"
     ]
    }
   ],
   "source": [
    "response = client.text.translate(\n",
    "    input=full_text,\n",
    "    source_language_code=\"en-IN\",\n",
    "    target_language_code=\"hi-IN\",\n",
    "    speaker_gender=\"Female\",\n",
    "    mode=\"modern-colloquial\",\n",
    "    model=\"mayura:v1\",\n",
    "    enable_preprocessing=False,\n",
    ")\n",
    "translated_text = response.translated_text\n",
    "print(\"\\n=== Translated Text ===\\n\", translated_text)"
   ]
  },
  {
   "attachments": {},
   "cell_type": "markdown",
   "metadata": {},
   "source": [
    "### **Male**  "
   ]
  },
  {
   "cell_type": "code",
   "execution_count": 18,
   "metadata": {},
   "outputs": [
    {
     "name": "stdout",
     "output_type": "stream",
     "text": [
      "\n",
      "=== Translated Text ===\n",
      " Invoice total $3,450.75 है, 15th March 2025 तक due है। Queries के लिए support@example.com पर contact कीजिए। Order #987654321 02/29/2024 को place हुआ था। आपका tracking ID TRK12345678 है।\n"
     ]
    }
   ],
   "source": [
    "response = client.text.translate(\n",
    "    input=full_text,\n",
    "    source_language_code=\"en-IN\",\n",
    "    target_language_code=\"hi-IN\",\n",
    "    speaker_gender=\"Male\",\n",
    "    mode=\"modern-colloquial\",\n",
    "    model=\"mayura:v1\",\n",
    "    enable_preprocessing=False,\n",
    ")\n",
    "translated_text = response.translated_text\n",
    "print(\"\\n=== Translated Text ===\\n\", translated_text)"
   ]
  },
  {
   "attachments": {},
   "cell_type": "markdown",
   "metadata": {},
   "source": [
    "### **Step 5.2: Numerals Format Feature**  \n",
    "\n",
    "The `numerals_format` parameter controls how numbers appear in the translation. It has two options:  \n",
    "\n",
    "1️⃣ **International (Default)** 🌍 → Uses standard **0-9** numerals.  \n",
    "✅ Example: *\"मेरा phone number है: 9840950950.\"*  \n",
    "✅ Best for **universally understood content, technical documents, and modern usage**.  \n",
    "\n",
    "2️⃣ **Native** 🔡 → Uses **language-specific** numerals.  \n",
    "✅ Example: *\"मेरा phone number है: ९८४०९५०९५०.\"*  \n",
    "✅ Ideal for **traditional texts, cultural adaptation, and regional content**.  \n",
    "\n",
    "**📌 When to Use What?**  \n",
    "- Use **International** for **wider readability and digital content** 📱  \n",
    "- Use **Native** for **localized, heritage-focused, and print media content** 📖  \n"
   ]
  },
  {
   "attachments": {},
   "cell_type": "markdown",
   "metadata": {},
   "source": [
    "### **Native**  "
   ]
  },
  {
   "cell_type": "code",
   "execution_count": 19,
   "metadata": {},
   "outputs": [
    {
     "name": "stdout",
     "output_type": "stream",
     "text": [
      "\n",
      "=== Translated Text ===\n",
      " Invoice total $३,४५०.७५ है, १५th March २०२५ तक due है। Queries के लिए support@example.com पर contact कीजिए। Order #९८७६५४३२१ ०२/२९/२०२४ को place हुआ था। आपका tracking ID TRK१२३४५६७८ है।\n"
     ]
    }
   ],
   "source": [
    "response = client.text.translate(\n",
    "    input=full_text,\n",
    "    source_language_code=\"en-IN\",\n",
    "    target_language_code=\"hi-IN\",\n",
    "    speaker_gender=\"Male\",\n",
    "    mode=\"modern-colloquial\",\n",
    "    model=\"mayura:v1\",\n",
    "    enable_preprocessing=False,\n",
    "    numerals_format=\"native\",\n",
    ")\n",
    "translated_text = response.translated_text\n",
    "print(\"\\n=== Translated Text ===\\n\", translated_text)"
   ]
  },
  {
   "attachments": {},
   "cell_type": "markdown",
   "metadata": {},
   "source": [
    "### **International**  "
   ]
  },
  {
   "cell_type": "code",
   "execution_count": 20,
   "metadata": {},
   "outputs": [
    {
     "name": "stdout",
     "output_type": "stream",
     "text": [
      "\n",
      "=== Translated Text ===\n",
      " Invoice total $3,450.75 है, 15th March 2025 तक due है। Queries के लिए support@example.com पर contact कीजिए। Order #987654321 02/29/2024 को place हुआ था। आपका tracking ID TRK12345678 है।\n"
     ]
    }
   ],
   "source": [
    "response = client.text.translate(\n",
    "    input=full_text,\n",
    "    source_language_code=\"en-IN\",\n",
    "    target_language_code=\"hi-IN\",\n",
    "    speaker_gender=\"Male\",\n",
    "    mode=\"modern-colloquial\",\n",
    "    model=\"mayura:v1\",\n",
    "    enable_preprocessing=False,\n",
    "    numerals_format=\"international\",\n",
    ")\n",
    "translated_text = response.translated_text\n",
    "print(\"\\n=== Translated Text ===\\n\", translated_text)"
   ]
  },
  {
   "attachments": {},
   "cell_type": "markdown",
   "metadata": {},
   "source": [
    "### **Step 5.3: Numerals Format Feature**  \n",
    "\n",
    "The `output_script` parameter controls how the translated text is **transliterated**, i.e., how it appears in different scripts while keeping pronunciation intact.  \n",
    "\n",
    "### **Transliteration Options:**  \n",
    "\n",
    "1️⃣ **Default (null)** – No transliteration applied.  \n",
    "✅ Example: *\"आपका Rs. 3000 का EMI pending है।\"*  \n",
    "✅ Best for **modern, mixed-language content**.  \n",
    "\n",
    "2️⃣ **Roman** – Converts the output into **Romanized Hindi**.  \n",
    "✅ Example: *\"aapka Rs. 3000 ka EMI pending hai.\"*  \n",
    "✅ Ideal for **users who can speak but not read native scripts**.  \n",
    "\n",
    "3️⃣ **Fully-Native** – Uses **formal native script transliteration**.  \n",
    "✅ Example: *\"आपका रु. 3000 का ई.एम.ऐ. पेंडिंग है।\"*  \n",
    "✅ Best for **official documents and structured writing**.  \n",
    "\n",
    "4️⃣ **Spoken-Form-in-Native** – Uses **native script but mimics spoken style**.  \n",
    "✅ Example: *\"आपका थ्री थाउजेंड रूपीस का ईएमअइ पेंडिंग है।\"*  \n",
    "✅ Ideal for **voice assistants, conversational AI, and informal speech**.  \n",
    "\n",
    "### **📌 When to Use What?**  \n",
    "- **Default** – For natural, mixed-language modern writing ✍️  \n",
    "- **Roman** – For users unfamiliar with native scripts 🔤  \n",
    "- **Fully-Native** – For formal, structured translations 🏛  \n",
    "- **Spoken-Form-in-Native** – For casual speech and voice applications 🎙  \n"
   ]
  },
  {
   "cell_type": "code",
   "execution_count": 21,
   "metadata": {},
   "outputs": [
    {
     "name": "stdout",
     "output_type": "stream",
     "text": [
      "\n",
      "=== Translated Text ===\n",
      " Invoice total $3,450.75 hai, 15th March 2025 tak due hai. Queries ke liye support@example.com par contact kijiye. Order #987654321 02/29/2024 ko place hua tha. Aapka tracking ID TRK12345678 hai.\n"
     ]
    }
   ],
   "source": [
    "response = client.text.translate(\n",
    "    input=full_text,\n",
    "    source_language_code=\"en-IN\",\n",
    "    target_language_code=\"hi-IN\",\n",
    "    speaker_gender=\"Male\",\n",
    "    mode=\"modern-colloquial\",\n",
    "    model=\"mayura:v1\",\n",
    "    enable_preprocessing=False,\n",
    "    output_script=\"roman\",\n",
    "    numerals_format=\"international\",\n",
    ")\n",
    "translated_text = response.translated_text\n",
    "print(\"\\n=== Translated Text ===\\n\", translated_text)"
   ]
  },
  {
   "cell_type": "code",
   "execution_count": 22,
   "metadata": {},
   "outputs": [
    {
     "name": "stdout",
     "output_type": "stream",
     "text": [
      "\n",
      "=== Translated Text ===\n",
      " इनवॉइस टोटल थ्री थाउजेंड, फोर हंड्रेड एंड फिफ्टी पॉइंट सेवन फाइव यू एस डॉलर्स है, फिफ्टीन्थ मार्च ट्वेंटी ट्वेंटी फाइव तक ड्यू है। क्वेरीज़ के लिए सपोर्ट एट द रेट एक्जाम्पल डॉट कॉम पर कांटेक्ट कीजिए। ऑर्डर हैश नाइन एइट सेवन, सिक्स फाइव फोर, थ्री टू वन ट्वेंटी नाइंथ फ़रवरी ट्वेंटी ट्वेंटी फोर को प्लेस हुआ था। आपका ट्रैकिंग आईडी टी आर के वन टू थ्री, फोर फाइव सिक्स, सेवन एइट है।\n"
     ]
    }
   ],
   "source": [
    "response = client.text.translate(\n",
    "    input=full_text,\n",
    "    source_language_code=\"en-IN\",\n",
    "    target_language_code=\"hi-IN\",\n",
    "    speaker_gender=\"Male\",\n",
    "    mode=\"modern-colloquial\",\n",
    "    model=\"mayura:v1\",\n",
    "    enable_preprocessing=False,\n",
    "    output_script=\"spoken-form-in-native\",\n",
    "    numerals_format=\"international\",\n",
    ")\n",
    "translated_text = response.translated_text\n",
    "print(\"\\n=== Translated Text ===\\n\", translated_text)"
   ]
  },
  {
   "cell_type": "code",
   "execution_count": 23,
   "metadata": {},
   "outputs": [
    {
     "name": "stdout",
     "output_type": "stream",
     "text": [
      "\n",
      "=== Translated Text ===\n",
      " इनवॉइस टोटल $3,450.75 है, 15थ मार्च 2025 तक ड्यू है। क्वेरीज़ के लिए support@example.com पर कॉन्टैक्ट कीजिए। ऑर्डर #987654321 02/29/2024 को प्लेस हुआ था। आपका ट्रैकिंग आईडी टीआरके12345678 है।\n"
     ]
    }
   ],
   "source": [
    "response = client.text.translate(\n",
    "    input=full_text,\n",
    "    source_language_code=\"en-IN\",\n",
    "    target_language_code=\"hi-IN\",\n",
    "    speaker_gender=\"Male\",\n",
    "    mode=\"modern-colloquial\",\n",
    "    model=\"mayura:v1\",\n",
    "    enable_preprocessing=False,\n",
    "    output_script=\"fully-native\",\n",
    "    numerals_format=\"international\",\n",
    ")\n",
    "translated_text = response.translated_text\n",
    "print(\"\\n=== Translated Text ===\\n\", translated_text)"
   ]
  },
  {
   "cell_type": "markdown",
   "metadata": {},
   "source": [
    "\n",
    "\n",
    "## **6️. Error Handling**  \n",
    "\n",
    "You may encounter these errors while using the API:  \n",
    "\n",
    "- **403 Forbidden** (`invalid_api_key_error`)  \n",
    "  - Cause: Invalid API key.  \n",
    "  - Solution: Use a valid API key from the [Sarvam AI Dashboard](https://dashboard.sarvam.ai/).  \n",
    "\n",
    "- **429 Too Many Requests** (`insufficient_quota_error`)  \n",
    "  - Cause: Exceeded API quota.  \n",
    "  - Solution: Check your usage, upgrade if needed, or implement exponential backoff when retrying.  \n",
    "\n",
    "- **500 Internal Server Error** (`internal_server_error`)  \n",
    "  - Cause: Issue on our servers.  \n",
    "  - Solution: Try again later. If persistent, contact support.  \n",
    "\n",
    "- **400 Bad Request** (`invalid_request_error`)  \n",
    "  - Cause: Incorrect request formatting.  \n",
    "  - Solution: Verify your request structure and parameters.  \n",
    "\n"
   ]
  },
  {
   "cell_type": "markdown",
   "metadata": {},
   "source": [
    "### **7. Additional Resources**\n",
    "\n",
    "For more details, refer to the our official documentation and we are always there to support and help you on our Discord Server:\n",
    "\n",
    "- **Documentation**: [docs.sarvam.ai](https://docs.sarvam.ai)  \n",
    "- **Community**: [Join the Discord Community](https://discord.gg/hTuVuPNF)\n",
    "\n",
    "---\n",
    "\n",
    "### **8. Final Notes**\n",
    "\n",
    "- Keep your API key secure.\n",
    "- Use clear audio for best results.\n",
    "- Explore advanced features like diarization and translation.\n",
    "\n",
    "**Keep Building!** 🚀"
   ]
  },
  {
   "cell_type": "markdown",
   "metadata": {},
   "source": []
  }
 ],
 "metadata": {
  "kernelspec": {
   "display_name": "base",
   "language": "python",
   "name": "python3"
  },
  "language_info": {
   "codemirror_mode": {
    "name": "ipython",
    "version": 3
   },
   "file_extension": ".py",
   "mimetype": "text/x-python",
   "name": "python",
   "nbconvert_exporter": "python",
   "pygments_lexer": "ipython3",
   "version": "3.12.9"
  },
  "orig_nbformat": 4
 },
 "nbformat": 4,
 "nbformat_minor": 2
}
